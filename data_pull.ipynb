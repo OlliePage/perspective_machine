{
 "cells": [
  {
   "cell_type": "code",
   "execution_count": 46,
   "metadata": {},
   "outputs": [],
   "source": [
    "from pathlib import Path\n",
    "from typing import List, Any, Dict\n",
    "import requests\n",
    "import pandas as pd"
   ]
  },
  {
   "cell_type": "code",
   "execution_count": 12,
   "metadata": {},
   "outputs": [],
   "source": [
    "r = requests.get('https://api.beta.ons.gov.uk/v1/datasets')\n",
    "dataset_titles = []\n",
    "dataset_descriptions: List[Any] = []\n",
    "dataset_ids: List[Any] = []\n",
    "for i in range(len(r.json()['items'])):\n",
    "    dataset_titles.append(r.json()['items'][i]['title'])\n",
    "    dataset_descriptions.append(r.json()['items'][i]['description'])\n",
    "    dataset_ids.append(r.json()['items'][i]['id'])\n",
    "\n",
    "table_of_codes = pd.DataFrame(data={'title': dataset_titles,\n",
    "                   'description': dataset_descriptions,\n",
    "                  'dataset_id': dataset_ids})"
   ]
  },
  {
   "cell_type": "markdown",
   "metadata": {},
   "source": [
    "## find information about a dataset\n",
    "we need to know the following items to make a correct api call:\n",
    "* edition\n",
    "* version\n",
    "* time\n",
    "* aggregate \n",
    "* geography\n",
    "* dimension"
   ]
  },
  {
   "cell_type": "markdown",
   "metadata": {},
   "source": [
    "> This allows querying of a single observation/value by providing one option per dimension, but will also allow one of these dimensions to be a ‘wildcard’ and return all values for this dimension.\n",
    "\n",
    "`/datasets/{datasetId}/editions/{edition}/versions/{version}/observations?time={timeLabel}&geography={geographyID}&dimension3={dimension3ID}&dimension4={dimension4ID}...`"
   ]
  },
  {
   "cell_type": "code",
   "execution_count": 13,
   "metadata": {},
   "outputs": [],
   "source": [
    "def post(extension, is_ok=False):\n",
    "    r = requests.get(f'https://api.beta.ons.gov.uk/v1/' + extension)\n",
    "    if is_ok:\n",
    "        print(r)\n",
    "    return r.json()"
   ]
  },
  {
   "cell_type": "markdown",
   "metadata": {},
   "source": [
    "`/datasets/cpih01/editions/time-series/versions/6/observations?time=Oct-11&geography=K02000001&aggregate=cpih1dim1A0`"
   ]
  },
  {
   "cell_type": "markdown",
   "metadata": {},
   "source": [
    "### editions param"
   ]
  },
  {
   "cell_type": "code",
   "execution_count": 14,
   "metadata": {},
   "outputs": [],
   "source": [
    "editions = post('/datasets/cpih01/editions')"
   ]
  },
  {
   "cell_type": "code",
   "execution_count": 15,
   "outputs": [
    {
     "data": {
      "text/plain": "'time-series'"
     },
     "execution_count": 15,
     "metadata": {},
     "output_type": "execute_result"
    }
   ],
   "source": [
    "editions['items'][0]['edition']"
   ],
   "metadata": {
    "collapsed": false,
    "pycharm": {
     "name": "#%%\n"
    }
   }
  },
  {
   "cell_type": "code",
   "execution_count": 16,
   "metadata": {},
   "outputs": [],
   "source": [
    "mother_df = pd.DataFrame.from_dict(post('/datasets/cpih01/editions/time-series/versions')['items'][3], orient='index').T"
   ]
  },
  {
   "cell_type": "code",
   "execution_count": 17,
   "metadata": {},
   "outputs": [],
   "source": [
    "for i in range(len(post('/datasets/cpih01/editions/time-series/versions')['items'])):\n",
    "    try:\n",
    "        my_dict = post('/datasets/cpih01/editions/time-series/versions')['items'][i+1]\n",
    "        df = pd.DataFrame.from_dict(my_dict, orient='index').T\n",
    "        mother_df = mother_df.append(df)\n",
    "    except:\n",
    "        pass\n"
   ]
  },
  {
   "cell_type": "code",
   "execution_count": 18,
   "metadata": {},
   "outputs": [
    {
     "data": {
      "text/plain": "  collection_id                                         dimensions  \\\n0         12345  [{'description': 'Includes the complete availa...   \n0         12345  [{'description': 'Includes the complete availa...   \n0         12345  [{'description': 'Includes the complete availa...   \n0         12345  [{'description': 'Includes the complete availa...   \n\n                                           downloads      edition  \\\n0  {'csv': {'href': 'https://download.beta.ons.go...  time-series   \n0  {'csv': {'href': 'https://download.beta.ons.go...  time-series   \n0  {'csv': {'href': 'https://download.beta.ons.go...  time-series   \n0  {'csv': {'href': 'https://download.beta.ons.go...  time-series   \n\n                                     id  \\\n0  f75c9f72-ae23-4271-a9f2-8ccca43b5b38   \n0  bede15c1-52b5-4bb8-be6a-67fd60ef837f   \n0  1cde4c8c-8dd3-49a3-8641-91e9309eded0   \n0  f75c9f72-ae23-4271-a9f2-8ccca43b5b38   \n\n                                               links  \\\n0  {'dataset': {'href': 'https://api.beta.ons.gov...   \n0  {'dataset': {'href': 'https://api.beta.ons.gov...   \n0  {'dataset': {'href': 'https://api.beta.ons.gov...   \n0  {'dataset': {'href': 'https://api.beta.ons.gov...   \n\n               release_date      state version  \n0  2018-02-13T00:00:00.000Z  published       4  \n0  2017-12-12T00:00:00.000Z  published       2  \n0  2018-01-16T00:00:00.000Z  published       3  \n0  2018-02-13T00:00:00.000Z  published       4  ",
      "text/html": "<div>\n<style scoped>\n    .dataframe tbody tr th:only-of-type {\n        vertical-align: middle;\n    }\n\n    .dataframe tbody tr th {\n        vertical-align: top;\n    }\n\n    .dataframe thead th {\n        text-align: right;\n    }\n</style>\n<table border=\"1\" class=\"dataframe\">\n  <thead>\n    <tr style=\"text-align: right;\">\n      <th></th>\n      <th>collection_id</th>\n      <th>dimensions</th>\n      <th>downloads</th>\n      <th>edition</th>\n      <th>id</th>\n      <th>links</th>\n      <th>release_date</th>\n      <th>state</th>\n      <th>version</th>\n    </tr>\n  </thead>\n  <tbody>\n    <tr>\n      <th>0</th>\n      <td>12345</td>\n      <td>[{'description': 'Includes the complete availa...</td>\n      <td>{'csv': {'href': 'https://download.beta.ons.go...</td>\n      <td>time-series</td>\n      <td>f75c9f72-ae23-4271-a9f2-8ccca43b5b38</td>\n      <td>{'dataset': {'href': 'https://api.beta.ons.gov...</td>\n      <td>2018-02-13T00:00:00.000Z</td>\n      <td>published</td>\n      <td>4</td>\n    </tr>\n    <tr>\n      <th>0</th>\n      <td>12345</td>\n      <td>[{'description': 'Includes the complete availa...</td>\n      <td>{'csv': {'href': 'https://download.beta.ons.go...</td>\n      <td>time-series</td>\n      <td>bede15c1-52b5-4bb8-be6a-67fd60ef837f</td>\n      <td>{'dataset': {'href': 'https://api.beta.ons.gov...</td>\n      <td>2017-12-12T00:00:00.000Z</td>\n      <td>published</td>\n      <td>2</td>\n    </tr>\n    <tr>\n      <th>0</th>\n      <td>12345</td>\n      <td>[{'description': 'Includes the complete availa...</td>\n      <td>{'csv': {'href': 'https://download.beta.ons.go...</td>\n      <td>time-series</td>\n      <td>1cde4c8c-8dd3-49a3-8641-91e9309eded0</td>\n      <td>{'dataset': {'href': 'https://api.beta.ons.gov...</td>\n      <td>2018-01-16T00:00:00.000Z</td>\n      <td>published</td>\n      <td>3</td>\n    </tr>\n    <tr>\n      <th>0</th>\n      <td>12345</td>\n      <td>[{'description': 'Includes the complete availa...</td>\n      <td>{'csv': {'href': 'https://download.beta.ons.go...</td>\n      <td>time-series</td>\n      <td>f75c9f72-ae23-4271-a9f2-8ccca43b5b38</td>\n      <td>{'dataset': {'href': 'https://api.beta.ons.gov...</td>\n      <td>2018-02-13T00:00:00.000Z</td>\n      <td>published</td>\n      <td>4</td>\n    </tr>\n  </tbody>\n</table>\n</div>"
     },
     "execution_count": 18,
     "metadata": {},
     "output_type": "execute_result"
    }
   ],
   "source": [
    "mother_df.head()"
   ]
  },
  {
   "cell_type": "markdown",
   "metadata": {},
   "source": [
    "* find out how many versions there are\n",
    "* for each version, grab all the dimensions\n",
    "* select a trivial day in the time slot so we can see all the dimensions"
   ]
  },
  {
   "cell_type": "code",
   "execution_count": 19,
   "metadata": {},
   "outputs": [
    {
     "name": "stdout",
     "output_type": "stream",
     "text": [
      "<Response [200]>\n"
     ]
    },
    {
     "data": {
      "text/plain": "{'count': 1,\n 'items': [{'edition': 'one-off',\n   'label': 'geography',\n   'links': {'codes': {'href': 'https://api.beta.ons.gov.uk/v1/code-lists/mid-year-pop-geography/editions/one-off/codes'},\n    'editions': {'href': 'https://api.beta.ons.gov.uk/v1/code-lists/mid-year-pop-geography/editions'},\n    'self': {'href': 'https://api.beta.ons.gov.uk/v1/code-lists/mid-year-pop-geography/editions/one-off',\n     'id': 'one-off'}}}],\n 'limit': 1,\n 'offset': 0,\n 'total_count': 1}"
     },
     "execution_count": 19,
     "metadata": {},
     "output_type": "execute_result"
    }
   ],
   "source": [
    "post('/code-lists/mid-year-pop-geography/editions', is_ok=True)"
   ]
  },
  {
   "cell_type": "code",
   "execution_count": 20,
   "metadata": {},
   "outputs": [
    {
     "data": {
      "text/plain": "[{'description': 'Includes the complete available monthly time series for CPIH. Yearly and quarterly data are also available from the main ONS website.',\n  'href': 'https://api.beta.ons.gov.uk/v1/code-lists/time',\n  'id': 'time',\n  'links': {'code_list': {}, 'options': {}, 'version': {}},\n  'name': 'time'},\n {'description': 'Provides data at national level for the United Kingdom only. No breakdown of this data to smaller areas is available.',\n  'href': 'https://api.beta.ons.gov.uk/v1/code-lists/uk-only',\n  'id': 'uk-only',\n  'links': {'code_list': {}, 'options': {}, 'version': {}},\n  'name': 'geography'},\n {'description': 'The CPIH indices are categorised according to the international classification system for household consumption expenditures known as COICOP (Classification Of Individual Consumption According to Purpose). COICOP is a hierarchical classification system comprising of Divisions (COICOP2) e.g. 01 Food & non-alcoholic beverages, Groups (COICOP3) e.g. 01.1 Food, and Classes (COICOP4) e.g. 01.1.1 Bread and cereals. An additional level of detail was added to the COICOP classification on the 21 March 2017 (COICOP5) which is now the lowest published level.',\n  'href': 'https://api.beta.ons.gov.uk/v1/code-lists/cpih1dim1aggid',\n  'id': 'cpih1dim1aggid',\n  'label': 'Goods and services',\n  'links': {'code_list': {}, 'options': {}, 'version': {}},\n  'name': 'aggregate'}]"
     },
     "execution_count": 20,
     "metadata": {},
     "output_type": "execute_result"
    }
   ],
   "source": [
    "post('/datasets/cpih01/editions/time-series/versions/6')['dimensions']"
   ]
  },
  {
   "cell_type": "markdown",
   "metadata": {},
   "source": [
    "`observations?time={timeLabel}&geography={geographyID}&dimension3={dimension3ID}&dimension4={dimension4ID}`"
   ]
  },
  {
   "cell_type": "code",
   "execution_count": 21,
   "metadata": {},
   "outputs": [
    {
     "data": {
      "text/plain": "dict_keys(['@context', 'dimensions', 'limit', 'links', 'observations', 'offset', 'total_observations', 'unit_of_measure', 'usage_notes'])"
     },
     "execution_count": 21,
     "metadata": {},
     "output_type": "execute_result"
    }
   ],
   "source": [
    "post('/datasets/cpih01/editions/time-series/versions/30/observations?time=Oct-11&geography=K02000001&aggregate=*').keys()"
   ]
  },
  {
   "cell_type": "code",
   "execution_count": 22,
   "metadata": {},
   "outputs": [
    {
     "data": {
      "text/plain": "'09.1.2 Photographic, cinematographic and optical equipment'"
     },
     "execution_count": 22,
     "metadata": {},
     "output_type": "execute_result"
    }
   ],
   "source": [
    "post('/datasets/cpih01/editions/time-series/versions/30/observations?time=Jan-03&geography=K02000001&aggregate=*')\\\n",
    "    ['observations'][0]['dimensions']['aggregate']['label']"
   ]
  },
  {
   "cell_type": "code",
   "execution_count": 23,
   "metadata": {},
   "outputs": [
    {
     "name": "stdout",
     "output_type": "stream",
     "text": [
      "aggregate\n"
     ]
    }
   ],
   "source": [
    "for dimension in post('/datasets/cpih01/editions/time-series/versions/30/observations?time=Jan-03&geography=K02000001&aggregate=*')\\\n",
    "        ['observations'][0]['dimensions'].keys():\n",
    "    print(dimension)"
   ]
  },
  {
   "cell_type": "markdown",
   "metadata": {
    "pycharm": {
     "name": "#%% md\n"
    }
   },
   "source": [
    "Create a chart from Population Estimates for UK, Wales, etc.\n",
    "\n",
    "* dataset\n",
    "* edition\n",
    "* version\n",
    "* time\n",
    "* aggregate\n",
    "* geography\n",
    "* dimension\n",
    "\n",
    "code: mid-year-pop-est"
   ]
  },
  {
   "cell_type": "code",
   "execution_count": 35,
   "outputs": [],
   "source": [
    "dataset_id = 'mid-year-pop-est'"
   ],
   "metadata": {
    "collapsed": false,
    "pycharm": {
     "name": "#%%\n"
    }
   }
  },
  {
   "cell_type": "code",
   "execution_count": 25,
   "outputs": [
    {
     "name": "stdout",
     "output_type": "stream",
     "text": [
      "<Response [200]>\n"
     ]
    }
   ],
   "source": [
    "uk_population_dataset = post(f'/datasets/{dataset_id}', is_ok=True)"
   ],
   "metadata": {
    "collapsed": false,
    "pycharm": {
     "name": "#%%\n"
    }
   }
  },
  {
   "cell_type": "code",
   "execution_count": 26,
   "outputs": [
    {
     "data": {
      "text/plain": "['@context',\n 'contacts',\n 'description',\n 'id',\n 'keywords',\n 'license',\n 'links',\n 'methodologies',\n 'national_statistic',\n 'next_release',\n 'publications',\n 'publisher',\n 'qmi',\n 'related_datasets',\n 'release_frequency',\n 'state',\n 'theme',\n 'title',\n 'unit_of_measure']"
     },
     "execution_count": 26,
     "metadata": {},
     "output_type": "execute_result"
    }
   ],
   "source": [
    "list(uk_population_dataset.keys())"
   ],
   "metadata": {
    "collapsed": false,
    "pycharm": {
     "name": "#%%\n"
    }
   }
  },
  {
   "cell_type": "code",
   "execution_count": 27,
   "outputs": [
    {
     "data": {
      "text/plain": "{'@context': 'https://cdn.ons.gov.uk/assets/json-ld/context.json',\n 'contacts': [{'email': 'pop.info@ons.gov.uk ',\n   'name': 'Neil Park ',\n   'telephone': '+44 (0)1329 444661'}],\n 'description': 'Estimates of the usual resident population for the UK as at 30 June of the reference year. Provided by administrative area, single year of age and sex.',\n 'id': 'mid-year-pop-est',\n 'keywords': ['Population'],\n 'license': 'Open Government Licence v3.0',\n 'links': {'access_rights': {},\n  'editions': {'href': 'https://api.beta.ons.gov.uk/v1/datasets/mid-year-pop-est/editions'},\n  'latest_version': {'href': 'https://api.beta.ons.gov.uk/v1/datasets/mid-year-pop-est/editions/time-series/versions/4',\n   'id': '4'},\n  'self': {'href': 'https://api.beta.ons.gov.uk/v1/datasets/mid-year-pop-est'}},\n 'methodologies': [{'description': 'Background information and methods changes for this year',\n   'href': 'https://www.ons.gov.uk/peoplepopulationandcommunity/populationandmigration/populationestimates/methodologies/methodologyguideformid2015ukpopulationestimatesenglandandwalesjune2016',\n   'title': 'Methodology guide for mid-2017 UK population estimates (England and Wales): June 2018'}],\n 'national_statistic': True,\n 'next_release': 'June 2019',\n 'publications': [{'href': 'https://www.ons.gov.uk/peoplepopulationandcommunity/populationandmigration/populationestimates/bulletins/annualmidyearpopulationestimates/latest',\n   'title': 'Population estimates for UK, England and Wales, Scotland and Northern Ireland'}],\n 'publisher': {'href': 'https://www.ons.gov.uk',\n  'name': 'Office for National Statistics (ONS)',\n  'type': 'Non-ministerial department'},\n 'qmi': {'href': 'https://www.ons.gov.uk/peoplepopulationandcommunity/populationandmigration/populationestimates/methodologies/annualmidyearpopulationestimatesqmi',\n  'title': 'Annual mid-year population estimates QMI'},\n 'related_datasets': [{'href': 'https://www.ons.gov.uk/peoplepopulationandcommunity/populationandmigration/populationestimates/datasets/populationestimatesforukenglandandwalesscotlandandnorthernireland',\n   'title': 'Population Estimates for UK, England and Wales, Scotland and Northern Ireland'}],\n 'release_frequency': 'annually',\n 'state': 'published',\n 'theme': 'Population estimates',\n 'title': 'Population Estimates for UK, England and Wales, Scotland and Northern Ireland',\n 'unit_of_measure': 'Number of people'}"
     },
     "execution_count": 27,
     "metadata": {},
     "output_type": "execute_result"
    }
   ],
   "source": [
    "uk_population_dataset"
   ],
   "metadata": {
    "collapsed": false,
    "pycharm": {
     "name": "#%%\n"
    }
   }
  },
  {
   "cell_type": "code",
   "execution_count": 28,
   "outputs": [
    {
     "data": {
      "text/plain": "dict_keys(['@context', 'contacts', 'description', 'id', 'keywords', 'license', 'links', 'methodologies', 'national_statistic', 'next_release', 'publications', 'publisher', 'qmi', 'related_datasets', 'release_frequency', 'state', 'theme', 'title', 'unit_of_measure'])"
     },
     "execution_count": 28,
     "metadata": {},
     "output_type": "execute_result"
    }
   ],
   "source": [
    "uk_population_dataset.keys()"
   ],
   "metadata": {
    "collapsed": false,
    "pycharm": {
     "name": "#%%\n"
    }
   }
  },
  {
   "cell_type": "markdown",
   "source": [
    "## fetch the latest version of this dataset"
   ],
   "metadata": {
    "collapsed": false,
    "pycharm": {
     "name": "#%% md\n"
    }
   }
  },
  {
   "cell_type": "code",
   "execution_count": 29,
   "outputs": [
    {
     "data": {
      "text/plain": "'4'"
     },
     "execution_count": 29,
     "metadata": {},
     "output_type": "execute_result"
    }
   ],
   "source": [
    "uk_pop_latest_version = uk_population_dataset['links']['latest_version']['id']\n",
    "uk_pop_latest_version\n"
   ],
   "metadata": {
    "collapsed": false,
    "pycharm": {
     "name": "#%%\n"
    }
   }
  },
  {
   "cell_type": "code",
   "execution_count": 30,
   "outputs": [
    {
     "name": "stdout",
     "output_type": "stream",
     "text": [
      "<Response [200]>\n"
     ]
    },
    {
     "data": {
      "text/plain": "{'@context': 'https://cdn.ons.gov.uk/assets/json-ld/context.json',\n 'alerts': [],\n 'collection_id': 'midyearpopest-7e05d4510fcc86e5182e9838ee4419a92e1e28e2d71885e5d1b1b10a11a33fd7',\n 'dimensions': [{'href': 'https://api.beta.ons.gov.uk/v1/code-lists/calendar-years',\n   'id': 'calendar-years',\n   'links': {'code_list': {}, 'options': {}, 'version': {}},\n   'name': 'time'},\n  {'href': 'https://api.beta.ons.gov.uk/v1/code-lists/mid-year-pop-geography',\n   'id': 'mid-year-pop-geography',\n   'label': 'Geography',\n   'links': {'code_list': {}, 'options': {}, 'version': {}},\n   'name': 'geography'},\n  {'href': 'https://api.beta.ons.gov.uk/v1/code-lists/mid-year-pop-sex',\n   'id': 'mid-year-pop-sex',\n   'links': {'code_list': {}, 'options': {}, 'version': {}},\n   'name': 'sex'},\n  {'href': 'https://api.beta.ons.gov.uk/v1/code-lists/mid-year-pop-age',\n   'id': 'mid-year-pop-age',\n   'links': {'code_list': {}, 'options': {}, 'version': {}},\n   'name': 'age'}],\n 'downloads': {'csv': {'href': 'https://download.beta.ons.gov.uk/downloads/datasets/mid-year-pop-est/editions/time-series/versions/4.csv',\n   'size': '36515553'},\n  'csvw': {'href': 'https://download.beta.ons.gov.uk/downloads/datasets/mid-year-pop-est/editions/time-series/versions/4.csv-metadata.json',\n   'size': '1756'},\n  'xls': {'href': 'https://download.beta.ons.gov.uk/downloads/datasets/mid-year-pop-est/editions/time-series/versions/4.xlsx',\n   'size': '5836770'}},\n 'edition': 'time-series',\n 'id': 'e6ddb310-bf5d-4000-9a77-8c1611046eb4',\n 'latest_changes': [],\n 'links': {'dataset': {'href': 'https://api.beta.ons.gov.uk/v1/datasets/mid-year-pop-est',\n   'id': 'mid-year-pop-est'},\n  'dimensions': {'href': 'https://api.beta.ons.gov.uk/v1/datasets/mid-year-pop-est/editions/time-series/versions/4/dimensions'},\n  'edition': {'href': 'https://api.beta.ons.gov.uk/v1/datasets/mid-year-pop-est/editions/time-series',\n   'id': 'time-series'},\n  'self': {'href': 'https://api.beta.ons.gov.uk/v1/datasets/mid-year-pop-est/editions/time-series/versions/4'}},\n 'release_date': '2019-01-14T00:00:00.000Z',\n 'state': 'published',\n 'usage_notes': [],\n 'version': 4}"
     },
     "execution_count": 30,
     "metadata": {},
     "output_type": "execute_result"
    }
   ],
   "source": [
    "uk_population_editions = post(f'/datasets/{dataset_id}/editions/time-series/versions/{uk_pop_latest_version}', is_ok=True)\n",
    "uk_population_editions\n"
   ],
   "metadata": {
    "collapsed": false,
    "pycharm": {
     "name": "#%%\n"
    }
   }
  },
  {
   "cell_type": "markdown",
   "source": [
    "##### fetch the dimensions that this dataset has to build the rest of the api.\n",
    "##### We use the code list for this, a separate service"
   ],
   "metadata": {
    "collapsed": false,
    "pycharm": {
     "name": "#%% md\n"
    }
   }
  },
  {
   "cell_type": "code",
   "execution_count": 37,
   "outputs": [
    {
     "name": "stdout",
     "output_type": "stream",
     "text": [
      "<Response [404]>\n"
     ]
    },
    {
     "ename": "JSONDecodeError",
     "evalue": "Expecting value: line 1 column 1 (char 0)",
     "output_type": "error",
     "traceback": [
      "\u001B[0;31m---------------------------------------------------------------------------\u001B[0m",
      "\u001B[0;31mJSONDecodeError\u001B[0m                           Traceback (most recent call last)",
      "\u001B[0;32m<ipython-input-37-26fcb65daa6b>\u001B[0m in \u001B[0;36m<module>\u001B[0;34m\u001B[0m\n\u001B[0;32m----> 1\u001B[0;31m \u001B[0muk_population_code_list\u001B[0m \u001B[0;34m=\u001B[0m \u001B[0mpost\u001B[0m\u001B[0;34m(\u001B[0m\u001B[0;34mf'/code-lists/{dataset_id}'\u001B[0m\u001B[0;34m,\u001B[0m \u001B[0mis_ok\u001B[0m\u001B[0;34m=\u001B[0m\u001B[0;32mTrue\u001B[0m\u001B[0;34m)\u001B[0m\u001B[0;34m\u001B[0m\u001B[0;34m\u001B[0m\u001B[0m\n\u001B[0m\u001B[1;32m      2\u001B[0m \u001B[0;34m\u001B[0m\u001B[0m\n",
      "\u001B[0;32m<ipython-input-13-08f3abe62fc7>\u001B[0m in \u001B[0;36mpost\u001B[0;34m(extension, is_ok)\u001B[0m\n\u001B[1;32m      3\u001B[0m     \u001B[0;32mif\u001B[0m \u001B[0mis_ok\u001B[0m\u001B[0;34m:\u001B[0m\u001B[0;34m\u001B[0m\u001B[0;34m\u001B[0m\u001B[0m\n\u001B[1;32m      4\u001B[0m         \u001B[0mprint\u001B[0m\u001B[0;34m(\u001B[0m\u001B[0mr\u001B[0m\u001B[0;34m)\u001B[0m\u001B[0;34m\u001B[0m\u001B[0;34m\u001B[0m\u001B[0m\n\u001B[0;32m----> 5\u001B[0;31m     \u001B[0;32mreturn\u001B[0m \u001B[0mr\u001B[0m\u001B[0;34m.\u001B[0m\u001B[0mjson\u001B[0m\u001B[0;34m(\u001B[0m\u001B[0;34m)\u001B[0m\u001B[0;34m\u001B[0m\u001B[0;34m\u001B[0m\u001B[0m\n\u001B[0m\u001B[1;32m      6\u001B[0m \u001B[0;34m\u001B[0m\u001B[0m\n",
      "\u001B[0;32m~/Documents/venv/lib/python3.7/site-packages/requests/models.py\u001B[0m in \u001B[0;36mjson\u001B[0;34m(self, **kwargs)\u001B[0m\n\u001B[1;32m    896\u001B[0m                     \u001B[0;31m# used.\u001B[0m\u001B[0;34m\u001B[0m\u001B[0;34m\u001B[0m\u001B[0;34m\u001B[0m\u001B[0m\n\u001B[1;32m    897\u001B[0m                     \u001B[0;32mpass\u001B[0m\u001B[0;34m\u001B[0m\u001B[0;34m\u001B[0m\u001B[0m\n\u001B[0;32m--> 898\u001B[0;31m         \u001B[0;32mreturn\u001B[0m \u001B[0mcomplexjson\u001B[0m\u001B[0;34m.\u001B[0m\u001B[0mloads\u001B[0m\u001B[0;34m(\u001B[0m\u001B[0mself\u001B[0m\u001B[0;34m.\u001B[0m\u001B[0mtext\u001B[0m\u001B[0;34m,\u001B[0m \u001B[0;34m**\u001B[0m\u001B[0mkwargs\u001B[0m\u001B[0;34m)\u001B[0m\u001B[0;34m\u001B[0m\u001B[0;34m\u001B[0m\u001B[0m\n\u001B[0m\u001B[1;32m    899\u001B[0m \u001B[0;34m\u001B[0m\u001B[0m\n\u001B[1;32m    900\u001B[0m     \u001B[0;34m@\u001B[0m\u001B[0mproperty\u001B[0m\u001B[0;34m\u001B[0m\u001B[0;34m\u001B[0m\u001B[0m\n",
      "\u001B[0;32m/Library/Developer/CommandLineTools/Library/Frameworks/Python3.framework/Versions/3.7/lib/python3.7/json/__init__.py\u001B[0m in \u001B[0;36mloads\u001B[0;34m(s, encoding, cls, object_hook, parse_float, parse_int, parse_constant, object_pairs_hook, **kw)\u001B[0m\n\u001B[1;32m    346\u001B[0m             \u001B[0mparse_int\u001B[0m \u001B[0;32mis\u001B[0m \u001B[0;32mNone\u001B[0m \u001B[0;32mand\u001B[0m \u001B[0mparse_float\u001B[0m \u001B[0;32mis\u001B[0m \u001B[0;32mNone\u001B[0m \u001B[0;32mand\u001B[0m\u001B[0;34m\u001B[0m\u001B[0;34m\u001B[0m\u001B[0m\n\u001B[1;32m    347\u001B[0m             parse_constant is None and object_pairs_hook is None and not kw):\n\u001B[0;32m--> 348\u001B[0;31m         \u001B[0;32mreturn\u001B[0m \u001B[0m_default_decoder\u001B[0m\u001B[0;34m.\u001B[0m\u001B[0mdecode\u001B[0m\u001B[0;34m(\u001B[0m\u001B[0ms\u001B[0m\u001B[0;34m)\u001B[0m\u001B[0;34m\u001B[0m\u001B[0;34m\u001B[0m\u001B[0m\n\u001B[0m\u001B[1;32m    349\u001B[0m     \u001B[0;32mif\u001B[0m \u001B[0mcls\u001B[0m \u001B[0;32mis\u001B[0m \u001B[0;32mNone\u001B[0m\u001B[0;34m:\u001B[0m\u001B[0;34m\u001B[0m\u001B[0;34m\u001B[0m\u001B[0m\n\u001B[1;32m    350\u001B[0m         \u001B[0mcls\u001B[0m \u001B[0;34m=\u001B[0m \u001B[0mJSONDecoder\u001B[0m\u001B[0;34m\u001B[0m\u001B[0;34m\u001B[0m\u001B[0m\n",
      "\u001B[0;32m/Library/Developer/CommandLineTools/Library/Frameworks/Python3.framework/Versions/3.7/lib/python3.7/json/decoder.py\u001B[0m in \u001B[0;36mdecode\u001B[0;34m(self, s, _w)\u001B[0m\n\u001B[1;32m    335\u001B[0m \u001B[0;34m\u001B[0m\u001B[0m\n\u001B[1;32m    336\u001B[0m         \"\"\"\n\u001B[0;32m--> 337\u001B[0;31m         \u001B[0mobj\u001B[0m\u001B[0;34m,\u001B[0m \u001B[0mend\u001B[0m \u001B[0;34m=\u001B[0m \u001B[0mself\u001B[0m\u001B[0;34m.\u001B[0m\u001B[0mraw_decode\u001B[0m\u001B[0;34m(\u001B[0m\u001B[0ms\u001B[0m\u001B[0;34m,\u001B[0m \u001B[0midx\u001B[0m\u001B[0;34m=\u001B[0m\u001B[0m_w\u001B[0m\u001B[0;34m(\u001B[0m\u001B[0ms\u001B[0m\u001B[0;34m,\u001B[0m \u001B[0;36m0\u001B[0m\u001B[0;34m)\u001B[0m\u001B[0;34m.\u001B[0m\u001B[0mend\u001B[0m\u001B[0;34m(\u001B[0m\u001B[0;34m)\u001B[0m\u001B[0;34m)\u001B[0m\u001B[0;34m\u001B[0m\u001B[0;34m\u001B[0m\u001B[0m\n\u001B[0m\u001B[1;32m    338\u001B[0m         \u001B[0mend\u001B[0m \u001B[0;34m=\u001B[0m \u001B[0m_w\u001B[0m\u001B[0;34m(\u001B[0m\u001B[0ms\u001B[0m\u001B[0;34m,\u001B[0m \u001B[0mend\u001B[0m\u001B[0;34m)\u001B[0m\u001B[0;34m.\u001B[0m\u001B[0mend\u001B[0m\u001B[0;34m(\u001B[0m\u001B[0;34m)\u001B[0m\u001B[0;34m\u001B[0m\u001B[0;34m\u001B[0m\u001B[0m\n\u001B[1;32m    339\u001B[0m         \u001B[0;32mif\u001B[0m \u001B[0mend\u001B[0m \u001B[0;34m!=\u001B[0m \u001B[0mlen\u001B[0m\u001B[0;34m(\u001B[0m\u001B[0ms\u001B[0m\u001B[0;34m)\u001B[0m\u001B[0;34m:\u001B[0m\u001B[0;34m\u001B[0m\u001B[0;34m\u001B[0m\u001B[0m\n",
      "\u001B[0;32m/Library/Developer/CommandLineTools/Library/Frameworks/Python3.framework/Versions/3.7/lib/python3.7/json/decoder.py\u001B[0m in \u001B[0;36mraw_decode\u001B[0;34m(self, s, idx)\u001B[0m\n\u001B[1;32m    353\u001B[0m             \u001B[0mobj\u001B[0m\u001B[0;34m,\u001B[0m \u001B[0mend\u001B[0m \u001B[0;34m=\u001B[0m \u001B[0mself\u001B[0m\u001B[0;34m.\u001B[0m\u001B[0mscan_once\u001B[0m\u001B[0;34m(\u001B[0m\u001B[0ms\u001B[0m\u001B[0;34m,\u001B[0m \u001B[0midx\u001B[0m\u001B[0;34m)\u001B[0m\u001B[0;34m\u001B[0m\u001B[0;34m\u001B[0m\u001B[0m\n\u001B[1;32m    354\u001B[0m         \u001B[0;32mexcept\u001B[0m \u001B[0mStopIteration\u001B[0m \u001B[0;32mas\u001B[0m \u001B[0merr\u001B[0m\u001B[0;34m:\u001B[0m\u001B[0;34m\u001B[0m\u001B[0;34m\u001B[0m\u001B[0m\n\u001B[0;32m--> 355\u001B[0;31m             \u001B[0;32mraise\u001B[0m \u001B[0mJSONDecodeError\u001B[0m\u001B[0;34m(\u001B[0m\u001B[0;34m\"Expecting value\"\u001B[0m\u001B[0;34m,\u001B[0m \u001B[0ms\u001B[0m\u001B[0;34m,\u001B[0m \u001B[0merr\u001B[0m\u001B[0;34m.\u001B[0m\u001B[0mvalue\u001B[0m\u001B[0;34m)\u001B[0m \u001B[0;32mfrom\u001B[0m \u001B[0;32mNone\u001B[0m\u001B[0;34m\u001B[0m\u001B[0;34m\u001B[0m\u001B[0m\n\u001B[0m\u001B[1;32m    356\u001B[0m         \u001B[0;32mreturn\u001B[0m \u001B[0mobj\u001B[0m\u001B[0;34m,\u001B[0m \u001B[0mend\u001B[0m\u001B[0;34m\u001B[0m\u001B[0;34m\u001B[0m\u001B[0m\n",
      "\u001B[0;31mJSONDecodeError\u001B[0m: Expecting value: line 1 column 1 (char 0)"
     ]
    }
   ],
   "source": [
    "uk_population_code_list = post(f'/code-lists/{dataset_id}', is_ok=True)"
   ],
   "metadata": {
    "collapsed": false,
    "pycharm": {
     "name": "#%%\n"
    }
   }
  },
  {
   "cell_type": "code",
   "execution_count": 38,
   "outputs": [
    {
     "name": "stdout",
     "output_type": "stream",
     "text": [
      "<Response [200]>\n"
     ]
    }
   ],
   "source": [
    "dimensions = post(f'/datasets/{dataset_id}/editions/time-series/versions/{uk_pop_latest_version}/dimensions', is_ok=True)"
   ],
   "metadata": {
    "collapsed": false,
    "pycharm": {
     "name": "#%%\n"
    }
   }
  },
  {
   "cell_type": "code",
   "execution_count": 39,
   "outputs": [
    {
     "data": {
      "text/plain": "{'links': {'code_list': {'href': 'https://api.beta.ons.gov.uk/v1/code-lists/mid-year-pop-age',\n   'id': 'mid-year-pop-age'},\n  'options': {'href': 'https://api.beta.ons.gov.uk/v1/datasets/mid-year-pop-est/editions/time-series/versions/4/dimensions/age/options',\n   'id': 'age'},\n  'version': {'href': 'https://api.beta.ons.gov.uk/v1/datasets/mid-year-pop-est/editions/time-series/versions/4'}},\n 'name': 'age'}"
     },
     "execution_count": 39,
     "metadata": {},
     "output_type": "execute_result"
    }
   ],
   "source": [
    "dimensions['items'][3]\n",
    "# 'time'\n",
    "# 'sex'\n",
    "# 'geography'\n",
    "# 'age'"
   ],
   "metadata": {
    "collapsed": false,
    "pycharm": {
     "name": "#%%\n"
    }
   }
  },
  {
   "cell_type": "code",
   "execution_count": 61,
   "outputs": [
    {
     "name": "stdout",
     "output_type": "stream",
     "text": [
      "<Response [200]>\n"
     ]
    },
    {
     "data": {
      "text/plain": "[{'dimension': 'sex',\n  'label': 'All',\n  'links': {'code': {'href': 'https://api.beta.ons.gov.uk/v1/code-lists/mid-year-pop-sex/codes/0',\n    'id': '0'},\n   'code_list': {'href': 'https://api.beta.ons.gov.uk/v1/code-lists/mid-year-pop-sex',\n    'id': 'mid-year-pop-sex'},\n   'version': {'href': 'https://api.beta.ons.gov.uk/v1/datasets/mid-year-pop-est/editions/time-series/versions/4',\n    'id': '4'}},\n  'option': '0'},\n {'dimension': 'sex',\n  'label': 'Male',\n  'links': {'code': {'href': 'https://api.beta.ons.gov.uk/v1/code-lists/mid-year-pop-sex/codes/1',\n    'id': '1'},\n   'code_list': {'href': 'https://api.beta.ons.gov.uk/v1/code-lists/mid-year-pop-sex',\n    'id': 'mid-year-pop-sex'},\n   'version': {'href': 'https://api.beta.ons.gov.uk/v1/datasets/mid-year-pop-est/editions/time-series/versions/4',\n    'id': '4'}},\n  'option': '1'},\n {'dimension': 'sex',\n  'label': 'Female',\n  'links': {'code': {'href': 'https://api.beta.ons.gov.uk/v1/code-lists/mid-year-pop-sex/codes/2',\n    'id': '2'},\n   'code_list': {'href': 'https://api.beta.ons.gov.uk/v1/code-lists/mid-year-pop-sex',\n    'id': 'mid-year-pop-sex'},\n   'version': {'href': 'https://api.beta.ons.gov.uk/v1/datasets/mid-year-pop-est/editions/time-series/versions/4',\n    'id': '4'}},\n  'option': '2'}]"
     },
     "execution_count": 61,
     "metadata": {},
     "output_type": "execute_result"
    }
   ],
   "source": [
    "# check options for each dimension\n",
    "dimension = 'sex'\n",
    "options: Dict = post(f'/datasets/{dataset_id}/editions/time-series/versions/{uk_pop_latest_version}/dimensions/{dimension}/options', is_ok=True)\n",
    "options['items']"
   ],
   "metadata": {
    "collapsed": false,
    "pycharm": {
     "name": "#%%\n"
    }
   }
  },
  {
   "cell_type": "code",
   "execution_count": 57,
   "outputs": [
    {
     "data": {
      "text/plain": "[{'dimension': 'age',\n  'label': '0',\n  'links': {'code': {'href': 'https://api.beta.ons.gov.uk/v1/code-lists/mid-year-pop-age/codes/0',\n    'id': '0'},\n   'code_list': {'href': 'https://api.beta.ons.gov.uk/v1/code-lists/mid-year-pop-age',\n    'id': 'mid-year-pop-age'},\n   'version': {'href': 'https://api.beta.ons.gov.uk/v1/datasets/mid-year-pop-est/editions/time-series/versions/4',\n    'id': '4'}},\n  'option': '0'},\n {'dimension': 'age',\n  'label': '1',\n  'links': {'code': {'href': 'https://api.beta.ons.gov.uk/v1/code-lists/mid-year-pop-age/codes/1',\n    'id': '1'},\n   'code_list': {'href': 'https://api.beta.ons.gov.uk/v1/code-lists/mid-year-pop-age',\n    'id': 'mid-year-pop-age'},\n   'version': {'href': 'https://api.beta.ons.gov.uk/v1/datasets/mid-year-pop-est/editions/time-series/versions/4',\n    'id': '4'}},\n  'option': '1'},\n {'dimension': 'age',\n  'label': '10',\n  'links': {'code': {'href': 'https://api.beta.ons.gov.uk/v1/code-lists/mid-year-pop-age/codes/10',\n    'id': '10'},\n   'code_list': {'href': 'https://api.beta.ons.gov.uk/v1/code-lists/mid-year-pop-age',\n    'id': 'mid-year-pop-age'},\n   'version': {'href': 'https://api.beta.ons.gov.uk/v1/datasets/mid-year-pop-est/editions/time-series/versions/4',\n    'id': '4'}},\n  'option': '10'},\n {'dimension': 'age',\n  'label': '11',\n  'links': {'code': {'href': 'https://api.beta.ons.gov.uk/v1/code-lists/mid-year-pop-age/codes/11',\n    'id': '11'},\n   'code_list': {'href': 'https://api.beta.ons.gov.uk/v1/code-lists/mid-year-pop-age',\n    'id': 'mid-year-pop-age'},\n   'version': {'href': 'https://api.beta.ons.gov.uk/v1/datasets/mid-year-pop-est/editions/time-series/versions/4',\n    'id': '4'}},\n  'option': '11'},\n {'dimension': 'age',\n  'label': '12',\n  'links': {'code': {'href': 'https://api.beta.ons.gov.uk/v1/code-lists/mid-year-pop-age/codes/12',\n    'id': '12'},\n   'code_list': {'href': 'https://api.beta.ons.gov.uk/v1/code-lists/mid-year-pop-age',\n    'id': 'mid-year-pop-age'},\n   'version': {'href': 'https://api.beta.ons.gov.uk/v1/datasets/mid-year-pop-est/editions/time-series/versions/4',\n    'id': '4'}},\n  'option': '12'},\n {'dimension': 'age',\n  'label': '13',\n  'links': {'code': {'href': 'https://api.beta.ons.gov.uk/v1/code-lists/mid-year-pop-age/codes/13',\n    'id': '13'},\n   'code_list': {'href': 'https://api.beta.ons.gov.uk/v1/code-lists/mid-year-pop-age',\n    'id': 'mid-year-pop-age'},\n   'version': {'href': 'https://api.beta.ons.gov.uk/v1/datasets/mid-year-pop-est/editions/time-series/versions/4',\n    'id': '4'}},\n  'option': '13'},\n {'dimension': 'age',\n  'label': '14',\n  'links': {'code': {'href': 'https://api.beta.ons.gov.uk/v1/code-lists/mid-year-pop-age/codes/14',\n    'id': '14'},\n   'code_list': {'href': 'https://api.beta.ons.gov.uk/v1/code-lists/mid-year-pop-age',\n    'id': 'mid-year-pop-age'},\n   'version': {'href': 'https://api.beta.ons.gov.uk/v1/datasets/mid-year-pop-est/editions/time-series/versions/4',\n    'id': '4'}},\n  'option': '14'},\n {'dimension': 'age',\n  'label': '15',\n  'links': {'code': {'href': 'https://api.beta.ons.gov.uk/v1/code-lists/mid-year-pop-age/codes/15',\n    'id': '15'},\n   'code_list': {'href': 'https://api.beta.ons.gov.uk/v1/code-lists/mid-year-pop-age',\n    'id': 'mid-year-pop-age'},\n   'version': {'href': 'https://api.beta.ons.gov.uk/v1/datasets/mid-year-pop-est/editions/time-series/versions/4',\n    'id': '4'}},\n  'option': '15'},\n {'dimension': 'age',\n  'label': '16',\n  'links': {'code': {'href': 'https://api.beta.ons.gov.uk/v1/code-lists/mid-year-pop-age/codes/16',\n    'id': '16'},\n   'code_list': {'href': 'https://api.beta.ons.gov.uk/v1/code-lists/mid-year-pop-age',\n    'id': 'mid-year-pop-age'},\n   'version': {'href': 'https://api.beta.ons.gov.uk/v1/datasets/mid-year-pop-est/editions/time-series/versions/4',\n    'id': '4'}},\n  'option': '16'},\n {'dimension': 'age',\n  'label': '17',\n  'links': {'code': {'href': 'https://api.beta.ons.gov.uk/v1/code-lists/mid-year-pop-age/codes/17',\n    'id': '17'},\n   'code_list': {'href': 'https://api.beta.ons.gov.uk/v1/code-lists/mid-year-pop-age',\n    'id': 'mid-year-pop-age'},\n   'version': {'href': 'https://api.beta.ons.gov.uk/v1/datasets/mid-year-pop-est/editions/time-series/versions/4',\n    'id': '4'}},\n  'option': '17'},\n {'dimension': 'age',\n  'label': '18',\n  'links': {'code': {'href': 'https://api.beta.ons.gov.uk/v1/code-lists/mid-year-pop-age/codes/18',\n    'id': '18'},\n   'code_list': {'href': 'https://api.beta.ons.gov.uk/v1/code-lists/mid-year-pop-age',\n    'id': 'mid-year-pop-age'},\n   'version': {'href': 'https://api.beta.ons.gov.uk/v1/datasets/mid-year-pop-est/editions/time-series/versions/4',\n    'id': '4'}},\n  'option': '18'},\n {'dimension': 'age',\n  'label': '19',\n  'links': {'code': {'href': 'https://api.beta.ons.gov.uk/v1/code-lists/mid-year-pop-age/codes/19',\n    'id': '19'},\n   'code_list': {'href': 'https://api.beta.ons.gov.uk/v1/code-lists/mid-year-pop-age',\n    'id': 'mid-year-pop-age'},\n   'version': {'href': 'https://api.beta.ons.gov.uk/v1/datasets/mid-year-pop-est/editions/time-series/versions/4',\n    'id': '4'}},\n  'option': '19'},\n {'dimension': 'age',\n  'label': '2',\n  'links': {'code': {'href': 'https://api.beta.ons.gov.uk/v1/code-lists/mid-year-pop-age/codes/2',\n    'id': '2'},\n   'code_list': {'href': 'https://api.beta.ons.gov.uk/v1/code-lists/mid-year-pop-age',\n    'id': 'mid-year-pop-age'},\n   'version': {'href': 'https://api.beta.ons.gov.uk/v1/datasets/mid-year-pop-est/editions/time-series/versions/4',\n    'id': '4'}},\n  'option': '2'},\n {'dimension': 'age',\n  'label': '20',\n  'links': {'code': {'href': 'https://api.beta.ons.gov.uk/v1/code-lists/mid-year-pop-age/codes/20',\n    'id': '20'},\n   'code_list': {'href': 'https://api.beta.ons.gov.uk/v1/code-lists/mid-year-pop-age',\n    'id': 'mid-year-pop-age'},\n   'version': {'href': 'https://api.beta.ons.gov.uk/v1/datasets/mid-year-pop-est/editions/time-series/versions/4',\n    'id': '4'}},\n  'option': '20'},\n {'dimension': 'age',\n  'label': '21',\n  'links': {'code': {'href': 'https://api.beta.ons.gov.uk/v1/code-lists/mid-year-pop-age/codes/21',\n    'id': '21'},\n   'code_list': {'href': 'https://api.beta.ons.gov.uk/v1/code-lists/mid-year-pop-age',\n    'id': 'mid-year-pop-age'},\n   'version': {'href': 'https://api.beta.ons.gov.uk/v1/datasets/mid-year-pop-est/editions/time-series/versions/4',\n    'id': '4'}},\n  'option': '21'},\n {'dimension': 'age',\n  'label': '22',\n  'links': {'code': {'href': 'https://api.beta.ons.gov.uk/v1/code-lists/mid-year-pop-age/codes/22',\n    'id': '22'},\n   'code_list': {'href': 'https://api.beta.ons.gov.uk/v1/code-lists/mid-year-pop-age',\n    'id': 'mid-year-pop-age'},\n   'version': {'href': 'https://api.beta.ons.gov.uk/v1/datasets/mid-year-pop-est/editions/time-series/versions/4',\n    'id': '4'}},\n  'option': '22'},\n {'dimension': 'age',\n  'label': '23',\n  'links': {'code': {'href': 'https://api.beta.ons.gov.uk/v1/code-lists/mid-year-pop-age/codes/23',\n    'id': '23'},\n   'code_list': {'href': 'https://api.beta.ons.gov.uk/v1/code-lists/mid-year-pop-age',\n    'id': 'mid-year-pop-age'},\n   'version': {'href': 'https://api.beta.ons.gov.uk/v1/datasets/mid-year-pop-est/editions/time-series/versions/4',\n    'id': '4'}},\n  'option': '23'},\n {'dimension': 'age',\n  'label': '24',\n  'links': {'code': {'href': 'https://api.beta.ons.gov.uk/v1/code-lists/mid-year-pop-age/codes/24',\n    'id': '24'},\n   'code_list': {'href': 'https://api.beta.ons.gov.uk/v1/code-lists/mid-year-pop-age',\n    'id': 'mid-year-pop-age'},\n   'version': {'href': 'https://api.beta.ons.gov.uk/v1/datasets/mid-year-pop-est/editions/time-series/versions/4',\n    'id': '4'}},\n  'option': '24'},\n {'dimension': 'age',\n  'label': '25',\n  'links': {'code': {'href': 'https://api.beta.ons.gov.uk/v1/code-lists/mid-year-pop-age/codes/25',\n    'id': '25'},\n   'code_list': {'href': 'https://api.beta.ons.gov.uk/v1/code-lists/mid-year-pop-age',\n    'id': 'mid-year-pop-age'},\n   'version': {'href': 'https://api.beta.ons.gov.uk/v1/datasets/mid-year-pop-est/editions/time-series/versions/4',\n    'id': '4'}},\n  'option': '25'},\n {'dimension': 'age',\n  'label': '26',\n  'links': {'code': {'href': 'https://api.beta.ons.gov.uk/v1/code-lists/mid-year-pop-age/codes/26',\n    'id': '26'},\n   'code_list': {'href': 'https://api.beta.ons.gov.uk/v1/code-lists/mid-year-pop-age',\n    'id': 'mid-year-pop-age'},\n   'version': {'href': 'https://api.beta.ons.gov.uk/v1/datasets/mid-year-pop-est/editions/time-series/versions/4',\n    'id': '4'}},\n  'option': '26'},\n {'dimension': 'age',\n  'label': '27',\n  'links': {'code': {'href': 'https://api.beta.ons.gov.uk/v1/code-lists/mid-year-pop-age/codes/27',\n    'id': '27'},\n   'code_list': {'href': 'https://api.beta.ons.gov.uk/v1/code-lists/mid-year-pop-age',\n    'id': 'mid-year-pop-age'},\n   'version': {'href': 'https://api.beta.ons.gov.uk/v1/datasets/mid-year-pop-est/editions/time-series/versions/4',\n    'id': '4'}},\n  'option': '27'},\n {'dimension': 'age',\n  'label': '28',\n  'links': {'code': {'href': 'https://api.beta.ons.gov.uk/v1/code-lists/mid-year-pop-age/codes/28',\n    'id': '28'},\n   'code_list': {'href': 'https://api.beta.ons.gov.uk/v1/code-lists/mid-year-pop-age',\n    'id': 'mid-year-pop-age'},\n   'version': {'href': 'https://api.beta.ons.gov.uk/v1/datasets/mid-year-pop-est/editions/time-series/versions/4',\n    'id': '4'}},\n  'option': '28'},\n {'dimension': 'age',\n  'label': '29',\n  'links': {'code': {'href': 'https://api.beta.ons.gov.uk/v1/code-lists/mid-year-pop-age/codes/29',\n    'id': '29'},\n   'code_list': {'href': 'https://api.beta.ons.gov.uk/v1/code-lists/mid-year-pop-age',\n    'id': 'mid-year-pop-age'},\n   'version': {'href': 'https://api.beta.ons.gov.uk/v1/datasets/mid-year-pop-est/editions/time-series/versions/4',\n    'id': '4'}},\n  'option': '29'},\n {'dimension': 'age',\n  'label': '3',\n  'links': {'code': {'href': 'https://api.beta.ons.gov.uk/v1/code-lists/mid-year-pop-age/codes/3',\n    'id': '3'},\n   'code_list': {'href': 'https://api.beta.ons.gov.uk/v1/code-lists/mid-year-pop-age',\n    'id': 'mid-year-pop-age'},\n   'version': {'href': 'https://api.beta.ons.gov.uk/v1/datasets/mid-year-pop-est/editions/time-series/versions/4',\n    'id': '4'}},\n  'option': '3'},\n {'dimension': 'age',\n  'label': '30',\n  'links': {'code': {'href': 'https://api.beta.ons.gov.uk/v1/code-lists/mid-year-pop-age/codes/30',\n    'id': '30'},\n   'code_list': {'href': 'https://api.beta.ons.gov.uk/v1/code-lists/mid-year-pop-age',\n    'id': 'mid-year-pop-age'},\n   'version': {'href': 'https://api.beta.ons.gov.uk/v1/datasets/mid-year-pop-est/editions/time-series/versions/4',\n    'id': '4'}},\n  'option': '30'},\n {'dimension': 'age',\n  'label': '31',\n  'links': {'code': {'href': 'https://api.beta.ons.gov.uk/v1/code-lists/mid-year-pop-age/codes/31',\n    'id': '31'},\n   'code_list': {'href': 'https://api.beta.ons.gov.uk/v1/code-lists/mid-year-pop-age',\n    'id': 'mid-year-pop-age'},\n   'version': {'href': 'https://api.beta.ons.gov.uk/v1/datasets/mid-year-pop-est/editions/time-series/versions/4',\n    'id': '4'}},\n  'option': '31'},\n {'dimension': 'age',\n  'label': '32',\n  'links': {'code': {'href': 'https://api.beta.ons.gov.uk/v1/code-lists/mid-year-pop-age/codes/32',\n    'id': '32'},\n   'code_list': {'href': 'https://api.beta.ons.gov.uk/v1/code-lists/mid-year-pop-age',\n    'id': 'mid-year-pop-age'},\n   'version': {'href': 'https://api.beta.ons.gov.uk/v1/datasets/mid-year-pop-est/editions/time-series/versions/4',\n    'id': '4'}},\n  'option': '32'},\n {'dimension': 'age',\n  'label': '33',\n  'links': {'code': {'href': 'https://api.beta.ons.gov.uk/v1/code-lists/mid-year-pop-age/codes/33',\n    'id': '33'},\n   'code_list': {'href': 'https://api.beta.ons.gov.uk/v1/code-lists/mid-year-pop-age',\n    'id': 'mid-year-pop-age'},\n   'version': {'href': 'https://api.beta.ons.gov.uk/v1/datasets/mid-year-pop-est/editions/time-series/versions/4',\n    'id': '4'}},\n  'option': '33'},\n {'dimension': 'age',\n  'label': '34',\n  'links': {'code': {'href': 'https://api.beta.ons.gov.uk/v1/code-lists/mid-year-pop-age/codes/34',\n    'id': '34'},\n   'code_list': {'href': 'https://api.beta.ons.gov.uk/v1/code-lists/mid-year-pop-age',\n    'id': 'mid-year-pop-age'},\n   'version': {'href': 'https://api.beta.ons.gov.uk/v1/datasets/mid-year-pop-est/editions/time-series/versions/4',\n    'id': '4'}},\n  'option': '34'},\n {'dimension': 'age',\n  'label': '35',\n  'links': {'code': {'href': 'https://api.beta.ons.gov.uk/v1/code-lists/mid-year-pop-age/codes/35',\n    'id': '35'},\n   'code_list': {'href': 'https://api.beta.ons.gov.uk/v1/code-lists/mid-year-pop-age',\n    'id': 'mid-year-pop-age'},\n   'version': {'href': 'https://api.beta.ons.gov.uk/v1/datasets/mid-year-pop-est/editions/time-series/versions/4',\n    'id': '4'}},\n  'option': '35'},\n {'dimension': 'age',\n  'label': '36',\n  'links': {'code': {'href': 'https://api.beta.ons.gov.uk/v1/code-lists/mid-year-pop-age/codes/36',\n    'id': '36'},\n   'code_list': {'href': 'https://api.beta.ons.gov.uk/v1/code-lists/mid-year-pop-age',\n    'id': 'mid-year-pop-age'},\n   'version': {'href': 'https://api.beta.ons.gov.uk/v1/datasets/mid-year-pop-est/editions/time-series/versions/4',\n    'id': '4'}},\n  'option': '36'},\n {'dimension': 'age',\n  'label': '37',\n  'links': {'code': {'href': 'https://api.beta.ons.gov.uk/v1/code-lists/mid-year-pop-age/codes/37',\n    'id': '37'},\n   'code_list': {'href': 'https://api.beta.ons.gov.uk/v1/code-lists/mid-year-pop-age',\n    'id': 'mid-year-pop-age'},\n   'version': {'href': 'https://api.beta.ons.gov.uk/v1/datasets/mid-year-pop-est/editions/time-series/versions/4',\n    'id': '4'}},\n  'option': '37'},\n {'dimension': 'age',\n  'label': '38',\n  'links': {'code': {'href': 'https://api.beta.ons.gov.uk/v1/code-lists/mid-year-pop-age/codes/38',\n    'id': '38'},\n   'code_list': {'href': 'https://api.beta.ons.gov.uk/v1/code-lists/mid-year-pop-age',\n    'id': 'mid-year-pop-age'},\n   'version': {'href': 'https://api.beta.ons.gov.uk/v1/datasets/mid-year-pop-est/editions/time-series/versions/4',\n    'id': '4'}},\n  'option': '38'},\n {'dimension': 'age',\n  'label': '39',\n  'links': {'code': {'href': 'https://api.beta.ons.gov.uk/v1/code-lists/mid-year-pop-age/codes/39',\n    'id': '39'},\n   'code_list': {'href': 'https://api.beta.ons.gov.uk/v1/code-lists/mid-year-pop-age',\n    'id': 'mid-year-pop-age'},\n   'version': {'href': 'https://api.beta.ons.gov.uk/v1/datasets/mid-year-pop-est/editions/time-series/versions/4',\n    'id': '4'}},\n  'option': '39'},\n {'dimension': 'age',\n  'label': '4',\n  'links': {'code': {'href': 'https://api.beta.ons.gov.uk/v1/code-lists/mid-year-pop-age/codes/4',\n    'id': '4'},\n   'code_list': {'href': 'https://api.beta.ons.gov.uk/v1/code-lists/mid-year-pop-age',\n    'id': 'mid-year-pop-age'},\n   'version': {'href': 'https://api.beta.ons.gov.uk/v1/datasets/mid-year-pop-est/editions/time-series/versions/4',\n    'id': '4'}},\n  'option': '4'},\n {'dimension': 'age',\n  'label': '40',\n  'links': {'code': {'href': 'https://api.beta.ons.gov.uk/v1/code-lists/mid-year-pop-age/codes/40',\n    'id': '40'},\n   'code_list': {'href': 'https://api.beta.ons.gov.uk/v1/code-lists/mid-year-pop-age',\n    'id': 'mid-year-pop-age'},\n   'version': {'href': 'https://api.beta.ons.gov.uk/v1/datasets/mid-year-pop-est/editions/time-series/versions/4',\n    'id': '4'}},\n  'option': '40'},\n {'dimension': 'age',\n  'label': '41',\n  'links': {'code': {'href': 'https://api.beta.ons.gov.uk/v1/code-lists/mid-year-pop-age/codes/41',\n    'id': '41'},\n   'code_list': {'href': 'https://api.beta.ons.gov.uk/v1/code-lists/mid-year-pop-age',\n    'id': 'mid-year-pop-age'},\n   'version': {'href': 'https://api.beta.ons.gov.uk/v1/datasets/mid-year-pop-est/editions/time-series/versions/4',\n    'id': '4'}},\n  'option': '41'},\n {'dimension': 'age',\n  'label': '42',\n  'links': {'code': {'href': 'https://api.beta.ons.gov.uk/v1/code-lists/mid-year-pop-age/codes/42',\n    'id': '42'},\n   'code_list': {'href': 'https://api.beta.ons.gov.uk/v1/code-lists/mid-year-pop-age',\n    'id': 'mid-year-pop-age'},\n   'version': {'href': 'https://api.beta.ons.gov.uk/v1/datasets/mid-year-pop-est/editions/time-series/versions/4',\n    'id': '4'}},\n  'option': '42'},\n {'dimension': 'age',\n  'label': '43',\n  'links': {'code': {'href': 'https://api.beta.ons.gov.uk/v1/code-lists/mid-year-pop-age/codes/43',\n    'id': '43'},\n   'code_list': {'href': 'https://api.beta.ons.gov.uk/v1/code-lists/mid-year-pop-age',\n    'id': 'mid-year-pop-age'},\n   'version': {'href': 'https://api.beta.ons.gov.uk/v1/datasets/mid-year-pop-est/editions/time-series/versions/4',\n    'id': '4'}},\n  'option': '43'},\n {'dimension': 'age',\n  'label': '44',\n  'links': {'code': {'href': 'https://api.beta.ons.gov.uk/v1/code-lists/mid-year-pop-age/codes/44',\n    'id': '44'},\n   'code_list': {'href': 'https://api.beta.ons.gov.uk/v1/code-lists/mid-year-pop-age',\n    'id': 'mid-year-pop-age'},\n   'version': {'href': 'https://api.beta.ons.gov.uk/v1/datasets/mid-year-pop-est/editions/time-series/versions/4',\n    'id': '4'}},\n  'option': '44'},\n {'dimension': 'age',\n  'label': '45',\n  'links': {'code': {'href': 'https://api.beta.ons.gov.uk/v1/code-lists/mid-year-pop-age/codes/45',\n    'id': '45'},\n   'code_list': {'href': 'https://api.beta.ons.gov.uk/v1/code-lists/mid-year-pop-age',\n    'id': 'mid-year-pop-age'},\n   'version': {'href': 'https://api.beta.ons.gov.uk/v1/datasets/mid-year-pop-est/editions/time-series/versions/4',\n    'id': '4'}},\n  'option': '45'},\n {'dimension': 'age',\n  'label': '46',\n  'links': {'code': {'href': 'https://api.beta.ons.gov.uk/v1/code-lists/mid-year-pop-age/codes/46',\n    'id': '46'},\n   'code_list': {'href': 'https://api.beta.ons.gov.uk/v1/code-lists/mid-year-pop-age',\n    'id': 'mid-year-pop-age'},\n   'version': {'href': 'https://api.beta.ons.gov.uk/v1/datasets/mid-year-pop-est/editions/time-series/versions/4',\n    'id': '4'}},\n  'option': '46'},\n {'dimension': 'age',\n  'label': '47',\n  'links': {'code': {'href': 'https://api.beta.ons.gov.uk/v1/code-lists/mid-year-pop-age/codes/47',\n    'id': '47'},\n   'code_list': {'href': 'https://api.beta.ons.gov.uk/v1/code-lists/mid-year-pop-age',\n    'id': 'mid-year-pop-age'},\n   'version': {'href': 'https://api.beta.ons.gov.uk/v1/datasets/mid-year-pop-est/editions/time-series/versions/4',\n    'id': '4'}},\n  'option': '47'},\n {'dimension': 'age',\n  'label': '48',\n  'links': {'code': {'href': 'https://api.beta.ons.gov.uk/v1/code-lists/mid-year-pop-age/codes/48',\n    'id': '48'},\n   'code_list': {'href': 'https://api.beta.ons.gov.uk/v1/code-lists/mid-year-pop-age',\n    'id': 'mid-year-pop-age'},\n   'version': {'href': 'https://api.beta.ons.gov.uk/v1/datasets/mid-year-pop-est/editions/time-series/versions/4',\n    'id': '4'}},\n  'option': '48'},\n {'dimension': 'age',\n  'label': '49',\n  'links': {'code': {'href': 'https://api.beta.ons.gov.uk/v1/code-lists/mid-year-pop-age/codes/49',\n    'id': '49'},\n   'code_list': {'href': 'https://api.beta.ons.gov.uk/v1/code-lists/mid-year-pop-age',\n    'id': 'mid-year-pop-age'},\n   'version': {'href': 'https://api.beta.ons.gov.uk/v1/datasets/mid-year-pop-est/editions/time-series/versions/4',\n    'id': '4'}},\n  'option': '49'},\n {'dimension': 'age',\n  'label': '5',\n  'links': {'code': {'href': 'https://api.beta.ons.gov.uk/v1/code-lists/mid-year-pop-age/codes/5',\n    'id': '5'},\n   'code_list': {'href': 'https://api.beta.ons.gov.uk/v1/code-lists/mid-year-pop-age',\n    'id': 'mid-year-pop-age'},\n   'version': {'href': 'https://api.beta.ons.gov.uk/v1/datasets/mid-year-pop-est/editions/time-series/versions/4',\n    'id': '4'}},\n  'option': '5'},\n {'dimension': 'age',\n  'label': '50',\n  'links': {'code': {'href': 'https://api.beta.ons.gov.uk/v1/code-lists/mid-year-pop-age/codes/50',\n    'id': '50'},\n   'code_list': {'href': 'https://api.beta.ons.gov.uk/v1/code-lists/mid-year-pop-age',\n    'id': 'mid-year-pop-age'},\n   'version': {'href': 'https://api.beta.ons.gov.uk/v1/datasets/mid-year-pop-est/editions/time-series/versions/4',\n    'id': '4'}},\n  'option': '50'},\n {'dimension': 'age',\n  'label': '51',\n  'links': {'code': {'href': 'https://api.beta.ons.gov.uk/v1/code-lists/mid-year-pop-age/codes/51',\n    'id': '51'},\n   'code_list': {'href': 'https://api.beta.ons.gov.uk/v1/code-lists/mid-year-pop-age',\n    'id': 'mid-year-pop-age'},\n   'version': {'href': 'https://api.beta.ons.gov.uk/v1/datasets/mid-year-pop-est/editions/time-series/versions/4',\n    'id': '4'}},\n  'option': '51'},\n {'dimension': 'age',\n  'label': '52',\n  'links': {'code': {'href': 'https://api.beta.ons.gov.uk/v1/code-lists/mid-year-pop-age/codes/52',\n    'id': '52'},\n   'code_list': {'href': 'https://api.beta.ons.gov.uk/v1/code-lists/mid-year-pop-age',\n    'id': 'mid-year-pop-age'},\n   'version': {'href': 'https://api.beta.ons.gov.uk/v1/datasets/mid-year-pop-est/editions/time-series/versions/4',\n    'id': '4'}},\n  'option': '52'},\n {'dimension': 'age',\n  'label': '53',\n  'links': {'code': {'href': 'https://api.beta.ons.gov.uk/v1/code-lists/mid-year-pop-age/codes/53',\n    'id': '53'},\n   'code_list': {'href': 'https://api.beta.ons.gov.uk/v1/code-lists/mid-year-pop-age',\n    'id': 'mid-year-pop-age'},\n   'version': {'href': 'https://api.beta.ons.gov.uk/v1/datasets/mid-year-pop-est/editions/time-series/versions/4',\n    'id': '4'}},\n  'option': '53'},\n {'dimension': 'age',\n  'label': '54',\n  'links': {'code': {'href': 'https://api.beta.ons.gov.uk/v1/code-lists/mid-year-pop-age/codes/54',\n    'id': '54'},\n   'code_list': {'href': 'https://api.beta.ons.gov.uk/v1/code-lists/mid-year-pop-age',\n    'id': 'mid-year-pop-age'},\n   'version': {'href': 'https://api.beta.ons.gov.uk/v1/datasets/mid-year-pop-est/editions/time-series/versions/4',\n    'id': '4'}},\n  'option': '54'},\n {'dimension': 'age',\n  'label': '55',\n  'links': {'code': {'href': 'https://api.beta.ons.gov.uk/v1/code-lists/mid-year-pop-age/codes/55',\n    'id': '55'},\n   'code_list': {'href': 'https://api.beta.ons.gov.uk/v1/code-lists/mid-year-pop-age',\n    'id': 'mid-year-pop-age'},\n   'version': {'href': 'https://api.beta.ons.gov.uk/v1/datasets/mid-year-pop-est/editions/time-series/versions/4',\n    'id': '4'}},\n  'option': '55'},\n {'dimension': 'age',\n  'label': '56',\n  'links': {'code': {'href': 'https://api.beta.ons.gov.uk/v1/code-lists/mid-year-pop-age/codes/56',\n    'id': '56'},\n   'code_list': {'href': 'https://api.beta.ons.gov.uk/v1/code-lists/mid-year-pop-age',\n    'id': 'mid-year-pop-age'},\n   'version': {'href': 'https://api.beta.ons.gov.uk/v1/datasets/mid-year-pop-est/editions/time-series/versions/4',\n    'id': '4'}},\n  'option': '56'},\n {'dimension': 'age',\n  'label': '57',\n  'links': {'code': {'href': 'https://api.beta.ons.gov.uk/v1/code-lists/mid-year-pop-age/codes/57',\n    'id': '57'},\n   'code_list': {'href': 'https://api.beta.ons.gov.uk/v1/code-lists/mid-year-pop-age',\n    'id': 'mid-year-pop-age'},\n   'version': {'href': 'https://api.beta.ons.gov.uk/v1/datasets/mid-year-pop-est/editions/time-series/versions/4',\n    'id': '4'}},\n  'option': '57'},\n {'dimension': 'age',\n  'label': '58',\n  'links': {'code': {'href': 'https://api.beta.ons.gov.uk/v1/code-lists/mid-year-pop-age/codes/58',\n    'id': '58'},\n   'code_list': {'href': 'https://api.beta.ons.gov.uk/v1/code-lists/mid-year-pop-age',\n    'id': 'mid-year-pop-age'},\n   'version': {'href': 'https://api.beta.ons.gov.uk/v1/datasets/mid-year-pop-est/editions/time-series/versions/4',\n    'id': '4'}},\n  'option': '58'},\n {'dimension': 'age',\n  'label': '59',\n  'links': {'code': {'href': 'https://api.beta.ons.gov.uk/v1/code-lists/mid-year-pop-age/codes/59',\n    'id': '59'},\n   'code_list': {'href': 'https://api.beta.ons.gov.uk/v1/code-lists/mid-year-pop-age',\n    'id': 'mid-year-pop-age'},\n   'version': {'href': 'https://api.beta.ons.gov.uk/v1/datasets/mid-year-pop-est/editions/time-series/versions/4',\n    'id': '4'}},\n  'option': '59'},\n {'dimension': 'age',\n  'label': '6',\n  'links': {'code': {'href': 'https://api.beta.ons.gov.uk/v1/code-lists/mid-year-pop-age/codes/6',\n    'id': '6'},\n   'code_list': {'href': 'https://api.beta.ons.gov.uk/v1/code-lists/mid-year-pop-age',\n    'id': 'mid-year-pop-age'},\n   'version': {'href': 'https://api.beta.ons.gov.uk/v1/datasets/mid-year-pop-est/editions/time-series/versions/4',\n    'id': '4'}},\n  'option': '6'},\n {'dimension': 'age',\n  'label': '60',\n  'links': {'code': {'href': 'https://api.beta.ons.gov.uk/v1/code-lists/mid-year-pop-age/codes/60',\n    'id': '60'},\n   'code_list': {'href': 'https://api.beta.ons.gov.uk/v1/code-lists/mid-year-pop-age',\n    'id': 'mid-year-pop-age'},\n   'version': {'href': 'https://api.beta.ons.gov.uk/v1/datasets/mid-year-pop-est/editions/time-series/versions/4',\n    'id': '4'}},\n  'option': '60'},\n {'dimension': 'age',\n  'label': '61',\n  'links': {'code': {'href': 'https://api.beta.ons.gov.uk/v1/code-lists/mid-year-pop-age/codes/61',\n    'id': '61'},\n   'code_list': {'href': 'https://api.beta.ons.gov.uk/v1/code-lists/mid-year-pop-age',\n    'id': 'mid-year-pop-age'},\n   'version': {'href': 'https://api.beta.ons.gov.uk/v1/datasets/mid-year-pop-est/editions/time-series/versions/4',\n    'id': '4'}},\n  'option': '61'},\n {'dimension': 'age',\n  'label': '62',\n  'links': {'code': {'href': 'https://api.beta.ons.gov.uk/v1/code-lists/mid-year-pop-age/codes/62',\n    'id': '62'},\n   'code_list': {'href': 'https://api.beta.ons.gov.uk/v1/code-lists/mid-year-pop-age',\n    'id': 'mid-year-pop-age'},\n   'version': {'href': 'https://api.beta.ons.gov.uk/v1/datasets/mid-year-pop-est/editions/time-series/versions/4',\n    'id': '4'}},\n  'option': '62'},\n {'dimension': 'age',\n  'label': '63',\n  'links': {'code': {'href': 'https://api.beta.ons.gov.uk/v1/code-lists/mid-year-pop-age/codes/63',\n    'id': '63'},\n   'code_list': {'href': 'https://api.beta.ons.gov.uk/v1/code-lists/mid-year-pop-age',\n    'id': 'mid-year-pop-age'},\n   'version': {'href': 'https://api.beta.ons.gov.uk/v1/datasets/mid-year-pop-est/editions/time-series/versions/4',\n    'id': '4'}},\n  'option': '63'},\n {'dimension': 'age',\n  'label': '64',\n  'links': {'code': {'href': 'https://api.beta.ons.gov.uk/v1/code-lists/mid-year-pop-age/codes/64',\n    'id': '64'},\n   'code_list': {'href': 'https://api.beta.ons.gov.uk/v1/code-lists/mid-year-pop-age',\n    'id': 'mid-year-pop-age'},\n   'version': {'href': 'https://api.beta.ons.gov.uk/v1/datasets/mid-year-pop-est/editions/time-series/versions/4',\n    'id': '4'}},\n  'option': '64'},\n {'dimension': 'age',\n  'label': '65',\n  'links': {'code': {'href': 'https://api.beta.ons.gov.uk/v1/code-lists/mid-year-pop-age/codes/65',\n    'id': '65'},\n   'code_list': {'href': 'https://api.beta.ons.gov.uk/v1/code-lists/mid-year-pop-age',\n    'id': 'mid-year-pop-age'},\n   'version': {'href': 'https://api.beta.ons.gov.uk/v1/datasets/mid-year-pop-est/editions/time-series/versions/4',\n    'id': '4'}},\n  'option': '65'},\n {'dimension': 'age',\n  'label': '66',\n  'links': {'code': {'href': 'https://api.beta.ons.gov.uk/v1/code-lists/mid-year-pop-age/codes/66',\n    'id': '66'},\n   'code_list': {'href': 'https://api.beta.ons.gov.uk/v1/code-lists/mid-year-pop-age',\n    'id': 'mid-year-pop-age'},\n   'version': {'href': 'https://api.beta.ons.gov.uk/v1/datasets/mid-year-pop-est/editions/time-series/versions/4',\n    'id': '4'}},\n  'option': '66'},\n {'dimension': 'age',\n  'label': '67',\n  'links': {'code': {'href': 'https://api.beta.ons.gov.uk/v1/code-lists/mid-year-pop-age/codes/67',\n    'id': '67'},\n   'code_list': {'href': 'https://api.beta.ons.gov.uk/v1/code-lists/mid-year-pop-age',\n    'id': 'mid-year-pop-age'},\n   'version': {'href': 'https://api.beta.ons.gov.uk/v1/datasets/mid-year-pop-est/editions/time-series/versions/4',\n    'id': '4'}},\n  'option': '67'},\n {'dimension': 'age',\n  'label': '68',\n  'links': {'code': {'href': 'https://api.beta.ons.gov.uk/v1/code-lists/mid-year-pop-age/codes/68',\n    'id': '68'},\n   'code_list': {'href': 'https://api.beta.ons.gov.uk/v1/code-lists/mid-year-pop-age',\n    'id': 'mid-year-pop-age'},\n   'version': {'href': 'https://api.beta.ons.gov.uk/v1/datasets/mid-year-pop-est/editions/time-series/versions/4',\n    'id': '4'}},\n  'option': '68'},\n {'dimension': 'age',\n  'label': '69',\n  'links': {'code': {'href': 'https://api.beta.ons.gov.uk/v1/code-lists/mid-year-pop-age/codes/69',\n    'id': '69'},\n   'code_list': {'href': 'https://api.beta.ons.gov.uk/v1/code-lists/mid-year-pop-age',\n    'id': 'mid-year-pop-age'},\n   'version': {'href': 'https://api.beta.ons.gov.uk/v1/datasets/mid-year-pop-est/editions/time-series/versions/4',\n    'id': '4'}},\n  'option': '69'},\n {'dimension': 'age',\n  'label': '7',\n  'links': {'code': {'href': 'https://api.beta.ons.gov.uk/v1/code-lists/mid-year-pop-age/codes/7',\n    'id': '7'},\n   'code_list': {'href': 'https://api.beta.ons.gov.uk/v1/code-lists/mid-year-pop-age',\n    'id': 'mid-year-pop-age'},\n   'version': {'href': 'https://api.beta.ons.gov.uk/v1/datasets/mid-year-pop-est/editions/time-series/versions/4',\n    'id': '4'}},\n  'option': '7'},\n {'dimension': 'age',\n  'label': '70',\n  'links': {'code': {'href': 'https://api.beta.ons.gov.uk/v1/code-lists/mid-year-pop-age/codes/70',\n    'id': '70'},\n   'code_list': {'href': 'https://api.beta.ons.gov.uk/v1/code-lists/mid-year-pop-age',\n    'id': 'mid-year-pop-age'},\n   'version': {'href': 'https://api.beta.ons.gov.uk/v1/datasets/mid-year-pop-est/editions/time-series/versions/4',\n    'id': '4'}},\n  'option': '70'},\n {'dimension': 'age',\n  'label': '71',\n  'links': {'code': {'href': 'https://api.beta.ons.gov.uk/v1/code-lists/mid-year-pop-age/codes/71',\n    'id': '71'},\n   'code_list': {'href': 'https://api.beta.ons.gov.uk/v1/code-lists/mid-year-pop-age',\n    'id': 'mid-year-pop-age'},\n   'version': {'href': 'https://api.beta.ons.gov.uk/v1/datasets/mid-year-pop-est/editions/time-series/versions/4',\n    'id': '4'}},\n  'option': '71'},\n {'dimension': 'age',\n  'label': '72',\n  'links': {'code': {'href': 'https://api.beta.ons.gov.uk/v1/code-lists/mid-year-pop-age/codes/72',\n    'id': '72'},\n   'code_list': {'href': 'https://api.beta.ons.gov.uk/v1/code-lists/mid-year-pop-age',\n    'id': 'mid-year-pop-age'},\n   'version': {'href': 'https://api.beta.ons.gov.uk/v1/datasets/mid-year-pop-est/editions/time-series/versions/4',\n    'id': '4'}},\n  'option': '72'},\n {'dimension': 'age',\n  'label': '73',\n  'links': {'code': {'href': 'https://api.beta.ons.gov.uk/v1/code-lists/mid-year-pop-age/codes/73',\n    'id': '73'},\n   'code_list': {'href': 'https://api.beta.ons.gov.uk/v1/code-lists/mid-year-pop-age',\n    'id': 'mid-year-pop-age'},\n   'version': {'href': 'https://api.beta.ons.gov.uk/v1/datasets/mid-year-pop-est/editions/time-series/versions/4',\n    'id': '4'}},\n  'option': '73'},\n {'dimension': 'age',\n  'label': '74',\n  'links': {'code': {'href': 'https://api.beta.ons.gov.uk/v1/code-lists/mid-year-pop-age/codes/74',\n    'id': '74'},\n   'code_list': {'href': 'https://api.beta.ons.gov.uk/v1/code-lists/mid-year-pop-age',\n    'id': 'mid-year-pop-age'},\n   'version': {'href': 'https://api.beta.ons.gov.uk/v1/datasets/mid-year-pop-est/editions/time-series/versions/4',\n    'id': '4'}},\n  'option': '74'},\n {'dimension': 'age',\n  'label': '75',\n  'links': {'code': {'href': 'https://api.beta.ons.gov.uk/v1/code-lists/mid-year-pop-age/codes/75',\n    'id': '75'},\n   'code_list': {'href': 'https://api.beta.ons.gov.uk/v1/code-lists/mid-year-pop-age',\n    'id': 'mid-year-pop-age'},\n   'version': {'href': 'https://api.beta.ons.gov.uk/v1/datasets/mid-year-pop-est/editions/time-series/versions/4',\n    'id': '4'}},\n  'option': '75'},\n {'dimension': 'age',\n  'label': '76',\n  'links': {'code': {'href': 'https://api.beta.ons.gov.uk/v1/code-lists/mid-year-pop-age/codes/76',\n    'id': '76'},\n   'code_list': {'href': 'https://api.beta.ons.gov.uk/v1/code-lists/mid-year-pop-age',\n    'id': 'mid-year-pop-age'},\n   'version': {'href': 'https://api.beta.ons.gov.uk/v1/datasets/mid-year-pop-est/editions/time-series/versions/4',\n    'id': '4'}},\n  'option': '76'},\n {'dimension': 'age',\n  'label': '77',\n  'links': {'code': {'href': 'https://api.beta.ons.gov.uk/v1/code-lists/mid-year-pop-age/codes/77',\n    'id': '77'},\n   'code_list': {'href': 'https://api.beta.ons.gov.uk/v1/code-lists/mid-year-pop-age',\n    'id': 'mid-year-pop-age'},\n   'version': {'href': 'https://api.beta.ons.gov.uk/v1/datasets/mid-year-pop-est/editions/time-series/versions/4',\n    'id': '4'}},\n  'option': '77'},\n {'dimension': 'age',\n  'label': '78',\n  'links': {'code': {'href': 'https://api.beta.ons.gov.uk/v1/code-lists/mid-year-pop-age/codes/78',\n    'id': '78'},\n   'code_list': {'href': 'https://api.beta.ons.gov.uk/v1/code-lists/mid-year-pop-age',\n    'id': 'mid-year-pop-age'},\n   'version': {'href': 'https://api.beta.ons.gov.uk/v1/datasets/mid-year-pop-est/editions/time-series/versions/4',\n    'id': '4'}},\n  'option': '78'},\n {'dimension': 'age',\n  'label': '79',\n  'links': {'code': {'href': 'https://api.beta.ons.gov.uk/v1/code-lists/mid-year-pop-age/codes/79',\n    'id': '79'},\n   'code_list': {'href': 'https://api.beta.ons.gov.uk/v1/code-lists/mid-year-pop-age',\n    'id': 'mid-year-pop-age'},\n   'version': {'href': 'https://api.beta.ons.gov.uk/v1/datasets/mid-year-pop-est/editions/time-series/versions/4',\n    'id': '4'}},\n  'option': '79'},\n {'dimension': 'age',\n  'label': '8',\n  'links': {'code': {'href': 'https://api.beta.ons.gov.uk/v1/code-lists/mid-year-pop-age/codes/8',\n    'id': '8'},\n   'code_list': {'href': 'https://api.beta.ons.gov.uk/v1/code-lists/mid-year-pop-age',\n    'id': 'mid-year-pop-age'},\n   'version': {'href': 'https://api.beta.ons.gov.uk/v1/datasets/mid-year-pop-est/editions/time-series/versions/4',\n    'id': '4'}},\n  'option': '8'},\n {'dimension': 'age',\n  'label': '80',\n  'links': {'code': {'href': 'https://api.beta.ons.gov.uk/v1/code-lists/mid-year-pop-age/codes/80',\n    'id': '80'},\n   'code_list': {'href': 'https://api.beta.ons.gov.uk/v1/code-lists/mid-year-pop-age',\n    'id': 'mid-year-pop-age'},\n   'version': {'href': 'https://api.beta.ons.gov.uk/v1/datasets/mid-year-pop-est/editions/time-series/versions/4',\n    'id': '4'}},\n  'option': '80'},\n {'dimension': 'age',\n  'label': '81',\n  'links': {'code': {'href': 'https://api.beta.ons.gov.uk/v1/code-lists/mid-year-pop-age/codes/81',\n    'id': '81'},\n   'code_list': {'href': 'https://api.beta.ons.gov.uk/v1/code-lists/mid-year-pop-age',\n    'id': 'mid-year-pop-age'},\n   'version': {'href': 'https://api.beta.ons.gov.uk/v1/datasets/mid-year-pop-est/editions/time-series/versions/4',\n    'id': '4'}},\n  'option': '81'},\n {'dimension': 'age',\n  'label': '82',\n  'links': {'code': {'href': 'https://api.beta.ons.gov.uk/v1/code-lists/mid-year-pop-age/codes/82',\n    'id': '82'},\n   'code_list': {'href': 'https://api.beta.ons.gov.uk/v1/code-lists/mid-year-pop-age',\n    'id': 'mid-year-pop-age'},\n   'version': {'href': 'https://api.beta.ons.gov.uk/v1/datasets/mid-year-pop-est/editions/time-series/versions/4',\n    'id': '4'}},\n  'option': '82'},\n {'dimension': 'age',\n  'label': '83',\n  'links': {'code': {'href': 'https://api.beta.ons.gov.uk/v1/code-lists/mid-year-pop-age/codes/83',\n    'id': '83'},\n   'code_list': {'href': 'https://api.beta.ons.gov.uk/v1/code-lists/mid-year-pop-age',\n    'id': 'mid-year-pop-age'},\n   'version': {'href': 'https://api.beta.ons.gov.uk/v1/datasets/mid-year-pop-est/editions/time-series/versions/4',\n    'id': '4'}},\n  'option': '83'},\n {'dimension': 'age',\n  'label': '84',\n  'links': {'code': {'href': 'https://api.beta.ons.gov.uk/v1/code-lists/mid-year-pop-age/codes/84',\n    'id': '84'},\n   'code_list': {'href': 'https://api.beta.ons.gov.uk/v1/code-lists/mid-year-pop-age',\n    'id': 'mid-year-pop-age'},\n   'version': {'href': 'https://api.beta.ons.gov.uk/v1/datasets/mid-year-pop-est/editions/time-series/versions/4',\n    'id': '4'}},\n  'option': '84'},\n {'dimension': 'age',\n  'label': '85',\n  'links': {'code': {'href': 'https://api.beta.ons.gov.uk/v1/code-lists/mid-year-pop-age/codes/85',\n    'id': '85'},\n   'code_list': {'href': 'https://api.beta.ons.gov.uk/v1/code-lists/mid-year-pop-age',\n    'id': 'mid-year-pop-age'},\n   'version': {'href': 'https://api.beta.ons.gov.uk/v1/datasets/mid-year-pop-est/editions/time-series/versions/4',\n    'id': '4'}},\n  'option': '85'},\n {'dimension': 'age',\n  'label': '86',\n  'links': {'code': {'href': 'https://api.beta.ons.gov.uk/v1/code-lists/mid-year-pop-age/codes/86',\n    'id': '86'},\n   'code_list': {'href': 'https://api.beta.ons.gov.uk/v1/code-lists/mid-year-pop-age',\n    'id': 'mid-year-pop-age'},\n   'version': {'href': 'https://api.beta.ons.gov.uk/v1/datasets/mid-year-pop-est/editions/time-series/versions/4',\n    'id': '4'}},\n  'option': '86'},\n {'dimension': 'age',\n  'label': '87',\n  'links': {'code': {'href': 'https://api.beta.ons.gov.uk/v1/code-lists/mid-year-pop-age/codes/87',\n    'id': '87'},\n   'code_list': {'href': 'https://api.beta.ons.gov.uk/v1/code-lists/mid-year-pop-age',\n    'id': 'mid-year-pop-age'},\n   'version': {'href': 'https://api.beta.ons.gov.uk/v1/datasets/mid-year-pop-est/editions/time-series/versions/4',\n    'id': '4'}},\n  'option': '87'},\n {'dimension': 'age',\n  'label': '88',\n  'links': {'code': {'href': 'https://api.beta.ons.gov.uk/v1/code-lists/mid-year-pop-age/codes/88',\n    'id': '88'},\n   'code_list': {'href': 'https://api.beta.ons.gov.uk/v1/code-lists/mid-year-pop-age',\n    'id': 'mid-year-pop-age'},\n   'version': {'href': 'https://api.beta.ons.gov.uk/v1/datasets/mid-year-pop-est/editions/time-series/versions/4',\n    'id': '4'}},\n  'option': '88'},\n {'dimension': 'age',\n  'label': '89',\n  'links': {'code': {'href': 'https://api.beta.ons.gov.uk/v1/code-lists/mid-year-pop-age/codes/89',\n    'id': '89'},\n   'code_list': {'href': 'https://api.beta.ons.gov.uk/v1/code-lists/mid-year-pop-age',\n    'id': 'mid-year-pop-age'},\n   'version': {'href': 'https://api.beta.ons.gov.uk/v1/datasets/mid-year-pop-est/editions/time-series/versions/4',\n    'id': '4'}},\n  'option': '89'},\n {'dimension': 'age',\n  'label': '9',\n  'links': {'code': {'href': 'https://api.beta.ons.gov.uk/v1/code-lists/mid-year-pop-age/codes/9',\n    'id': '9'},\n   'code_list': {'href': 'https://api.beta.ons.gov.uk/v1/code-lists/mid-year-pop-age',\n    'id': 'mid-year-pop-age'},\n   'version': {'href': 'https://api.beta.ons.gov.uk/v1/datasets/mid-year-pop-est/editions/time-series/versions/4',\n    'id': '4'}},\n  'option': '9'},\n {'dimension': 'age',\n  'label': '90+',\n  'links': {'code': {'href': 'https://api.beta.ons.gov.uk/v1/code-lists/mid-year-pop-age/codes/90+',\n    'id': '90+'},\n   'code_list': {'href': 'https://api.beta.ons.gov.uk/v1/code-lists/mid-year-pop-age',\n    'id': 'mid-year-pop-age'},\n   'version': {'href': 'https://api.beta.ons.gov.uk/v1/datasets/mid-year-pop-est/editions/time-series/versions/4',\n    'id': '4'}},\n  'option': '90+'},\n {'dimension': 'age',\n  'label': 'Total',\n  'links': {'code': {'href': 'https://api.beta.ons.gov.uk/v1/code-lists/mid-year-pop-age/codes/total',\n    'id': 'total'},\n   'code_list': {'href': 'https://api.beta.ons.gov.uk/v1/code-lists/mid-year-pop-age',\n    'id': 'mid-year-pop-age'},\n   'version': {'href': 'https://api.beta.ons.gov.uk/v1/datasets/mid-year-pop-est/editions/time-series/versions/4',\n    'id': '4'}},\n  'option': 'total'}]"
     },
     "execution_count": 57,
     "metadata": {},
     "output_type": "execute_result"
    }
   ],
   "source": [],
   "metadata": {
    "collapsed": false,
    "pycharm": {
     "name": "#%%\n"
    }
   }
  },
  {
   "cell_type": "code",
   "execution_count": 75,
   "outputs": [
    {
     "name": "stdout",
     "output_type": "stream",
     "text": [
      "<Response [200]>\n"
     ]
    },
    {
     "data": {
      "text/plain": "{'@context': 'https://cdn.ons.gov.uk/assets/json-ld/context.json',\n 'dimensions': {'geography': {'option': {'href': 'https://api.beta.ons.gov.uk/v1/code-lists/mid-year-pop-geography/codes/K02000001',\n    'id': 'K02000001'}},\n  'sex': {'option': {'href': 'https://api.beta.ons.gov.uk/v1/code-lists/mid-year-pop-sex/codes/0',\n    'id': '0'}},\n  'time': {'option': {'href': 'https://api.beta.ons.gov.uk/v1/code-lists/calendar-years/codes/2017',\n    'id': '2017'}}},\n 'limit': 10000,\n 'links': {'dataset_metadata': {'href': 'https://api.beta.ons.gov.uk/v1/datasets/mid-year-pop-est/editions/time-series/versions/4/metadata'},\n  'self': {'href': 'https://api.beta.ons.gov.uk/v1/datasets/mid-year-pop-est/editions/time-series/versions/4/observations?time=2017&geography=K02000001&sex=0&age=*'},\n  'version': {'href': 'https://api.beta.ons.gov.uk/v1/datasets/mid-year-pop-est/editions/time-series/versions/4',\n   'id': '4'}},\n 'observations': [{'dimensions': {'age': {'href': 'https://api.beta.ons.gov.uk/v1/code-lists/mid-year-pop-age/codes/13',\n     'id': '13',\n     'label': '13'}},\n   'observation': '728082'},\n  {'dimensions': {'age': {'href': 'https://api.beta.ons.gov.uk/v1/code-lists/mid-year-pop-age/codes/48',\n     'id': '48',\n     'label': '48'}},\n   'observation': '925425'},\n  {'dimensions': {'age': {'href': 'https://api.beta.ons.gov.uk/v1/code-lists/mid-year-pop-age/codes/31',\n     'id': '31',\n     'label': '31'}},\n   'observation': '892993'},\n  {'dimensions': {'age': {'href': 'https://api.beta.ons.gov.uk/v1/code-lists/mid-year-pop-age/codes/81',\n     'id': '81',\n     'label': '81'}},\n   'observation': '355285'},\n  {'dimensions': {'age': {'href': 'https://api.beta.ons.gov.uk/v1/code-lists/mid-year-pop-age/codes/37',\n     'id': '37',\n     'label': '37'}},\n   'observation': '883310'},\n  {'dimensions': {'age': {'href': 'https://api.beta.ons.gov.uk/v1/code-lists/mid-year-pop-age/codes/65',\n     'id': '65',\n     'label': '65'}},\n   'observation': '672855'},\n  {'dimensions': {'age': {'href': 'https://api.beta.ons.gov.uk/v1/code-lists/mid-year-pop-age/codes/59',\n     'id': '59',\n     'label': '59'}},\n   'observation': '790735'},\n  {'dimensions': {'age': {'href': 'https://api.beta.ons.gov.uk/v1/code-lists/mid-year-pop-age/codes/39',\n     'id': '39',\n     'label': '39'}},\n   'observation': '790619'},\n  {'dimensions': {'age': {'href': 'https://api.beta.ons.gov.uk/v1/code-lists/mid-year-pop-age/codes/47',\n     'id': '47',\n     'label': '47'}},\n   'observation': '903195'},\n  {'dimensions': {'age': {'href': 'https://api.beta.ons.gov.uk/v1/code-lists/mid-year-pop-age/codes/57',\n     'id': '57',\n     'label': '57'}},\n   'observation': '827799'},\n  {'dimensions': {'age': {'href': 'https://api.beta.ons.gov.uk/v1/code-lists/mid-year-pop-age/codes/12',\n     'id': '12',\n     'label': '12'}},\n   'observation': '740831'},\n  {'dimensions': {'age': {'href': 'https://api.beta.ons.gov.uk/v1/code-lists/mid-year-pop-age/codes/85',\n     'id': '85',\n     'label': '85'}},\n   'observation': '254442'},\n  {'dimensions': {'age': {'href': 'https://api.beta.ons.gov.uk/v1/code-lists/mid-year-pop-age/codes/52',\n     'id': '52',\n     'label': '52'}},\n   'observation': '944080'},\n  {'dimensions': {'age': {'href': 'https://api.beta.ons.gov.uk/v1/code-lists/mid-year-pop-age/codes/68',\n     'id': '68',\n     'label': '68'}},\n   'observation': '701792'},\n  {'dimensions': {'age': {'href': 'https://api.beta.ons.gov.uk/v1/code-lists/mid-year-pop-age/codes/71',\n     'id': '71',\n     'label': '71'}},\n   'observation': '609960'},\n  {'dimensions': {'age': {'href': 'https://api.beta.ons.gov.uk/v1/code-lists/mid-year-pop-age/codes/80',\n     'id': '80',\n     'label': '80'}},\n   'observation': '381286'},\n  {'dimensions': {'age': {'href': 'https://api.beta.ons.gov.uk/v1/code-lists/mid-year-pop-age/codes/46',\n     'id': '46',\n     'label': '46'}},\n   'observation': '924750'},\n  {'dimensions': {'age': {'href': 'https://api.beta.ons.gov.uk/v1/code-lists/mid-year-pop-age/codes/63',\n     'id': '63',\n     'label': '63'}},\n   'observation': '704909'},\n  {'dimensions': {'age': {'href': 'https://api.beta.ons.gov.uk/v1/code-lists/mid-year-pop-age/codes/73',\n     'id': '73',\n     'label': '73'}},\n   'observation': '582014'},\n  {'dimensions': {'age': {'href': 'https://api.beta.ons.gov.uk/v1/code-lists/mid-year-pop-age/codes/79',\n     'id': '79',\n     'label': '79'}},\n   'observation': '408269'},\n  {'dimensions': {'age': {'href': 'https://api.beta.ons.gov.uk/v1/code-lists/mid-year-pop-age/codes/34',\n     'id': '34',\n     'label': '34'}},\n   'observation': '877673'},\n  {'dimensions': {'age': {'href': 'https://api.beta.ons.gov.uk/v1/code-lists/mid-year-pop-age/codes/15',\n     'id': '15',\n     'label': '15'}},\n   'observation': '697784'},\n  {'dimensions': {'age': {'href': 'https://api.beta.ons.gov.uk/v1/code-lists/mid-year-pop-age/codes/76',\n     'id': '76',\n     'label': '76'}},\n   'observation': '427056'},\n  {'dimensions': {'age': {'href': 'https://api.beta.ons.gov.uk/v1/code-lists/mid-year-pop-age/codes/36',\n     'id': '36',\n     'label': '36'}},\n   'observation': '883963'},\n  {'dimensions': {'age': {'href': 'https://api.beta.ons.gov.uk/v1/code-lists/mid-year-pop-age/codes/44',\n     'id': '44',\n     'label': '44'}},\n   'observation': '858769'},\n  {'dimensions': {'age': {'href': 'https://api.beta.ons.gov.uk/v1/code-lists/mid-year-pop-age/codes/27',\n     'id': '27',\n     'label': '27'}},\n   'observation': '907722'},\n  {'dimensions': {'age': {'href': 'https://api.beta.ons.gov.uk/v1/code-lists/mid-year-pop-age/codes/8',\n     'id': '8',\n     'label': '8'}},\n   'observation': '807286'},\n  {'dimensions': {'age': {'href': 'https://api.beta.ons.gov.uk/v1/code-lists/mid-year-pop-age/codes/54',\n     'id': '54',\n     'label': '54'}},\n   'observation': '914385'},\n  {'dimensions': {'age': {'href': 'https://api.beta.ons.gov.uk/v1/code-lists/mid-year-pop-age/codes/7',\n     'id': '7',\n     'label': '7'}},\n   'observation': '815974'},\n  {'dimensions': {'age': {'href': 'https://api.beta.ons.gov.uk/v1/code-lists/mid-year-pop-age/codes/20',\n     'id': '20',\n     'label': '20'}},\n   'observation': '816601'},\n  {'dimensions': {'age': {'href': 'https://api.beta.ons.gov.uk/v1/code-lists/mid-year-pop-age/codes/21',\n     'id': '21',\n     'label': '21'}},\n   'observation': '823515'},\n  {'dimensions': {'age': {'href': 'https://api.beta.ons.gov.uk/v1/code-lists/mid-year-pop-age/codes/38',\n     'id': '38',\n     'label': '38'}},\n   'observation': '847662'},\n  {'dimensions': {'age': {'href': 'https://api.beta.ons.gov.uk/v1/code-lists/mid-year-pop-age/codes/41',\n     'id': '41',\n     'label': '41'}},\n   'observation': '792530'},\n  {'dimensions': {'age': {'href': 'https://api.beta.ons.gov.uk/v1/code-lists/mid-year-pop-age/codes/53',\n     'id': '53',\n     'label': '53'}},\n   'observation': '934498'},\n  {'dimensions': {'age': {'href': 'https://api.beta.ons.gov.uk/v1/code-lists/mid-year-pop-age/codes/35',\n     'id': '35',\n     'label': '35'}},\n   'observation': '876648'},\n  {'dimensions': {'age': {'href': 'https://api.beta.ons.gov.uk/v1/code-lists/mid-year-pop-age/codes/69',\n     'id': '69',\n     'label': '69'}},\n   'observation': '736232'},\n  {'dimensions': {'age': {'href': 'https://api.beta.ons.gov.uk/v1/code-lists/mid-year-pop-age/codes/43',\n     'id': '43',\n     'label': '43'}},\n   'observation': '822046'},\n  {'dimensions': {'age': {'href': 'https://api.beta.ons.gov.uk/v1/code-lists/mid-year-pop-age/codes/82',\n     'id': '82',\n     'label': '82'}},\n   'observation': '329024'},\n  {'dimensions': {'age': {'href': 'https://api.beta.ons.gov.uk/v1/code-lists/mid-year-pop-age/codes/18',\n     'id': '18',\n     'label': '18'}},\n   'observation': '765845'},\n  {'dimensions': {'age': {'href': 'https://api.beta.ons.gov.uk/v1/code-lists/mid-year-pop-age/codes/58',\n     'id': '58',\n     'label': '58'}},\n   'observation': '809151'},\n  {'dimensions': {'age': {'href': 'https://api.beta.ons.gov.uk/v1/code-lists/mid-year-pop-age/codes/3',\n     'id': '3',\n     'label': '3'}},\n   'observation': '799076'},\n  {'dimensions': {'age': {'href': 'https://api.beta.ons.gov.uk/v1/code-lists/mid-year-pop-age/codes/50',\n     'id': '50',\n     'label': '50'}},\n   'observation': '938170'},\n  {'dimensions': {'age': {'href': 'https://api.beta.ons.gov.uk/v1/code-lists/mid-year-pop-age/codes/87',\n     'id': '87',\n     'label': '87'}},\n   'observation': '204422'},\n  {'dimensions': {'age': {'href': 'https://api.beta.ons.gov.uk/v1/code-lists/mid-year-pop-age/codes/28',\n     'id': '28',\n     'label': '28'}},\n   'observation': '899739'},\n  {'dimensions': {'age': {'href': 'https://api.beta.ons.gov.uk/v1/code-lists/mid-year-pop-age/codes/62',\n     'id': '62',\n     'label': '62'}},\n   'observation': '705006'},\n  {'dimensions': {'age': {'href': 'https://api.beta.ons.gov.uk/v1/code-lists/mid-year-pop-age/codes/24',\n     'id': '24',\n     'label': '24'}},\n   'observation': '871599'},\n  {'dimensions': {'age': {'href': 'https://api.beta.ons.gov.uk/v1/code-lists/mid-year-pop-age/codes/90+',\n     'id': '90+',\n     'label': '90+'}},\n   'observation': '579776'},\n  {'dimensions': {'age': {'href': 'https://api.beta.ons.gov.uk/v1/code-lists/mid-year-pop-age/codes/78',\n     'id': '78',\n     'label': '78'}},\n   'observation': '426851'},\n  {'dimensions': {'age': {'href': 'https://api.beta.ons.gov.uk/v1/code-lists/mid-year-pop-age/codes/89',\n     'id': '89',\n     'label': '89'}},\n   'observation': '147643'},\n  {'dimensions': {'age': {'href': 'https://api.beta.ons.gov.uk/v1/code-lists/mid-year-pop-age/codes/64',\n     'id': '64',\n     'label': '64'}},\n   'observation': '694830'},\n  {'dimensions': {'age': {'href': 'https://api.beta.ons.gov.uk/v1/code-lists/mid-year-pop-age/codes/16',\n     'id': '16',\n     'label': '16'}},\n   'observation': '717803'},\n  {'dimensions': {'age': {'href': 'https://api.beta.ons.gov.uk/v1/code-lists/mid-year-pop-age/codes/51',\n     'id': '51',\n     'label': '51'}},\n   'observation': '936983'},\n  {'dimensions': {'age': {'href': 'https://api.beta.ons.gov.uk/v1/code-lists/mid-year-pop-age/codes/42',\n     'id': '42',\n     'label': '42'}},\n   'observation': '807917'},\n  {'dimensions': {'age': {'href': 'https://api.beta.ons.gov.uk/v1/code-lists/mid-year-pop-age/codes/29',\n     'id': '29',\n     'label': '29'}},\n   'observation': '908875'},\n  {'dimensions': {'age': {'href': 'https://api.beta.ons.gov.uk/v1/code-lists/mid-year-pop-age/codes/23',\n     'id': '23',\n     'label': '23'}},\n   'observation': '864487'},\n  {'dimensions': {'age': {'href': 'https://api.beta.ons.gov.uk/v1/code-lists/mid-year-pop-age/codes/2',\n     'id': '2',\n     'label': '2'}},\n   'observation': '790680'},\n  {'dimensions': {'age': {'href': 'https://api.beta.ons.gov.uk/v1/code-lists/mid-year-pop-age/codes/6',\n     'id': '6',\n     'label': '6'}},\n   'observation': '832406'},\n  {'dimensions': {'age': {'href': 'https://api.beta.ons.gov.uk/v1/code-lists/mid-year-pop-age/codes/10',\n     'id': '10',\n     'label': '10'}},\n   'observation': '786380'},\n  {'dimensions': {'age': {'href': 'https://api.beta.ons.gov.uk/v1/code-lists/mid-year-pop-age/codes/0',\n     'id': '0',\n     'label': '0'}},\n   'observation': '763201'},\n  {'dimensions': {'age': {'href': 'https://api.beta.ons.gov.uk/v1/code-lists/mid-year-pop-age/codes/4',\n     'id': '4',\n     'label': '4'}},\n   'observation': '818499'},\n  {'dimensions': {'age': {'href': 'https://api.beta.ons.gov.uk/v1/code-lists/mid-year-pop-age/codes/75',\n     'id': '75',\n     'label': '75'}},\n   'observation': '478088'},\n  {'dimensions': {'age': {'href': 'https://api.beta.ons.gov.uk/v1/code-lists/mid-year-pop-age/codes/61',\n     'id': '61',\n     'label': '61'}},\n   'observation': '732885'},\n  {'dimensions': {'age': {'href': 'https://api.beta.ons.gov.uk/v1/code-lists/mid-year-pop-age/codes/total',\n     'id': 'total',\n     'label': 'Total'}},\n   'observation': '66040229'},\n  {'dimensions': {'age': {'href': 'https://api.beta.ons.gov.uk/v1/code-lists/mid-year-pop-age/codes/72',\n     'id': '72',\n     'label': '72'}},\n   'observation': '587311'},\n  {'dimensions': {'age': {'href': 'https://api.beta.ons.gov.uk/v1/code-lists/mid-year-pop-age/codes/88',\n     'id': '88',\n     'label': '88'}},\n   'observation': '175064'},\n  {'dimensions': {'age': {'href': 'https://api.beta.ons.gov.uk/v1/code-lists/mid-year-pop-age/codes/77',\n     'id': '77',\n     'label': '77'}},\n   'observation': '436673'},\n  {'dimensions': {'age': {'href': 'https://api.beta.ons.gov.uk/v1/code-lists/mid-year-pop-age/codes/56',\n     'id': '56',\n     'label': '56'}},\n   'observation': '862999'},\n  {'dimensions': {'age': {'href': 'https://api.beta.ons.gov.uk/v1/code-lists/mid-year-pop-age/codes/84',\n     'id': '84',\n     'label': '84'}},\n   'observation': '272804'},\n  {'dimensions': {'age': {'href': 'https://api.beta.ons.gov.uk/v1/code-lists/mid-year-pop-age/codes/11',\n     'id': '11',\n     'label': '11'}},\n   'observation': '770123'},\n  {'dimensions': {'age': {'href': 'https://api.beta.ons.gov.uk/v1/code-lists/mid-year-pop-age/codes/40',\n     'id': '40',\n     'label': '40'}},\n   'observation': '778105'},\n  {'dimensions': {'age': {'href': 'https://api.beta.ons.gov.uk/v1/code-lists/mid-year-pop-age/codes/70',\n     'id': '70',\n     'label': '70'}},\n   'observation': '793207'},\n  {'dimensions': {'age': {'href': 'https://api.beta.ons.gov.uk/v1/code-lists/mid-year-pop-age/codes/26',\n     'id': '26',\n     'label': '26'}},\n   'observation': '923198'},\n  {'dimensions': {'age': {'href': 'https://api.beta.ons.gov.uk/v1/code-lists/mid-year-pop-age/codes/32',\n     'id': '32',\n     'label': '32'}},\n   'observation': '893238'},\n  {'dimensions': {'age': {'href': 'https://api.beta.ons.gov.uk/v1/code-lists/mid-year-pop-age/codes/25',\n     'id': '25',\n     'label': '25'}},\n   'observation': '902454'},\n  {'dimensions': {'age': {'href': 'https://api.beta.ons.gov.uk/v1/code-lists/mid-year-pop-age/codes/49',\n     'id': '49',\n     'label': '49'}},\n   'observation': '925768'},\n  {'dimensions': {'age': {'href': 'https://api.beta.ons.gov.uk/v1/code-lists/mid-year-pop-age/codes/1',\n     'id': '1',\n     'label': '1'}},\n   'observation': '789285'},\n  {'dimensions': {'age': {'href': 'https://api.beta.ons.gov.uk/v1/code-lists/mid-year-pop-age/codes/83',\n     'id': '83',\n     'label': '83'}},\n   'observation': '296722'},\n  {'dimensions': {'age': {'href': 'https://api.beta.ons.gov.uk/v1/code-lists/mid-year-pop-age/codes/45',\n     'id': '45',\n     'label': '45'}},\n   'observation': '895793'},\n  {'dimensions': {'age': {'href': 'https://api.beta.ons.gov.uk/v1/code-lists/mid-year-pop-age/codes/9',\n     'id': '9',\n     'label': '9'}},\n   'observation': '813213'},\n  {'dimensions': {'age': {'href': 'https://api.beta.ons.gov.uk/v1/code-lists/mid-year-pop-age/codes/86',\n     'id': '86',\n     'label': '86'}},\n   'observation': '231256'},\n  {'dimensions': {'age': {'href': 'https://api.beta.ons.gov.uk/v1/code-lists/mid-year-pop-age/codes/55',\n     'id': '55',\n     'label': '55'}},\n   'observation': '893629'},\n  {'dimensions': {'age': {'href': 'https://api.beta.ons.gov.uk/v1/code-lists/mid-year-pop-age/codes/30',\n     'id': '30',\n     'label': '30'}},\n   'observation': '886368'},\n  {'dimensions': {'age': {'href': 'https://api.beta.ons.gov.uk/v1/code-lists/mid-year-pop-age/codes/19',\n     'id': '19',\n     'label': '19'}},\n   'observation': '784259'},\n  {'dimensions': {'age': {'href': 'https://api.beta.ons.gov.uk/v1/code-lists/mid-year-pop-age/codes/66',\n     'id': '66',\n     'label': '66'}},\n   'observation': '675800'},\n  {'dimensions': {'age': {'href': 'https://api.beta.ons.gov.uk/v1/code-lists/mid-year-pop-age/codes/60',\n     'id': '60',\n     'label': '60'}},\n   'observation': '761034'},\n  {'dimensions': {'age': {'href': 'https://api.beta.ons.gov.uk/v1/code-lists/mid-year-pop-age/codes/74',\n     'id': '74',\n     'label': '74'}},\n   'observation': '538571'},\n  {'dimensions': {'age': {'href': 'https://api.beta.ons.gov.uk/v1/code-lists/mid-year-pop-age/codes/33',\n     'id': '33',\n     'label': '33'}},\n   'observation': '872012'},\n  {'dimensions': {'age': {'href': 'https://api.beta.ons.gov.uk/v1/code-lists/mid-year-pop-age/codes/5',\n     'id': '5',\n     'label': '5'}},\n   'observation': '844567'},\n  {'dimensions': {'age': {'href': 'https://api.beta.ons.gov.uk/v1/code-lists/mid-year-pop-age/codes/67',\n     'id': '67',\n     'label': '67'}},\n   'observation': '686919'},\n  {'dimensions': {'age': {'href': 'https://api.beta.ons.gov.uk/v1/code-lists/mid-year-pop-age/codes/22',\n     'id': '22',\n     'label': '22'}},\n   'observation': '831032'},\n  {'dimensions': {'age': {'href': 'https://api.beta.ons.gov.uk/v1/code-lists/mid-year-pop-age/codes/17',\n     'id': '17',\n     'label': '17'}},\n   'observation': '738544'},\n  {'dimensions': {'age': {'href': 'https://api.beta.ons.gov.uk/v1/code-lists/mid-year-pop-age/codes/14',\n     'id': '14',\n     'label': '14'}},\n   'observation': '707970'}],\n 'offset': 0,\n 'total_observations': 92,\n 'unit_of_measure': 'Number of people',\n 'usage_notes': []}"
     },
     "execution_count": 75,
     "metadata": {},
     "output_type": "execute_result"
    }
   ],
   "source": [
    "# age = type in int for age, up to '90+'. Use wildcard if possible. e.g '21'\n",
    "# time = id is the year e.g '2010'\n",
    "# geography = geography codes. UK = K02000001\n",
    "# sex = 'All': 0, 'Male': 1, 'Female': 2\n",
    "# %%\n",
    "\n",
    "post(f'/datasets/{dataset_id}'\n",
    "     f'/editions/time-series'\n",
    "     f'/versions/4/'\n",
    "     f'observations?'\n",
    "     f'time=2017&'\n",
    "     f'geography=K02000001&'\n",
    "     f'sex=0&'\n",
    "     f'age=*', is_ok=True)"
   ],
   "metadata": {
    "collapsed": false,
    "pycharm": {
     "name": "#%%\n"
    }
   }
  },
  {
   "cell_type": "code",
   "execution_count": 63,
   "outputs": [
    {
     "data": {
      "text/plain": "{'@context': 'https://cdn.ons.gov.uk/assets/json-ld/context.json',\n 'dimensions': {'aggregate': {'option': {'href': 'https://api.beta.ons.gov.uk/v1/code-lists/cpih1dim1aggid/codes/cpih1dim1A0',\n    'id': 'cpih1dim1A0'}},\n  'geography': {'option': {'href': 'https://api.beta.ons.gov.uk/v1/code-lists/uk-only/codes/K02000001',\n    'id': 'K02000001'}}},\n 'limit': 10000,\n 'links': {'dataset_metadata': {'href': 'https://api.beta.ons.gov.uk/v1/datasets/cpih01/editions/time-series/versions/5/metadata'},\n  'self': {'href': 'https://api.beta.ons.gov.uk/v1/datasets/cpih01/editions/time-series/versions/5/observations?time=*&aggregate=cpih1dim1A0&geography=K02000001'},\n  'version': {'href': 'https://api.beta.ons.gov.uk/v1/datasets/cpih01/editions/time-series/versions/5',\n   'id': '5'}},\n 'observations': [{'dimensions': {'time': {'href': 'https://api.beta.ons.gov.uk/v1/code-lists/time/codes/Month',\n     'id': 'Month',\n     'label': 'Sep-15'}},\n   'observation': '100.2'},\n  {'dimensions': {'time': {'href': 'https://api.beta.ons.gov.uk/v1/code-lists/time/codes/Month',\n     'id': 'Month',\n     'label': 'Sep-17'}},\n   'observation': '104.3'},\n  {'dimensions': {'time': {'href': 'https://api.beta.ons.gov.uk/v1/code-lists/time/codes/Month',\n     'id': 'Month',\n     'label': 'Sep-16'}},\n   'observation': '101.5'},\n  {'dimensions': {'time': {'href': 'https://api.beta.ons.gov.uk/v1/code-lists/time/codes/Month',\n     'id': 'Month',\n     'label': 'Sep-14'}},\n   'observation': '100'},\n  {'dimensions': {'time': {'href': 'https://api.beta.ons.gov.uk/v1/code-lists/time/codes/Month',\n     'id': 'Month',\n     'label': 'Sep-13'}},\n   'observation': '98.7'},\n  {'dimensions': {'time': {'href': 'https://api.beta.ons.gov.uk/v1/code-lists/time/codes/Month',\n     'id': 'Month',\n     'label': 'Sep-12'}},\n   'observation': '96.4'},\n  {'dimensions': {'time': {'href': 'https://api.beta.ons.gov.uk/v1/code-lists/time/codes/Month',\n     'id': 'Month',\n     'label': 'Sep-11'}},\n   'observation': '94.5'},\n  {'dimensions': {'time': {'href': 'https://api.beta.ons.gov.uk/v1/code-lists/time/codes/Month',\n     'id': 'Month',\n     'label': 'Sep-10'}},\n   'observation': '90.4'},\n  {'dimensions': {'time': {'href': 'https://api.beta.ons.gov.uk/v1/code-lists/time/codes/Month',\n     'id': 'Month',\n     'label': 'Sep-09'}},\n   'observation': '88.3'},\n  {'dimensions': {'time': {'href': 'https://api.beta.ons.gov.uk/v1/code-lists/time/codes/Month',\n     'id': 'Month',\n     'label': 'Sep-07'}},\n   'observation': '83.5'},\n  {'dimensions': {'time': {'href': 'https://api.beta.ons.gov.uk/v1/code-lists/time/codes/Month',\n     'id': 'Month',\n     'label': 'Sep-08'}},\n   'observation': '87.5'},\n  {'dimensions': {'time': {'href': 'https://api.beta.ons.gov.uk/v1/code-lists/time/codes/Month',\n     'id': 'Month',\n     'label': 'Sep-05'}},\n   'observation': '79.9'},\n  {'dimensions': {'time': {'href': 'https://api.beta.ons.gov.uk/v1/code-lists/time/codes/Month',\n     'id': 'Month',\n     'label': 'Oct-17'}},\n   'observation': '104.4'},\n  {'dimensions': {'time': {'href': 'https://api.beta.ons.gov.uk/v1/code-lists/time/codes/Month',\n     'id': 'Month',\n     'label': 'Sep-06'}},\n   'observation': '81.9'},\n  {'dimensions': {'time': {'href': 'https://api.beta.ons.gov.uk/v1/code-lists/time/codes/Month',\n     'id': 'Month',\n     'label': 'Oct-13'}},\n   'observation': '98.8'},\n  {'dimensions': {'time': {'href': 'https://api.beta.ons.gov.uk/v1/code-lists/time/codes/Month',\n     'id': 'Month',\n     'label': 'Oct-16'}},\n   'observation': '101.6'},\n  {'dimensions': {'time': {'href': 'https://api.beta.ons.gov.uk/v1/code-lists/time/codes/Month',\n     'id': 'Month',\n     'label': 'Oct-14'}},\n   'observation': '100.1'},\n  {'dimensions': {'time': {'href': 'https://api.beta.ons.gov.uk/v1/code-lists/time/codes/Month',\n     'id': 'Month',\n     'label': 'Oct-15'}},\n   'observation': '100.3'},\n  {'dimensions': {'time': {'href': 'https://api.beta.ons.gov.uk/v1/code-lists/time/codes/Month',\n     'id': 'Month',\n     'label': 'Oct-12'}},\n   'observation': '96.8'},\n  {'dimensions': {'time': {'href': 'https://api.beta.ons.gov.uk/v1/code-lists/time/codes/Month',\n     'id': 'Month',\n     'label': 'Oct-10'}},\n   'observation': '90.6'},\n  {'dimensions': {'time': {'href': 'https://api.beta.ons.gov.uk/v1/code-lists/time/codes/Month',\n     'id': 'Month',\n     'label': 'Oct-11'}},\n   'observation': '94.5'},\n  {'dimensions': {'time': {'href': 'https://api.beta.ons.gov.uk/v1/code-lists/time/codes/Month',\n     'id': 'Month',\n     'label': 'Oct-07'}},\n   'observation': '83.8'},\n  {'dimensions': {'time': {'href': 'https://api.beta.ons.gov.uk/v1/code-lists/time/codes/Month',\n     'id': 'Month',\n     'label': 'Oct-08'}},\n   'observation': '87.3'},\n  {'dimensions': {'time': {'href': 'https://api.beta.ons.gov.uk/v1/code-lists/time/codes/Month',\n     'id': 'Month',\n     'label': 'Oct-09'}},\n   'observation': '88.4'},\n  {'dimensions': {'time': {'href': 'https://api.beta.ons.gov.uk/v1/code-lists/time/codes/Month',\n     'id': 'Month',\n     'label': 'Oct-06'}},\n   'observation': '82'},\n  {'dimensions': {'time': {'href': 'https://api.beta.ons.gov.uk/v1/code-lists/time/codes/Month',\n     'id': 'Month',\n     'label': 'Nov-16'}},\n   'observation': '101.8'},\n  {'dimensions': {'time': {'href': 'https://api.beta.ons.gov.uk/v1/code-lists/time/codes/Month',\n     'id': 'Month',\n     'label': 'Nov-17'}},\n   'observation': '104.7'},\n  {'dimensions': {'time': {'href': 'https://api.beta.ons.gov.uk/v1/code-lists/time/codes/Month',\n     'id': 'Month',\n     'label': 'Oct-05'}},\n   'observation': '80'},\n  {'dimensions': {'time': {'href': 'https://api.beta.ons.gov.uk/v1/code-lists/time/codes/Month',\n     'id': 'Month',\n     'label': 'Nov-15'}},\n   'observation': '100.3'},\n  {'dimensions': {'time': {'href': 'https://api.beta.ons.gov.uk/v1/code-lists/time/codes/Month',\n     'id': 'Month',\n     'label': 'Nov-12'}},\n   'observation': '97'},\n  {'dimensions': {'time': {'href': 'https://api.beta.ons.gov.uk/v1/code-lists/time/codes/Month',\n     'id': 'Month',\n     'label': 'Nov-13'}},\n   'observation': '98.8'},\n  {'dimensions': {'time': {'href': 'https://api.beta.ons.gov.uk/v1/code-lists/time/codes/Month',\n     'id': 'Month',\n     'label': 'Nov-14'}},\n   'observation': '99.9'},\n  {'dimensions': {'time': {'href': 'https://api.beta.ons.gov.uk/v1/code-lists/time/codes/Month',\n     'id': 'Month',\n     'label': 'Nov-10'}},\n   'observation': '90.9'},\n  {'dimensions': {'time': {'href': 'https://api.beta.ons.gov.uk/v1/code-lists/time/codes/Month',\n     'id': 'Month',\n     'label': 'Nov-11'}},\n   'observation': '94.7'},\n  {'dimensions': {'time': {'href': 'https://api.beta.ons.gov.uk/v1/code-lists/time/codes/Month',\n     'id': 'Month',\n     'label': 'Nov-09'}},\n   'observation': '88.6'},\n  {'dimensions': {'time': {'href': 'https://api.beta.ons.gov.uk/v1/code-lists/time/codes/Month',\n     'id': 'Month',\n     'label': 'Nov-05'}},\n   'observation': '80'},\n  {'dimensions': {'time': {'href': 'https://api.beta.ons.gov.uk/v1/code-lists/time/codes/Month',\n     'id': 'Month',\n     'label': 'Nov-07'}},\n   'observation': '84.1'},\n  {'dimensions': {'time': {'href': 'https://api.beta.ons.gov.uk/v1/code-lists/time/codes/Month',\n     'id': 'Month',\n     'label': 'Nov-08'}},\n   'observation': '87.3'},\n  {'dimensions': {'time': {'href': 'https://api.beta.ons.gov.uk/v1/code-lists/time/codes/Month',\n     'id': 'Month',\n     'label': 'Nov-06'}},\n   'observation': '82.2'},\n  {'dimensions': {'time': {'href': 'https://api.beta.ons.gov.uk/v1/code-lists/time/codes/Month',\n     'id': 'Month',\n     'label': 'May-17'}},\n   'observation': '103.5'},\n  {'dimensions': {'time': {'href': 'https://api.beta.ons.gov.uk/v1/code-lists/time/codes/Month',\n     'id': 'Month',\n     'label': 'May-16'}},\n   'observation': '100.8'},\n  {'dimensions': {'time': {'href': 'https://api.beta.ons.gov.uk/v1/code-lists/time/codes/Month',\n     'id': 'Month',\n     'label': 'May-15'}},\n   'observation': '100.1'},\n  {'dimensions': {'time': {'href': 'https://api.beta.ons.gov.uk/v1/code-lists/time/codes/Month',\n     'id': 'Month',\n     'label': 'May-13'}},\n   'observation': '98.2'},\n  {'dimensions': {'time': {'href': 'https://api.beta.ons.gov.uk/v1/code-lists/time/codes/Month',\n     'id': 'Month',\n     'label': 'May-12'}},\n   'observation': '95.9'},\n  {'dimensions': {'time': {'href': 'https://api.beta.ons.gov.uk/v1/code-lists/time/codes/Month',\n     'id': 'Month',\n     'label': 'May-11'}},\n   'observation': '93.5'},\n  {'dimensions': {'time': {'href': 'https://api.beta.ons.gov.uk/v1/code-lists/time/codes/Month',\n     'id': 'Month',\n     'label': 'May-14'}},\n   'observation': '99.6'},\n  {'dimensions': {'time': {'href': 'https://api.beta.ons.gov.uk/v1/code-lists/time/codes/Month',\n     'id': 'Month',\n     'label': 'May-08'}},\n   'observation': '86.1'},\n  {'dimensions': {'time': {'href': 'https://api.beta.ons.gov.uk/v1/code-lists/time/codes/Month',\n     'id': 'Month',\n     'label': 'May-07'}},\n   'observation': '83.3'},\n  {'dimensions': {'time': {'href': 'https://api.beta.ons.gov.uk/v1/code-lists/time/codes/Month',\n     'id': 'Month',\n     'label': 'May-10'}},\n   'observation': '90.1'},\n  {'dimensions': {'time': {'href': 'https://api.beta.ons.gov.uk/v1/code-lists/time/codes/Month',\n     'id': 'Month',\n     'label': 'May-09'}},\n   'observation': '87.9'},\n  {'dimensions': {'time': {'href': 'https://api.beta.ons.gov.uk/v1/code-lists/time/codes/Month',\n     'id': 'Month',\n     'label': 'May-06'}},\n   'observation': '81.3'},\n  {'dimensions': {'time': {'href': 'https://api.beta.ons.gov.uk/v1/code-lists/time/codes/Month',\n     'id': 'Month',\n     'label': 'May-05'}},\n   'observation': '79.4'},\n  {'dimensions': {'time': {'href': 'https://api.beta.ons.gov.uk/v1/code-lists/time/codes/Month',\n     'id': 'Month',\n     'label': 'Mar-17'}},\n   'observation': '102.7'},\n  {'dimensions': {'time': {'href': 'https://api.beta.ons.gov.uk/v1/code-lists/time/codes/Month',\n     'id': 'Month',\n     'label': 'Mar-16'}},\n   'observation': '100.4'},\n  {'dimensions': {'time': {'href': 'https://api.beta.ons.gov.uk/v1/code-lists/time/codes/Month',\n     'id': 'Month',\n     'label': 'Mar-15'}},\n   'observation': '99.6'},\n  {'dimensions': {'time': {'href': 'https://api.beta.ons.gov.uk/v1/code-lists/time/codes/Month',\n     'id': 'Month',\n     'label': 'Mar-14'}},\n   'observation': '99.3'},\n  {'dimensions': {'time': {'href': 'https://api.beta.ons.gov.uk/v1/code-lists/time/codes/Month',\n     'id': 'Month',\n     'label': 'Mar-13'}},\n   'observation': '97.8'},\n  {'dimensions': {'time': {'href': 'https://api.beta.ons.gov.uk/v1/code-lists/time/codes/Month',\n     'id': 'Month',\n     'label': 'Mar-10'}},\n   'observation': '89.4'},\n  {'dimensions': {'time': {'href': 'https://api.beta.ons.gov.uk/v1/code-lists/time/codes/Month',\n     'id': 'Month',\n     'label': 'Mar-11'}},\n   'observation': '92.6'},\n  {'dimensions': {'time': {'href': 'https://api.beta.ons.gov.uk/v1/code-lists/time/codes/Month',\n     'id': 'Month',\n     'label': 'Mar-12'}},\n   'observation': '95.4'},\n  {'dimensions': {'time': {'href': 'https://api.beta.ons.gov.uk/v1/code-lists/time/codes/Month',\n     'id': 'Month',\n     'label': 'Mar-06'}},\n   'observation': '80.4'},\n  {'dimensions': {'time': {'href': 'https://api.beta.ons.gov.uk/v1/code-lists/time/codes/Month',\n     'id': 'Month',\n     'label': 'Mar-08'}},\n   'observation': '84.9'},\n  {'dimensions': {'time': {'href': 'https://api.beta.ons.gov.uk/v1/code-lists/time/codes/Month',\n     'id': 'Month',\n     'label': 'Mar-07'}},\n   'observation': '82.8'},\n  {'dimensions': {'time': {'href': 'https://api.beta.ons.gov.uk/v1/code-lists/time/codes/Month',\n     'id': 'Month',\n     'label': 'Mar-09'}},\n   'observation': '87.3'},\n  {'dimensions': {'time': {'href': 'https://api.beta.ons.gov.uk/v1/code-lists/time/codes/Month',\n     'id': 'Month',\n     'label': 'Mar-05'}},\n   'observation': '78.8'},\n  {'dimensions': {'time': {'href': 'https://api.beta.ons.gov.uk/v1/code-lists/time/codes/Month',\n     'id': 'Month',\n     'label': 'Jun-16'}},\n   'observation': '101'},\n  {'dimensions': {'time': {'href': 'https://api.beta.ons.gov.uk/v1/code-lists/time/codes/Month',\n     'id': 'Month',\n     'label': 'Jun-17'}},\n   'observation': '103.5'},\n  {'dimensions': {'time': {'href': 'https://api.beta.ons.gov.uk/v1/code-lists/time/codes/Month',\n     'id': 'Month',\n     'label': 'Jun-13'}},\n   'observation': '98'},\n  {'dimensions': {'time': {'href': 'https://api.beta.ons.gov.uk/v1/code-lists/time/codes/Month',\n     'id': 'Month',\n     'label': 'Jun-14'}},\n   'observation': '99.8'},\n  {'dimensions': {'time': {'href': 'https://api.beta.ons.gov.uk/v1/code-lists/time/codes/Month',\n     'id': 'Month',\n     'label': 'Jun-15'}},\n   'observation': '100.1'},\n  {'dimensions': {'time': {'href': 'https://api.beta.ons.gov.uk/v1/code-lists/time/codes/Month',\n     'id': 'Month',\n     'label': 'Jun-12'}},\n   'observation': '95.6'},\n  {'dimensions': {'time': {'href': 'https://api.beta.ons.gov.uk/v1/code-lists/time/codes/Month',\n     'id': 'Month',\n     'label': 'Jun-09'}},\n   'observation': '88.1'},\n  {'dimensions': {'time': {'href': 'https://api.beta.ons.gov.uk/v1/code-lists/time/codes/Month',\n     'id': 'Month',\n     'label': 'Jun-10'}},\n   'observation': '90.2'},\n  {'dimensions': {'time': {'href': 'https://api.beta.ons.gov.uk/v1/code-lists/time/codes/Month',\n     'id': 'Month',\n     'label': 'Jun-11'}},\n   'observation': '93.5'},\n  {'dimensions': {'time': {'href': 'https://api.beta.ons.gov.uk/v1/code-lists/time/codes/Month',\n     'id': 'Month',\n     'label': 'Jun-08'}},\n   'observation': '86.6'},\n  {'dimensions': {'time': {'href': 'https://api.beta.ons.gov.uk/v1/code-lists/time/codes/Month',\n     'id': 'Month',\n     'label': 'Jun-05'}},\n   'observation': '79.4'},\n  {'dimensions': {'time': {'href': 'https://api.beta.ons.gov.uk/v1/code-lists/time/codes/Month',\n     'id': 'Month',\n     'label': 'Jun-06'}},\n   'observation': '81.5'},\n  {'dimensions': {'time': {'href': 'https://api.beta.ons.gov.uk/v1/code-lists/time/codes/Month',\n     'id': 'Month',\n     'label': 'Jun-07'}},\n   'observation': '83.5'},\n  {'dimensions': {'time': {'href': 'https://api.beta.ons.gov.uk/v1/code-lists/time/codes/Month',\n     'id': 'Month',\n     'label': 'Jul-16'}},\n   'observation': '100.9'},\n  {'dimensions': {'time': {'href': 'https://api.beta.ons.gov.uk/v1/code-lists/time/codes/Month',\n     'id': 'Month',\n     'label': 'Jul-17'}},\n   'observation': '103.5'},\n  {'dimensions': {'time': {'href': 'https://api.beta.ons.gov.uk/v1/code-lists/time/codes/Month',\n     'id': 'Month',\n     'label': 'Jul-15'}},\n   'observation': '100'},\n  {'dimensions': {'time': {'href': 'https://api.beta.ons.gov.uk/v1/code-lists/time/codes/Month',\n     'id': 'Month',\n     'label': 'Jul-12'}},\n   'observation': '95.7'},\n  {'dimensions': {'time': {'href': 'https://api.beta.ons.gov.uk/v1/code-lists/time/codes/Month',\n     'id': 'Month',\n     'label': 'Jul-13'}},\n   'observation': '98'},\n  {'dimensions': {'time': {'href': 'https://api.beta.ons.gov.uk/v1/code-lists/time/codes/Month',\n     'id': 'Month',\n     'label': 'Jul-14'}},\n   'observation': '99.6'},\n  {'dimensions': {'time': {'href': 'https://api.beta.ons.gov.uk/v1/code-lists/time/codes/Month',\n     'id': 'Month',\n     'label': 'Jul-11'}},\n   'observation': '93.5'},\n  {'dimensions': {'time': {'href': 'https://api.beta.ons.gov.uk/v1/code-lists/time/codes/Month',\n     'id': 'Month',\n     'label': 'Jul-07'}},\n   'observation': '83.1'},\n  {'dimensions': {'time': {'href': 'https://api.beta.ons.gov.uk/v1/code-lists/time/codes/Month',\n     'id': 'Month',\n     'label': 'Jul-08'}},\n   'observation': '86.6'},\n  {'dimensions': {'time': {'href': 'https://api.beta.ons.gov.uk/v1/code-lists/time/codes/Month',\n     'id': 'Month',\n     'label': 'Jul-09'}},\n   'observation': '88'},\n  {'dimensions': {'time': {'href': 'https://api.beta.ons.gov.uk/v1/code-lists/time/codes/Month',\n     'id': 'Month',\n     'label': 'Jul-10'}},\n   'observation': '90'},\n  {'dimensions': {'time': {'href': 'https://api.beta.ons.gov.uk/v1/code-lists/time/codes/Month',\n     'id': 'Month',\n     'label': 'Jul-05'}},\n   'observation': '79.5'},\n  {'dimensions': {'time': {'href': 'https://api.beta.ons.gov.uk/v1/code-lists/time/codes/Month',\n     'id': 'Month',\n     'label': 'Jan-18'}},\n   'observation': '104.5'},\n  {'dimensions': {'time': {'href': 'https://api.beta.ons.gov.uk/v1/code-lists/time/codes/Month',\n     'id': 'Month',\n     'label': 'Jul-06'}},\n   'observation': '81.5'},\n  {'dimensions': {'time': {'href': 'https://api.beta.ons.gov.uk/v1/code-lists/time/codes/Month',\n     'id': 'Month',\n     'label': 'Jan-16'}},\n   'observation': '99.9'},\n  {'dimensions': {'time': {'href': 'https://api.beta.ons.gov.uk/v1/code-lists/time/codes/Month',\n     'id': 'Month',\n     'label': 'Jan-17'}},\n   'observation': '101.8'},\n  {'dimensions': {'time': {'href': 'https://api.beta.ons.gov.uk/v1/code-lists/time/codes/Month',\n     'id': 'Month',\n     'label': 'Jan-15'}},\n   'observation': '99.2'},\n  {'dimensions': {'time': {'href': 'https://api.beta.ons.gov.uk/v1/code-lists/time/codes/Month',\n     'id': 'Month',\n     'label': 'Jan-14'}},\n   'observation': '98.7'},\n  {'dimensions': {'time': {'href': 'https://api.beta.ons.gov.uk/v1/code-lists/time/codes/Month',\n     'id': 'Month',\n     'label': 'Jan-12'}},\n   'observation': '94.7'},\n  {'dimensions': {'time': {'href': 'https://api.beta.ons.gov.uk/v1/code-lists/time/codes/Month',\n     'id': 'Month',\n     'label': 'Jan-11'}},\n   'observation': '91.8'},\n  {'dimensions': {'time': {'href': 'https://api.beta.ons.gov.uk/v1/code-lists/time/codes/Month',\n     'id': 'Month',\n     'label': 'Jan-13'}},\n   'observation': '97'},\n  {'dimensions': {'time': {'href': 'https://api.beta.ons.gov.uk/v1/code-lists/time/codes/Month',\n     'id': 'Month',\n     'label': 'Jan-07'}},\n   'observation': '82.1'},\n  {'dimensions': {'time': {'href': 'https://api.beta.ons.gov.uk/v1/code-lists/time/codes/Month',\n     'id': 'Month',\n     'label': 'Jan-08'}},\n   'observation': '84.1'},\n  {'dimensions': {'time': {'href': 'https://api.beta.ons.gov.uk/v1/code-lists/time/codes/Month',\n     'id': 'Month',\n     'label': 'Jan-10'}},\n   'observation': '88.8'},\n  {'dimensions': {'time': {'href': 'https://api.beta.ons.gov.uk/v1/code-lists/time/codes/Month',\n     'id': 'Month',\n     'label': 'Jan-09'}},\n   'observation': '86.6'},\n  {'dimensions': {'time': {'href': 'https://api.beta.ons.gov.uk/v1/code-lists/time/codes/Month',\n     'id': 'Month',\n     'label': 'Jan-06'}},\n   'observation': '80'},\n  {'dimensions': {'time': {'href': 'https://api.beta.ons.gov.uk/v1/code-lists/time/codes/Month',\n     'id': 'Month',\n     'label': 'Jan-05'}},\n   'observation': '78.3'},\n  {'dimensions': {'time': {'href': 'https://api.beta.ons.gov.uk/v1/code-lists/time/codes/Month',\n     'id': 'Month',\n     'label': 'Feb-18'}},\n   'observation': '104.9'},\n  {'dimensions': {'time': {'href': 'https://api.beta.ons.gov.uk/v1/code-lists/time/codes/Month',\n     'id': 'Month',\n     'label': 'Feb-17'}},\n   'observation': '102.4'},\n  {'dimensions': {'time': {'href': 'https://api.beta.ons.gov.uk/v1/code-lists/time/codes/Month',\n     'id': 'Month',\n     'label': 'Feb-16'}},\n   'observation': '100.1'},\n  {'dimensions': {'time': {'href': 'https://api.beta.ons.gov.uk/v1/code-lists/time/codes/Month',\n     'id': 'Month',\n     'label': 'Feb-15'}},\n   'observation': '99.5'},\n  {'dimensions': {'time': {'href': 'https://api.beta.ons.gov.uk/v1/code-lists/time/codes/Month',\n     'id': 'Month',\n     'label': 'Apr-05'}},\n   'observation': '79.1'},\n  {'dimensions': {'time': {'href': 'https://api.beta.ons.gov.uk/v1/code-lists/time/codes/Month',\n     'id': 'Month',\n     'label': 'Apr-06'}},\n   'observation': '80.9'},\n  {'dimensions': {'time': {'href': 'https://api.beta.ons.gov.uk/v1/code-lists/time/codes/Month',\n     'id': 'Month',\n     'label': 'Apr-10'}},\n   'observation': '89.9'},\n  {'dimensions': {'time': {'href': 'https://api.beta.ons.gov.uk/v1/code-lists/time/codes/Month',\n     'id': 'Month',\n     'label': 'Apr-08'}},\n   'observation': '85.6'},\n  {'dimensions': {'time': {'href': 'https://api.beta.ons.gov.uk/v1/code-lists/time/codes/Month',\n     'id': 'Month',\n     'label': 'Apr-09'}},\n   'observation': '87.5'},\n  {'dimensions': {'time': {'href': 'https://api.beta.ons.gov.uk/v1/code-lists/time/codes/Month',\n     'id': 'Month',\n     'label': 'Apr-07'}},\n   'observation': '83.1'},\n  {'dimensions': {'time': {'href': 'https://api.beta.ons.gov.uk/v1/code-lists/time/codes/Month',\n     'id': 'Month',\n     'label': 'Apr-11'}},\n   'observation': '93.3'},\n  {'dimensions': {'time': {'href': 'https://api.beta.ons.gov.uk/v1/code-lists/time/codes/Month',\n     'id': 'Month',\n     'label': 'Apr-12'}},\n   'observation': '95.9'},\n  {'dimensions': {'time': {'href': 'https://api.beta.ons.gov.uk/v1/code-lists/time/codes/Month',\n     'id': 'Month',\n     'label': 'Apr-13'}},\n   'observation': '98'},\n  {'dimensions': {'time': {'href': 'https://api.beta.ons.gov.uk/v1/code-lists/time/codes/Month',\n     'id': 'Month',\n     'label': 'Apr-16'}},\n   'observation': '100.6'},\n  {'dimensions': {'time': {'href': 'https://api.beta.ons.gov.uk/v1/code-lists/time/codes/Month',\n     'id': 'Month',\n     'label': 'Apr-17'}},\n   'observation': '103.2'},\n  {'dimensions': {'time': {'href': 'https://api.beta.ons.gov.uk/v1/code-lists/time/codes/Month',\n     'id': 'Month',\n     'label': 'Apr-14'}},\n   'observation': '99.6'},\n  {'dimensions': {'time': {'href': 'https://api.beta.ons.gov.uk/v1/code-lists/time/codes/Month',\n     'id': 'Month',\n     'label': 'Apr-15'}},\n   'observation': '99.9'},\n  {'dimensions': {'time': {'href': 'https://api.beta.ons.gov.uk/v1/code-lists/time/codes/Month',\n     'id': 'Month',\n     'label': 'Aug-07'}},\n   'observation': '83.4'},\n  {'dimensions': {'time': {'href': 'https://api.beta.ons.gov.uk/v1/code-lists/time/codes/Month',\n     'id': 'Month',\n     'label': 'Aug-05'}},\n   'observation': '79.7'},\n  {'dimensions': {'time': {'href': 'https://api.beta.ons.gov.uk/v1/code-lists/time/codes/Month',\n     'id': 'Month',\n     'label': 'Aug-06'}},\n   'observation': '81.8'},\n  {'dimensions': {'time': {'href': 'https://api.beta.ons.gov.uk/v1/code-lists/time/codes/Month',\n     'id': 'Month',\n     'label': 'Aug-08'}},\n   'observation': '87.1'},\n  {'dimensions': {'time': {'href': 'https://api.beta.ons.gov.uk/v1/code-lists/time/codes/Month',\n     'id': 'Month',\n     'label': 'Aug-09'}},\n   'observation': '88.3'},\n  {'dimensions': {'time': {'href': 'https://api.beta.ons.gov.uk/v1/code-lists/time/codes/Month',\n     'id': 'Month',\n     'label': 'Aug-10'}},\n   'observation': '90.4'},\n  {'dimensions': {'time': {'href': 'https://api.beta.ons.gov.uk/v1/code-lists/time/codes/Month',\n     'id': 'Month',\n     'label': 'Aug-11'}},\n   'observation': '93.9'},\n  {'dimensions': {'time': {'href': 'https://api.beta.ons.gov.uk/v1/code-lists/time/codes/Month',\n     'id': 'Month',\n     'label': 'Aug-13'}},\n   'observation': '98.4'},\n  {'dimensions': {'time': {'href': 'https://api.beta.ons.gov.uk/v1/code-lists/time/codes/Month',\n     'id': 'Month',\n     'label': 'Aug-12'}},\n   'observation': '96.1'},\n  {'dimensions': {'time': {'href': 'https://api.beta.ons.gov.uk/v1/code-lists/time/codes/Month',\n     'id': 'Month',\n     'label': 'Aug-14'}},\n   'observation': '99.9'},\n  {'dimensions': {'time': {'href': 'https://api.beta.ons.gov.uk/v1/code-lists/time/codes/Month',\n     'id': 'Month',\n     'label': 'Dec-05'}},\n   'observation': '80.3'},\n  {'dimensions': {'time': {'href': 'https://api.beta.ons.gov.uk/v1/code-lists/time/codes/Month',\n     'id': 'Month',\n     'label': 'Aug-17'}},\n   'observation': '104'},\n  {'dimensions': {'time': {'href': 'https://api.beta.ons.gov.uk/v1/code-lists/time/codes/Month',\n     'id': 'Month',\n     'label': 'Aug-15'}},\n   'observation': '100.3'},\n  {'dimensions': {'time': {'href': 'https://api.beta.ons.gov.uk/v1/code-lists/time/codes/Month',\n     'id': 'Month',\n     'label': 'Aug-16'}},\n   'observation': '101.2'},\n  {'dimensions': {'time': {'href': 'https://api.beta.ons.gov.uk/v1/code-lists/time/codes/Month',\n     'id': 'Month',\n     'label': 'Dec-06'}},\n   'observation': '82.6'},\n  {'dimensions': {'time': {'href': 'https://api.beta.ons.gov.uk/v1/code-lists/time/codes/Month',\n     'id': 'Month',\n     'label': 'Dec-08'}},\n   'observation': '87.1'},\n  {'dimensions': {'time': {'href': 'https://api.beta.ons.gov.uk/v1/code-lists/time/codes/Month',\n     'id': 'Month',\n     'label': 'Dec-07'}},\n   'observation': '84.5'},\n  {'dimensions': {'time': {'href': 'https://api.beta.ons.gov.uk/v1/code-lists/time/codes/Month',\n     'id': 'Month',\n     'label': 'Dec-10'}},\n   'observation': '91.7'},\n  {'dimensions': {'time': {'href': 'https://api.beta.ons.gov.uk/v1/code-lists/time/codes/Month',\n     'id': 'Month',\n     'label': 'Dec-09'}},\n   'observation': '88.9'},\n  {'dimensions': {'time': {'href': 'https://api.beta.ons.gov.uk/v1/code-lists/time/codes/Month',\n     'id': 'Month',\n     'label': 'Dec-11'}},\n   'observation': '95'},\n  {'dimensions': {'time': {'href': 'https://api.beta.ons.gov.uk/v1/code-lists/time/codes/Month',\n     'id': 'Month',\n     'label': 'Dec-12'}},\n   'observation': '97.3'},\n  {'dimensions': {'time': {'href': 'https://api.beta.ons.gov.uk/v1/code-lists/time/codes/Month',\n     'id': 'Month',\n     'label': 'Dec-15'}},\n   'observation': '100.4'},\n  {'dimensions': {'time': {'href': 'https://api.beta.ons.gov.uk/v1/code-lists/time/codes/Month',\n     'id': 'Month',\n     'label': 'Dec-14'}},\n   'observation': '99.9'},\n  {'dimensions': {'time': {'href': 'https://api.beta.ons.gov.uk/v1/code-lists/time/codes/Month',\n     'id': 'Month',\n     'label': 'Dec-13'}},\n   'observation': '99.2'},\n  {'dimensions': {'time': {'href': 'https://api.beta.ons.gov.uk/v1/code-lists/time/codes/Month',\n     'id': 'Month',\n     'label': 'Dec-16'}},\n   'observation': '102.2'},\n  {'dimensions': {'time': {'href': 'https://api.beta.ons.gov.uk/v1/code-lists/time/codes/Month',\n     'id': 'Month',\n     'label': 'Feb-06'}},\n   'observation': '80.2'},\n  {'dimensions': {'time': {'href': 'https://api.beta.ons.gov.uk/v1/code-lists/time/codes/Month',\n     'id': 'Month',\n     'label': 'Feb-05'}},\n   'observation': '78.5'},\n  {'dimensions': {'time': {'href': 'https://api.beta.ons.gov.uk/v1/code-lists/time/codes/Month',\n     'id': 'Month',\n     'label': 'Dec-17'}},\n   'observation': '105'},\n  {'dimensions': {'time': {'href': 'https://api.beta.ons.gov.uk/v1/code-lists/time/codes/Month',\n     'id': 'Month',\n     'label': 'Feb-07'}},\n   'observation': '82.4'},\n  {'dimensions': {'time': {'href': 'https://api.beta.ons.gov.uk/v1/code-lists/time/codes/Month',\n     'id': 'Month',\n     'label': 'Feb-10'}},\n   'observation': '89'},\n  {'dimensions': {'time': {'href': 'https://api.beta.ons.gov.uk/v1/code-lists/time/codes/Month',\n     'id': 'Month',\n     'label': 'Feb-09'}},\n   'observation': '87.2'},\n  {'dimensions': {'time': {'href': 'https://api.beta.ons.gov.uk/v1/code-lists/time/codes/Month',\n     'id': 'Month',\n     'label': 'Feb-08'}},\n   'observation': '84.6'},\n  {'dimensions': {'time': {'href': 'https://api.beta.ons.gov.uk/v1/code-lists/time/codes/Month',\n     'id': 'Month',\n     'label': 'Feb-13'}},\n   'observation': '97.5'},\n  {'dimensions': {'time': {'href': 'https://api.beta.ons.gov.uk/v1/code-lists/time/codes/Month',\n     'id': 'Month',\n     'label': 'Feb-11'}},\n   'observation': '92.3'},\n  {'dimensions': {'time': {'href': 'https://api.beta.ons.gov.uk/v1/code-lists/time/codes/Month',\n     'id': 'Month',\n     'label': 'Feb-12'}},\n   'observation': '95.2'},\n  {'dimensions': {'time': {'href': 'https://api.beta.ons.gov.uk/v1/code-lists/time/codes/Month',\n     'id': 'Month',\n     'label': 'Feb-14'}},\n   'observation': '99.1'}],\n 'offset': 0,\n 'total_observations': 158,\n 'unit_of_measure': 'Index: 2015=100'}"
     },
     "execution_count": 63,
     "metadata": {},
     "output_type": "execute_result"
    }
   ],
   "source": [
    "\n"
   ],
   "metadata": {
    "collapsed": false,
    "pycharm": {
     "name": "#%%\n"
    }
   }
  }
 ],
 "metadata": {
  "kernelspec": {
   "name": "python3",
   "language": "python",
   "display_name": "Python 3"
  },
  "language_info": {
   "codemirror_mode": {
    "name": "ipython",
    "version": 3
   },
   "file_extension": ".py",
   "mimetype": "text/x-python",
   "name": "python",
   "nbconvert_exporter": "python",
   "pygments_lexer": "ipython3",
   "version": "3.7.6"
  }
 },
 "nbformat": 4,
 "nbformat_minor": 4
}