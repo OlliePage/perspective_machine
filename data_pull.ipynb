{
 "cells": [
  {
   "cell_type": "code",
   "execution_count": 6,
   "metadata": {},
   "outputs": [],
   "source": [
    "import requests\n",
    "import pandas as pd"
   ]
  },
  {
   "cell_type": "code",
   "execution_count": 7,
   "metadata": {},
   "outputs": [],
   "source": [
    "r = requests.get('https://api.beta.ons.gov.uk/v1/datasets')"
   ]
  },
  {
   "cell_type": "code",
   "execution_count": 8,
   "metadata": {},
   "outputs": [
    {
     "data": {
      "text/plain": "dict"
     },
     "execution_count": 8,
     "metadata": {},
     "output_type": "execute_result"
    }
   ],
   "source": [
    "type(r.json()['items'][2])"
   ]
  },
  {
   "cell_type": "code",
   "execution_count": 9,
   "metadata": {},
   "outputs": [
    {
     "data": {
      "text/plain": "38"
     },
     "execution_count": 9,
     "metadata": {},
     "output_type": "execute_result"
    }
   ],
   "source": [
    "len(r.json()['items'])"
   ]
  },
  {
   "cell_type": "code",
   "execution_count": 13,
   "metadata": {},
   "outputs": [],
   "source": [
    "dataset_titles = []\n",
    "dataset_descriptions = []\n",
    "dataset_ids = []\n",
    "for i in range(len(r.json()['items'])):\n",
    "    dataset_titles.append(r.json()['items'][i]['title'])\n",
    "    dataset_descriptions.append(r.json()['items'][i]['description'])\n",
    "    dataset_ids.append(r.json()['items'][i]['id'])\n",
    "\n",
    "table_of_codes = pd.DataFrame(data={'title': dataset_titles,\n",
    "                   'description': dataset_descriptions,\n",
    "                  'dataset_id': dataset_ids})"
   ]
  },
  {
   "cell_type": "code",
   "execution_count": 14,
   "outputs": [
    {
     "data": {
      "text/plain": "                                               title  \\\n0  Consumer Prices Index including owner occupier...   \n1  Population Estimates for UK, England and Wales...   \n2  Annual summary of hours worked, place of work ...   \n3  Annual summary of earnings, place of work by L...   \n4  Annual summary of hours worked, place of resid...   \n\n                                         description             dataset_id  \n0  CPIH is the most comprehensive measure of infl...                 cpih01  \n1  Estimates of the usual resident population for...       mid-year-pop-est  \n2  Estimates of paid hours worked for UK employee...     ashe-table-7-hours  \n3  Estimates of weekly, hourly and annual earning...  ashe-table-7-earnings  \n4  Estimates of paid hours worked for UK employee...     ashe-table-8-hours  ",
      "text/html": "<div>\n<style scoped>\n    .dataframe tbody tr th:only-of-type {\n        vertical-align: middle;\n    }\n\n    .dataframe tbody tr th {\n        vertical-align: top;\n    }\n\n    .dataframe thead th {\n        text-align: right;\n    }\n</style>\n<table border=\"1\" class=\"dataframe\">\n  <thead>\n    <tr style=\"text-align: right;\">\n      <th></th>\n      <th>title</th>\n      <th>description</th>\n      <th>dataset_id</th>\n    </tr>\n  </thead>\n  <tbody>\n    <tr>\n      <th>0</th>\n      <td>Consumer Prices Index including owner occupier...</td>\n      <td>CPIH is the most comprehensive measure of infl...</td>\n      <td>cpih01</td>\n    </tr>\n    <tr>\n      <th>1</th>\n      <td>Population Estimates for UK, England and Wales...</td>\n      <td>Estimates of the usual resident population for...</td>\n      <td>mid-year-pop-est</td>\n    </tr>\n    <tr>\n      <th>2</th>\n      <td>Annual summary of hours worked, place of work ...</td>\n      <td>Estimates of paid hours worked for UK employee...</td>\n      <td>ashe-table-7-hours</td>\n    </tr>\n    <tr>\n      <th>3</th>\n      <td>Annual summary of earnings, place of work by L...</td>\n      <td>Estimates of weekly, hourly and annual earning...</td>\n      <td>ashe-table-7-earnings</td>\n    </tr>\n    <tr>\n      <th>4</th>\n      <td>Annual summary of hours worked, place of resid...</td>\n      <td>Estimates of paid hours worked for UK employee...</td>\n      <td>ashe-table-8-hours</td>\n    </tr>\n  </tbody>\n</table>\n</div>"
     },
     "execution_count": 14,
     "metadata": {},
     "output_type": "execute_result"
    }
   ],
   "source": [
    "table_of_codes.head()\n",
    "\n",
    "# TODO: build one chart from the above datasets"
   ],
   "metadata": {
    "collapsed": false,
    "pycharm": {
     "name": "#%%\n"
    }
   }
  },
  {
   "cell_type": "markdown",
   "metadata": {},
   "source": [
    "## find information about a dataset\n",
    "we need to know the following items to make a correct api call:\n",
    "* edition\n",
    "* version\n",
    "* time\n",
    "* aggregate \n",
    "* geography\n",
    "* dimension"
   ]
  },
  {
   "cell_type": "markdown",
   "metadata": {},
   "source": [
    "> This allows querying of a single observation/value by providing one option per dimension, but will also allow one of these dimensions to be a ‘wildcard’ and return all values for this dimension.\n",
    "\n",
    "`/datasets/{datasetId}/editions/{edition}/versions/{version}/observations?time={timeLabel}&geography={geographyID}&dimension3={dimension3ID}&dimension4={dimension4ID}...`"
   ]
  },
  {
   "cell_type": "code",
   "execution_count": 20,
   "metadata": {},
   "outputs": [],
   "source": [
    "def post(extension, is_ok=False):\n",
    "    r = requests.get(f'https://api.beta.ons.gov.uk/v1/' + extension)\n",
    "    if is_ok:\n",
    "        print(r)\n",
    "    return r.json()"
   ]
  },
  {
   "cell_type": "markdown",
   "metadata": {},
   "source": [
    "`/datasets/cpih01/editions/time-series/versions/6/observations?time=Oct-11&geography=K02000001&aggregate=cpih1dim1A0`"
   ]
  },
  {
   "cell_type": "markdown",
   "metadata": {},
   "source": [
    "### editions param"
   ]
  },
  {
   "cell_type": "code",
   "execution_count": 21,
   "metadata": {},
   "outputs": [],
   "source": [
    "editions = post('/datasets/cpih01/editions')"
   ]
  },
  {
   "cell_type": "code",
   "execution_count": 22,
   "outputs": [
    {
     "data": {
      "text/plain": "'time-series'"
     },
     "execution_count": 22,
     "metadata": {},
     "output_type": "execute_result"
    }
   ],
   "source": [
    "editions['items'][0]['edition']"
   ],
   "metadata": {
    "collapsed": false,
    "pycharm": {
     "name": "#%%\n"
    }
   }
  },
  {
   "cell_type": "code",
   "execution_count": null,
   "metadata": {},
   "outputs": [],
   "source": [
    "my_dict = post('/datasets/cpih01/editions/time-series/versions')['items'][3]\n",
    "mother_df = pd.DataFrame.from_dict(my_dict, orient='index').T"
   ]
  },
  {
   "cell_type": "code",
   "execution_count": null,
   "metadata": {},
   "outputs": [],
   "source": [
    "for i in range(len(post('/datasets/cpih01/editions/time-series/versions')['items'])):\n",
    "    try:\n",
    "        my_dict = post('/datasets/cpih01/editions/time-series/versions')['items'][i+1]\n",
    "        df = pd.DataFrame.from_dict(my_dict, orient='index').T\n",
    "        mother_df = mother_df.append(df)\n",
    "    except:\n",
    "        pass\n"
   ]
  },
  {
   "cell_type": "code",
   "execution_count": null,
   "metadata": {},
   "outputs": [],
   "source": [
    "mother_df"
   ]
  },
  {
   "cell_type": "markdown",
   "metadata": {},
   "source": [
    "* find out how many versions there are\n",
    "* for each version, grab all the dimensions\n",
    "* select a trivial day in the time slot so we can see all the "
   ]
  },
  {
   "cell_type": "code",
   "execution_count": null,
   "metadata": {},
   "outputs": [],
   "source": [
    "post('/code-lists/cpih01/', is_ok=True)"
   ]
  },
  {
   "cell_type": "code",
   "execution_count": null,
   "metadata": {},
   "outputs": [],
   "source": [
    "\n",
    "post('/datasets/cpih01/editions/time-series/versions/6')['dimensions']"
   ]
  },
  {
   "cell_type": "markdown",
   "metadata": {},
   "source": [
    "`observations?time={timeLabel}&geography={geographyID}&dimension3={dimension3ID}&dimension4={dimension4ID}`"
   ]
  },
  {
   "cell_type": "code",
   "execution_count": null,
   "metadata": {},
   "outputs": [],
   "source": [
    "post('/datasets/cpih01/editions/time-series/versions/30/observations?time=Oct-11&geography=K02000001&aggregate=*').keys()"
   ]
  },
  {
   "cell_type": "code",
   "execution_count": null,
   "metadata": {},
   "outputs": [],
   "source": [
    "# post('/datasets/cpih01/editions/time-series/versions/30/observations?time=Oct-11&geography=K02000001&aggregate=*')\\\n",
    "#     ['observations'][0]['dimensions']['aggregate']['id']"
   ]
  },
  {
   "cell_type": "code",
   "execution_count": null,
   "metadata": {},
   "outputs": [],
   "source": [
    "post('/datasets/cpih01/editions/time-series/versions/30/observations?time=Jan-03&geography=K02000001&aggregate=*')\\\n",
    "    ['observations'][0]['dimensions']['aggregate']['label']"
   ]
  },
  {
   "cell_type": "code",
   "execution_count": null,
   "metadata": {},
   "outputs": [],
   "source": [
    "for dimension in post('/datasets/cpih01/editions/time-series/versions/30/observations?time=Jan-03&geography=K02000001&aggregate=*')\\\n",
    "        ['observations'][0]['dimensions'].keys():\n",
    "    print(dimension)\n",
    "    \n",
    "    for i in range(20):\n",
    "    post('/datasets/cpih01/editions/time-series/versions/30/observations?time=Jan-03&geography=K02000001&aggregate=*')\\\n",
    "        ['observations'][i]['dimensions']['aggregate']['label']"
   ]
  },
  {
   "cell_type": "code",
   "execution_count": null,
   "metadata": {},
   "outputs": [],
   "source": [
    "# refactor this so we make one call, then iterate through the one call. rather than making unique calls for each loop\n",
    "for i in range(1):\n",
    "    post('/datasets/cpih01/editions/time-series/versions/30/observations?time=Jan-03&geography=K02000001&aggregate=*')\\\n",
    "    ['observations'][i]['dimensions']['aggregate']['label']"
   ]
  },
  {
   "cell_type": "code",
   "execution_count": null,
   "metadata": {
    "scrolled": true
   },
   "outputs": [],
   "source": [
    "post('/code-lists')['items']"
   ]
  },
  {
   "cell_type": "code",
   "execution_count": null,
   "metadata": {},
   "outputs": [],
   "source": [
    "post('code-lists/wellbeing-estimate')"
   ]
  },
  {
   "cell_type": "code",
   "execution_count": null,
   "metadata": {},
   "outputs": [],
   "source": []
  }
 ],
 "metadata": {
  "kernelspec": {
   "name": "python3",
   "language": "python",
   "display_name": "Python 3"
  },
  "language_info": {
   "codemirror_mode": {
    "name": "ipython",
    "version": 3
   },
   "file_extension": ".py",
   "mimetype": "text/x-python",
   "name": "python",
   "nbconvert_exporter": "python",
   "pygments_lexer": "ipython3",
   "version": "3.7.6"
  }
 },
 "nbformat": 4,
 "nbformat_minor": 4
}