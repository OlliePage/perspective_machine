{
 "cells": [
  {
   "cell_type": "code",
   "execution_count": 1,
   "metadata": {},
   "outputs": [],
   "source": [
    "from pathlib import Path\n",
    "from typing import List, Any, Dict\n",
    "import requests\n",
    "import pandas as pd"
   ]
  },
  {
   "cell_type": "code",
   "execution_count": 2,
   "metadata": {},
   "outputs": [
    {
     "ename": "SSLError",
     "evalue": "HTTPSConnectionPool(host='api.beta.ons.gov.uk', port=443): Max retries exceeded with url: /v1/datasets (Caused by SSLError(SSLEOFError(8, 'EOF occurred in violation of protocol (_ssl.c:1056)')))",
     "output_type": "error",
     "traceback": [
      "\u001B[0;31m---------------------------------------------------------------------------\u001B[0m",
      "\u001B[0;31mSSLEOFError\u001B[0m                               Traceback (most recent call last)",
      "\u001B[0;32m~/Documents/venv/lib/python3.7/site-packages/urllib3/connectionpool.py\u001B[0m in \u001B[0;36murlopen\u001B[0;34m(self, method, url, body, headers, retries, redirect, assert_same_host, timeout, pool_timeout, release_conn, chunked, body_pos, **response_kw)\u001B[0m\n\u001B[1;32m    676\u001B[0m                 \u001B[0mheaders\u001B[0m\u001B[0;34m=\u001B[0m\u001B[0mheaders\u001B[0m\u001B[0;34m,\u001B[0m\u001B[0;34m\u001B[0m\u001B[0;34m\u001B[0m\u001B[0m\n\u001B[0;32m--> 677\u001B[0;31m                 \u001B[0mchunked\u001B[0m\u001B[0;34m=\u001B[0m\u001B[0mchunked\u001B[0m\u001B[0;34m,\u001B[0m\u001B[0;34m\u001B[0m\u001B[0;34m\u001B[0m\u001B[0m\n\u001B[0m\u001B[1;32m    678\u001B[0m             )\n",
      "\u001B[0;32m~/Documents/venv/lib/python3.7/site-packages/urllib3/connectionpool.py\u001B[0m in \u001B[0;36m_make_request\u001B[0;34m(self, conn, method, url, timeout, chunked, **httplib_request_kw)\u001B[0m\n\u001B[1;32m    380\u001B[0m         \u001B[0;32mtry\u001B[0m\u001B[0;34m:\u001B[0m\u001B[0;34m\u001B[0m\u001B[0;34m\u001B[0m\u001B[0m\n\u001B[0;32m--> 381\u001B[0;31m             \u001B[0mself\u001B[0m\u001B[0;34m.\u001B[0m\u001B[0m_validate_conn\u001B[0m\u001B[0;34m(\u001B[0m\u001B[0mconn\u001B[0m\u001B[0;34m)\u001B[0m\u001B[0;34m\u001B[0m\u001B[0;34m\u001B[0m\u001B[0m\n\u001B[0m\u001B[1;32m    382\u001B[0m         \u001B[0;32mexcept\u001B[0m \u001B[0;34m(\u001B[0m\u001B[0mSocketTimeout\u001B[0m\u001B[0;34m,\u001B[0m \u001B[0mBaseSSLError\u001B[0m\u001B[0;34m)\u001B[0m \u001B[0;32mas\u001B[0m \u001B[0me\u001B[0m\u001B[0;34m:\u001B[0m\u001B[0;34m\u001B[0m\u001B[0;34m\u001B[0m\u001B[0m\n",
      "\u001B[0;32m~/Documents/venv/lib/python3.7/site-packages/urllib3/connectionpool.py\u001B[0m in \u001B[0;36m_validate_conn\u001B[0;34m(self, conn)\u001B[0m\n\u001B[1;32m    975\u001B[0m         \u001B[0;32mif\u001B[0m \u001B[0;32mnot\u001B[0m \u001B[0mgetattr\u001B[0m\u001B[0;34m(\u001B[0m\u001B[0mconn\u001B[0m\u001B[0;34m,\u001B[0m \u001B[0;34m\"sock\"\u001B[0m\u001B[0;34m,\u001B[0m \u001B[0;32mNone\u001B[0m\u001B[0;34m)\u001B[0m\u001B[0;34m:\u001B[0m  \u001B[0;31m# AppEngine might not have  `.sock`\u001B[0m\u001B[0;34m\u001B[0m\u001B[0;34m\u001B[0m\u001B[0m\n\u001B[0;32m--> 976\u001B[0;31m             \u001B[0mconn\u001B[0m\u001B[0;34m.\u001B[0m\u001B[0mconnect\u001B[0m\u001B[0;34m(\u001B[0m\u001B[0;34m)\u001B[0m\u001B[0;34m\u001B[0m\u001B[0;34m\u001B[0m\u001B[0m\n\u001B[0m\u001B[1;32m    977\u001B[0m \u001B[0;34m\u001B[0m\u001B[0m\n",
      "\u001B[0;32m~/Documents/venv/lib/python3.7/site-packages/urllib3/connection.py\u001B[0m in \u001B[0;36mconnect\u001B[0;34m(self)\u001B[0m\n\u001B[1;32m    369\u001B[0m             \u001B[0mserver_hostname\u001B[0m\u001B[0;34m=\u001B[0m\u001B[0mserver_hostname\u001B[0m\u001B[0;34m,\u001B[0m\u001B[0;34m\u001B[0m\u001B[0;34m\u001B[0m\u001B[0m\n\u001B[0;32m--> 370\u001B[0;31m             \u001B[0mssl_context\u001B[0m\u001B[0;34m=\u001B[0m\u001B[0mcontext\u001B[0m\u001B[0;34m,\u001B[0m\u001B[0;34m\u001B[0m\u001B[0;34m\u001B[0m\u001B[0m\n\u001B[0m\u001B[1;32m    371\u001B[0m         )\n",
      "\u001B[0;32m~/Documents/venv/lib/python3.7/site-packages/urllib3/util/ssl_.py\u001B[0m in \u001B[0;36mssl_wrap_socket\u001B[0;34m(sock, keyfile, certfile, cert_reqs, ca_certs, server_hostname, ssl_version, ciphers, ssl_context, ca_cert_dir, key_password, ca_cert_data)\u001B[0m\n\u001B[1;32m    376\u001B[0m         \u001B[0;32mif\u001B[0m \u001B[0mHAS_SNI\u001B[0m \u001B[0;32mand\u001B[0m \u001B[0mserver_hostname\u001B[0m \u001B[0;32mis\u001B[0m \u001B[0;32mnot\u001B[0m \u001B[0;32mNone\u001B[0m\u001B[0;34m:\u001B[0m\u001B[0;34m\u001B[0m\u001B[0;34m\u001B[0m\u001B[0m\n\u001B[0;32m--> 377\u001B[0;31m             \u001B[0;32mreturn\u001B[0m \u001B[0mcontext\u001B[0m\u001B[0;34m.\u001B[0m\u001B[0mwrap_socket\u001B[0m\u001B[0;34m(\u001B[0m\u001B[0msock\u001B[0m\u001B[0;34m,\u001B[0m \u001B[0mserver_hostname\u001B[0m\u001B[0;34m=\u001B[0m\u001B[0mserver_hostname\u001B[0m\u001B[0;34m)\u001B[0m\u001B[0;34m\u001B[0m\u001B[0;34m\u001B[0m\u001B[0m\n\u001B[0m\u001B[1;32m    378\u001B[0m \u001B[0;34m\u001B[0m\u001B[0m\n",
      "\u001B[0;32m/Library/Developer/CommandLineTools/Library/Frameworks/Python3.framework/Versions/3.7/lib/python3.7/ssl.py\u001B[0m in \u001B[0;36mwrap_socket\u001B[0;34m(self, sock, server_side, do_handshake_on_connect, suppress_ragged_eofs, server_hostname, session)\u001B[0m\n\u001B[1;32m    411\u001B[0m             \u001B[0mcontext\u001B[0m\u001B[0;34m=\u001B[0m\u001B[0mself\u001B[0m\u001B[0;34m,\u001B[0m\u001B[0;34m\u001B[0m\u001B[0;34m\u001B[0m\u001B[0m\n\u001B[0;32m--> 412\u001B[0;31m             \u001B[0msession\u001B[0m\u001B[0;34m=\u001B[0m\u001B[0msession\u001B[0m\u001B[0;34m\u001B[0m\u001B[0;34m\u001B[0m\u001B[0m\n\u001B[0m\u001B[1;32m    413\u001B[0m         )\n",
      "\u001B[0;32m/Library/Developer/CommandLineTools/Library/Frameworks/Python3.framework/Versions/3.7/lib/python3.7/ssl.py\u001B[0m in \u001B[0;36m_create\u001B[0;34m(cls, sock, server_side, do_handshake_on_connect, suppress_ragged_eofs, server_hostname, context, session)\u001B[0m\n\u001B[1;32m    852\u001B[0m                         \u001B[0;32mraise\u001B[0m \u001B[0mValueError\u001B[0m\u001B[0;34m(\u001B[0m\u001B[0;34m\"do_handshake_on_connect should not be specified for non-blocking sockets\"\u001B[0m\u001B[0;34m)\u001B[0m\u001B[0;34m\u001B[0m\u001B[0;34m\u001B[0m\u001B[0m\n\u001B[0;32m--> 853\u001B[0;31m                     \u001B[0mself\u001B[0m\u001B[0;34m.\u001B[0m\u001B[0mdo_handshake\u001B[0m\u001B[0;34m(\u001B[0m\u001B[0;34m)\u001B[0m\u001B[0;34m\u001B[0m\u001B[0;34m\u001B[0m\u001B[0m\n\u001B[0m\u001B[1;32m    854\u001B[0m             \u001B[0;32mexcept\u001B[0m \u001B[0;34m(\u001B[0m\u001B[0mOSError\u001B[0m\u001B[0;34m,\u001B[0m \u001B[0mValueError\u001B[0m\u001B[0;34m)\u001B[0m\u001B[0;34m:\u001B[0m\u001B[0;34m\u001B[0m\u001B[0;34m\u001B[0m\u001B[0m\n",
      "\u001B[0;32m/Library/Developer/CommandLineTools/Library/Frameworks/Python3.framework/Versions/3.7/lib/python3.7/ssl.py\u001B[0m in \u001B[0;36mdo_handshake\u001B[0;34m(self, block)\u001B[0m\n\u001B[1;32m   1116\u001B[0m                 \u001B[0mself\u001B[0m\u001B[0;34m.\u001B[0m\u001B[0msettimeout\u001B[0m\u001B[0;34m(\u001B[0m\u001B[0;32mNone\u001B[0m\u001B[0;34m)\u001B[0m\u001B[0;34m\u001B[0m\u001B[0;34m\u001B[0m\u001B[0m\n\u001B[0;32m-> 1117\u001B[0;31m             \u001B[0mself\u001B[0m\u001B[0;34m.\u001B[0m\u001B[0m_sslobj\u001B[0m\u001B[0;34m.\u001B[0m\u001B[0mdo_handshake\u001B[0m\u001B[0;34m(\u001B[0m\u001B[0;34m)\u001B[0m\u001B[0;34m\u001B[0m\u001B[0;34m\u001B[0m\u001B[0m\n\u001B[0m\u001B[1;32m   1118\u001B[0m         \u001B[0;32mfinally\u001B[0m\u001B[0;34m:\u001B[0m\u001B[0;34m\u001B[0m\u001B[0;34m\u001B[0m\u001B[0m\n",
      "\u001B[0;31mSSLEOFError\u001B[0m: EOF occurred in violation of protocol (_ssl.c:1056)",
      "\nDuring handling of the above exception, another exception occurred:\n",
      "\u001B[0;31mMaxRetryError\u001B[0m                             Traceback (most recent call last)",
      "\u001B[0;32m~/Documents/venv/lib/python3.7/site-packages/requests/adapters.py\u001B[0m in \u001B[0;36msend\u001B[0;34m(self, request, stream, timeout, verify, cert, proxies)\u001B[0m\n\u001B[1;32m    448\u001B[0m                     \u001B[0mretries\u001B[0m\u001B[0;34m=\u001B[0m\u001B[0mself\u001B[0m\u001B[0;34m.\u001B[0m\u001B[0mmax_retries\u001B[0m\u001B[0;34m,\u001B[0m\u001B[0;34m\u001B[0m\u001B[0;34m\u001B[0m\u001B[0m\n\u001B[0;32m--> 449\u001B[0;31m                     \u001B[0mtimeout\u001B[0m\u001B[0;34m=\u001B[0m\u001B[0mtimeout\u001B[0m\u001B[0;34m\u001B[0m\u001B[0;34m\u001B[0m\u001B[0m\n\u001B[0m\u001B[1;32m    450\u001B[0m                 )\n",
      "\u001B[0;32m~/Documents/venv/lib/python3.7/site-packages/urllib3/connectionpool.py\u001B[0m in \u001B[0;36murlopen\u001B[0;34m(self, method, url, body, headers, retries, redirect, assert_same_host, timeout, pool_timeout, release_conn, chunked, body_pos, **response_kw)\u001B[0m\n\u001B[1;32m    724\u001B[0m             retries = retries.increment(\n\u001B[0;32m--> 725\u001B[0;31m                 \u001B[0mmethod\u001B[0m\u001B[0;34m,\u001B[0m \u001B[0murl\u001B[0m\u001B[0;34m,\u001B[0m \u001B[0merror\u001B[0m\u001B[0;34m=\u001B[0m\u001B[0me\u001B[0m\u001B[0;34m,\u001B[0m \u001B[0m_pool\u001B[0m\u001B[0;34m=\u001B[0m\u001B[0mself\u001B[0m\u001B[0;34m,\u001B[0m \u001B[0m_stacktrace\u001B[0m\u001B[0;34m=\u001B[0m\u001B[0msys\u001B[0m\u001B[0;34m.\u001B[0m\u001B[0mexc_info\u001B[0m\u001B[0;34m(\u001B[0m\u001B[0;34m)\u001B[0m\u001B[0;34m[\u001B[0m\u001B[0;36m2\u001B[0m\u001B[0;34m]\u001B[0m\u001B[0;34m\u001B[0m\u001B[0;34m\u001B[0m\u001B[0m\n\u001B[0m\u001B[1;32m    726\u001B[0m             )\n",
      "\u001B[0;32m~/Documents/venv/lib/python3.7/site-packages/urllib3/util/retry.py\u001B[0m in \u001B[0;36mincrement\u001B[0;34m(self, method, url, response, error, _pool, _stacktrace)\u001B[0m\n\u001B[1;32m    438\u001B[0m         \u001B[0;32mif\u001B[0m \u001B[0mnew_retry\u001B[0m\u001B[0;34m.\u001B[0m\u001B[0mis_exhausted\u001B[0m\u001B[0;34m(\u001B[0m\u001B[0;34m)\u001B[0m\u001B[0;34m:\u001B[0m\u001B[0;34m\u001B[0m\u001B[0;34m\u001B[0m\u001B[0m\n\u001B[0;32m--> 439\u001B[0;31m             \u001B[0;32mraise\u001B[0m \u001B[0mMaxRetryError\u001B[0m\u001B[0;34m(\u001B[0m\u001B[0m_pool\u001B[0m\u001B[0;34m,\u001B[0m \u001B[0murl\u001B[0m\u001B[0;34m,\u001B[0m \u001B[0merror\u001B[0m \u001B[0;32mor\u001B[0m \u001B[0mResponseError\u001B[0m\u001B[0;34m(\u001B[0m\u001B[0mcause\u001B[0m\u001B[0;34m)\u001B[0m\u001B[0;34m)\u001B[0m\u001B[0;34m\u001B[0m\u001B[0;34m\u001B[0m\u001B[0m\n\u001B[0m\u001B[1;32m    440\u001B[0m \u001B[0;34m\u001B[0m\u001B[0m\n",
      "\u001B[0;31mMaxRetryError\u001B[0m: HTTPSConnectionPool(host='api.beta.ons.gov.uk', port=443): Max retries exceeded with url: /v1/datasets (Caused by SSLError(SSLEOFError(8, 'EOF occurred in violation of protocol (_ssl.c:1056)')))",
      "\nDuring handling of the above exception, another exception occurred:\n",
      "\u001B[0;31mSSLError\u001B[0m                                  Traceback (most recent call last)",
      "\u001B[0;32m<ipython-input-2-31438be327d4>\u001B[0m in \u001B[0;36m<module>\u001B[0;34m\u001B[0m\n\u001B[0;32m----> 1\u001B[0;31m \u001B[0mr\u001B[0m \u001B[0;34m=\u001B[0m \u001B[0mrequests\u001B[0m\u001B[0;34m.\u001B[0m\u001B[0mget\u001B[0m\u001B[0;34m(\u001B[0m\u001B[0;34m'https://api.beta.ons.gov.uk/v1/datasets'\u001B[0m\u001B[0;34m)\u001B[0m\u001B[0;34m\u001B[0m\u001B[0;34m\u001B[0m\u001B[0m\n\u001B[0m\u001B[1;32m      2\u001B[0m \u001B[0mdataset_titles\u001B[0m \u001B[0;34m=\u001B[0m \u001B[0;34m[\u001B[0m\u001B[0;34m]\u001B[0m\u001B[0;34m\u001B[0m\u001B[0;34m\u001B[0m\u001B[0m\n\u001B[1;32m      3\u001B[0m \u001B[0mdataset_descriptions\u001B[0m\u001B[0;34m:\u001B[0m \u001B[0mList\u001B[0m\u001B[0;34m[\u001B[0m\u001B[0mAny\u001B[0m\u001B[0;34m]\u001B[0m \u001B[0;34m=\u001B[0m \u001B[0;34m[\u001B[0m\u001B[0;34m]\u001B[0m\u001B[0;34m\u001B[0m\u001B[0;34m\u001B[0m\u001B[0m\n\u001B[1;32m      4\u001B[0m \u001B[0mdataset_ids\u001B[0m\u001B[0;34m:\u001B[0m \u001B[0mList\u001B[0m\u001B[0;34m[\u001B[0m\u001B[0mAny\u001B[0m\u001B[0;34m]\u001B[0m \u001B[0;34m=\u001B[0m \u001B[0;34m[\u001B[0m\u001B[0;34m]\u001B[0m\u001B[0;34m\u001B[0m\u001B[0;34m\u001B[0m\u001B[0m\n\u001B[1;32m      5\u001B[0m \u001B[0;32mfor\u001B[0m \u001B[0mi\u001B[0m \u001B[0;32min\u001B[0m \u001B[0mrange\u001B[0m\u001B[0;34m(\u001B[0m\u001B[0mlen\u001B[0m\u001B[0;34m(\u001B[0m\u001B[0mr\u001B[0m\u001B[0;34m.\u001B[0m\u001B[0mjson\u001B[0m\u001B[0;34m(\u001B[0m\u001B[0;34m)\u001B[0m\u001B[0;34m[\u001B[0m\u001B[0;34m'items'\u001B[0m\u001B[0;34m]\u001B[0m\u001B[0;34m)\u001B[0m\u001B[0;34m)\u001B[0m\u001B[0;34m:\u001B[0m\u001B[0;34m\u001B[0m\u001B[0;34m\u001B[0m\u001B[0m\n",
      "\u001B[0;32m~/Documents/venv/lib/python3.7/site-packages/requests/api.py\u001B[0m in \u001B[0;36mget\u001B[0;34m(url, params, **kwargs)\u001B[0m\n\u001B[1;32m     74\u001B[0m \u001B[0;34m\u001B[0m\u001B[0m\n\u001B[1;32m     75\u001B[0m     \u001B[0mkwargs\u001B[0m\u001B[0;34m.\u001B[0m\u001B[0msetdefault\u001B[0m\u001B[0;34m(\u001B[0m\u001B[0;34m'allow_redirects'\u001B[0m\u001B[0;34m,\u001B[0m \u001B[0;32mTrue\u001B[0m\u001B[0;34m)\u001B[0m\u001B[0;34m\u001B[0m\u001B[0;34m\u001B[0m\u001B[0m\n\u001B[0;32m---> 76\u001B[0;31m     \u001B[0;32mreturn\u001B[0m \u001B[0mrequest\u001B[0m\u001B[0;34m(\u001B[0m\u001B[0;34m'get'\u001B[0m\u001B[0;34m,\u001B[0m \u001B[0murl\u001B[0m\u001B[0;34m,\u001B[0m \u001B[0mparams\u001B[0m\u001B[0;34m=\u001B[0m\u001B[0mparams\u001B[0m\u001B[0;34m,\u001B[0m \u001B[0;34m**\u001B[0m\u001B[0mkwargs\u001B[0m\u001B[0;34m)\u001B[0m\u001B[0;34m\u001B[0m\u001B[0;34m\u001B[0m\u001B[0m\n\u001B[0m\u001B[1;32m     77\u001B[0m \u001B[0;34m\u001B[0m\u001B[0m\n\u001B[1;32m     78\u001B[0m \u001B[0;34m\u001B[0m\u001B[0m\n",
      "\u001B[0;32m~/Documents/venv/lib/python3.7/site-packages/requests/api.py\u001B[0m in \u001B[0;36mrequest\u001B[0;34m(method, url, **kwargs)\u001B[0m\n\u001B[1;32m     59\u001B[0m     \u001B[0;31m# cases, and look like a memory leak in others.\u001B[0m\u001B[0;34m\u001B[0m\u001B[0;34m\u001B[0m\u001B[0;34m\u001B[0m\u001B[0m\n\u001B[1;32m     60\u001B[0m     \u001B[0;32mwith\u001B[0m \u001B[0msessions\u001B[0m\u001B[0;34m.\u001B[0m\u001B[0mSession\u001B[0m\u001B[0;34m(\u001B[0m\u001B[0;34m)\u001B[0m \u001B[0;32mas\u001B[0m \u001B[0msession\u001B[0m\u001B[0;34m:\u001B[0m\u001B[0;34m\u001B[0m\u001B[0;34m\u001B[0m\u001B[0m\n\u001B[0;32m---> 61\u001B[0;31m         \u001B[0;32mreturn\u001B[0m \u001B[0msession\u001B[0m\u001B[0;34m.\u001B[0m\u001B[0mrequest\u001B[0m\u001B[0;34m(\u001B[0m\u001B[0mmethod\u001B[0m\u001B[0;34m=\u001B[0m\u001B[0mmethod\u001B[0m\u001B[0;34m,\u001B[0m \u001B[0murl\u001B[0m\u001B[0;34m=\u001B[0m\u001B[0murl\u001B[0m\u001B[0;34m,\u001B[0m \u001B[0;34m**\u001B[0m\u001B[0mkwargs\u001B[0m\u001B[0;34m)\u001B[0m\u001B[0;34m\u001B[0m\u001B[0;34m\u001B[0m\u001B[0m\n\u001B[0m\u001B[1;32m     62\u001B[0m \u001B[0;34m\u001B[0m\u001B[0m\n\u001B[1;32m     63\u001B[0m \u001B[0;34m\u001B[0m\u001B[0m\n",
      "\u001B[0;32m~/Documents/venv/lib/python3.7/site-packages/requests/sessions.py\u001B[0m in \u001B[0;36mrequest\u001B[0;34m(self, method, url, params, data, headers, cookies, files, auth, timeout, allow_redirects, proxies, hooks, stream, verify, cert, json)\u001B[0m\n\u001B[1;32m    528\u001B[0m         }\n\u001B[1;32m    529\u001B[0m         \u001B[0msend_kwargs\u001B[0m\u001B[0;34m.\u001B[0m\u001B[0mupdate\u001B[0m\u001B[0;34m(\u001B[0m\u001B[0msettings\u001B[0m\u001B[0;34m)\u001B[0m\u001B[0;34m\u001B[0m\u001B[0;34m\u001B[0m\u001B[0m\n\u001B[0;32m--> 530\u001B[0;31m         \u001B[0mresp\u001B[0m \u001B[0;34m=\u001B[0m \u001B[0mself\u001B[0m\u001B[0;34m.\u001B[0m\u001B[0msend\u001B[0m\u001B[0;34m(\u001B[0m\u001B[0mprep\u001B[0m\u001B[0;34m,\u001B[0m \u001B[0;34m**\u001B[0m\u001B[0msend_kwargs\u001B[0m\u001B[0;34m)\u001B[0m\u001B[0;34m\u001B[0m\u001B[0;34m\u001B[0m\u001B[0m\n\u001B[0m\u001B[1;32m    531\u001B[0m \u001B[0;34m\u001B[0m\u001B[0m\n\u001B[1;32m    532\u001B[0m         \u001B[0;32mreturn\u001B[0m \u001B[0mresp\u001B[0m\u001B[0;34m\u001B[0m\u001B[0;34m\u001B[0m\u001B[0m\n",
      "\u001B[0;32m~/Documents/venv/lib/python3.7/site-packages/requests/sessions.py\u001B[0m in \u001B[0;36msend\u001B[0;34m(self, request, **kwargs)\u001B[0m\n\u001B[1;32m    641\u001B[0m \u001B[0;34m\u001B[0m\u001B[0m\n\u001B[1;32m    642\u001B[0m         \u001B[0;31m# Send the request\u001B[0m\u001B[0;34m\u001B[0m\u001B[0;34m\u001B[0m\u001B[0;34m\u001B[0m\u001B[0m\n\u001B[0;32m--> 643\u001B[0;31m         \u001B[0mr\u001B[0m \u001B[0;34m=\u001B[0m \u001B[0madapter\u001B[0m\u001B[0;34m.\u001B[0m\u001B[0msend\u001B[0m\u001B[0;34m(\u001B[0m\u001B[0mrequest\u001B[0m\u001B[0;34m,\u001B[0m \u001B[0;34m**\u001B[0m\u001B[0mkwargs\u001B[0m\u001B[0;34m)\u001B[0m\u001B[0;34m\u001B[0m\u001B[0;34m\u001B[0m\u001B[0m\n\u001B[0m\u001B[1;32m    644\u001B[0m \u001B[0;34m\u001B[0m\u001B[0m\n\u001B[1;32m    645\u001B[0m         \u001B[0;31m# Total elapsed time of the request (approximately)\u001B[0m\u001B[0;34m\u001B[0m\u001B[0;34m\u001B[0m\u001B[0;34m\u001B[0m\u001B[0m\n",
      "\u001B[0;32m~/Documents/venv/lib/python3.7/site-packages/requests/adapters.py\u001B[0m in \u001B[0;36msend\u001B[0;34m(self, request, stream, timeout, verify, cert, proxies)\u001B[0m\n\u001B[1;32m    512\u001B[0m             \u001B[0;32mif\u001B[0m \u001B[0misinstance\u001B[0m\u001B[0;34m(\u001B[0m\u001B[0me\u001B[0m\u001B[0;34m.\u001B[0m\u001B[0mreason\u001B[0m\u001B[0;34m,\u001B[0m \u001B[0m_SSLError\u001B[0m\u001B[0;34m)\u001B[0m\u001B[0;34m:\u001B[0m\u001B[0;34m\u001B[0m\u001B[0;34m\u001B[0m\u001B[0m\n\u001B[1;32m    513\u001B[0m                 \u001B[0;31m# This branch is for urllib3 v1.22 and later.\u001B[0m\u001B[0;34m\u001B[0m\u001B[0;34m\u001B[0m\u001B[0;34m\u001B[0m\u001B[0m\n\u001B[0;32m--> 514\u001B[0;31m                 \u001B[0;32mraise\u001B[0m \u001B[0mSSLError\u001B[0m\u001B[0;34m(\u001B[0m\u001B[0me\u001B[0m\u001B[0;34m,\u001B[0m \u001B[0mrequest\u001B[0m\u001B[0;34m=\u001B[0m\u001B[0mrequest\u001B[0m\u001B[0;34m)\u001B[0m\u001B[0;34m\u001B[0m\u001B[0;34m\u001B[0m\u001B[0m\n\u001B[0m\u001B[1;32m    515\u001B[0m \u001B[0;34m\u001B[0m\u001B[0m\n\u001B[1;32m    516\u001B[0m             \u001B[0;32mraise\u001B[0m \u001B[0mConnectionError\u001B[0m\u001B[0;34m(\u001B[0m\u001B[0me\u001B[0m\u001B[0;34m,\u001B[0m \u001B[0mrequest\u001B[0m\u001B[0;34m=\u001B[0m\u001B[0mrequest\u001B[0m\u001B[0;34m)\u001B[0m\u001B[0;34m\u001B[0m\u001B[0;34m\u001B[0m\u001B[0m\n",
      "\u001B[0;31mSSLError\u001B[0m: HTTPSConnectionPool(host='api.beta.ons.gov.uk', port=443): Max retries exceeded with url: /v1/datasets (Caused by SSLError(SSLEOFError(8, 'EOF occurred in violation of protocol (_ssl.c:1056)')))"
     ]
    }
   ],
   "source": [
    "r = requests.get('https://api.beta.ons.gov.uk/v1/datasets')\n",
    "dataset_titles = []\n",
    "dataset_descriptions: List[Any] = []\n",
    "dataset_ids: List[Any] = []\n",
    "for i in range(len(r.json()['items'])):\n",
    "    dataset_titles.append(r.json()['items'][i]['title'])\n",
    "    dataset_descriptions.append(r.json()['items'][i]['description'])\n",
    "    dataset_ids.append(r.json()['items'][i]['id'])\n",
    "\n",
    "table_of_codes = pd.DataFrame(data={'title': dataset_titles,\n",
    "                   'description': dataset_descriptions,\n",
    "                  'dataset_id': dataset_ids})"
   ]
  },
  {
   "cell_type": "markdown",
   "metadata": {},
   "source": [
    "## find information about a dataset\n",
    "we need to know the following items to make a correct api call:\n",
    "* edition\n",
    "* version\n",
    "* time\n",
    "* aggregate \n",
    "* geography\n",
    "* dimension"
   ]
  },
  {
   "cell_type": "markdown",
   "metadata": {},
   "source": [
    "> This allows querying of a single observation/value by providing one option per dimension, but will also allow one of\n",
    "> these dimensions to be a ‘wildcard’ and return all values for this dimension.\n",
    "\n",
    "`/datasets/{datasetId}/\n",
    "editions/{edition}/\n",
    "versions/{version}/\n",
    "observations?\n",
    "time={timeLabel}&\n",
    "geography={geographyID}&\n",
    "dimension3={dimension3ID}&\n",
    "dimension4={dimension4ID}...`"
   ]
  },
  {
   "cell_type": "code",
   "execution_count": 5,
   "metadata": {},
   "outputs": [],
   "source": [
    "def post(extension, is_ok=False):\n",
    "    r = requests.get(f'https://api.beta.ons.gov.uk/v1/' + extension)\n",
    "    if is_ok:\n",
    "        print(r)\n",
    "    return r.json()"
   ]
  },
  {
   "cell_type": "markdown",
   "metadata": {},
   "source": [
    "`/datasets/cpih01/editions/time-series/versions/6/observations?time=Oct-11&geography=K02000001&aggregate=cpih1dim1A0`"
   ]
  },
  {
   "cell_type": "markdown",
   "metadata": {},
   "source": [
    "### editions param"
   ]
  },
  {
   "cell_type": "code",
   "execution_count": 6,
   "metadata": {},
   "outputs": [],
   "source": [
    "editions = post('/datasets/cpih01/editions')"
   ]
  },
  {
   "cell_type": "code",
   "execution_count": null,
   "outputs": [],
   "source": [
    "editions['items'][0]['edition']"
   ],
   "metadata": {
    "collapsed": false,
    "pycharm": {
     "name": "#%%\n"
    }
   }
  },
  {
   "cell_type": "code",
   "execution_count": null,
   "metadata": {},
   "outputs": [],
   "source": [
    "mother_df = pd.DataFrame.from_dict(post('/datasets/cpih01/editions/time-series/versions')['items'][3], orient='index').T"
   ]
  },
  {
   "cell_type": "code",
   "execution_count": null,
   "metadata": {},
   "outputs": [],
   "source": [
    "for i in range(len(post('/datasets/cpih01/editions/time-series/versions')['items'])):\n",
    "    try:\n",
    "        my_dict = post('/datasets/cpih01/editions/time-series/versions')['items'][i+1]\n",
    "        df = pd.DataFrame.from_dict(my_dict, orient='index').T\n",
    "        mother_df = mother_df.append(df)\n",
    "    except:\n",
    "        pass"
   ]
  },
  {
   "cell_type": "code",
   "execution_count": null,
   "metadata": {},
   "outputs": [],
   "source": [
    "mother_df.head()"
   ]
  },
  {
   "cell_type": "markdown",
   "metadata": {
    "pycharm": {
     "name": "#%% md\n"
    }
   },
   "source": [
    "Create a chart from Population Estimates for UK, Wales, etc.\n",
    "\n",
    "* dataset\n",
    "* edition\n",
    "* version\n",
    "* time\n",
    "* aggregate\n",
    "* geography\n",
    "* dimension\n",
    "\n",
    "code: mid-year-pop-est"
   ]
  },
  {
   "cell_type": "code",
   "execution_count": 7,
   "outputs": [],
   "source": [
    "dataset_id = 'mid-year-pop-est'"
   ],
   "metadata": {
    "collapsed": false,
    "pycharm": {
     "name": "#%%\n"
    }
   }
  },
  {
   "cell_type": "code",
   "execution_count": 8,
   "outputs": [
    {
     "name": "stdout",
     "output_type": "stream",
     "text": [
      "<Response [200]>\n"
     ]
    }
   ],
   "source": [
    "uk_population_dataset = post(f'/datasets/{dataset_id}', is_ok=True)"
   ],
   "metadata": {
    "collapsed": false,
    "pycharm": {
     "name": "#%%\n"
    }
   }
  },
  {
   "cell_type": "code",
   "execution_count": 9,
   "outputs": [
    {
     "data": {
      "text/plain": "['@context',\n 'contacts',\n 'description',\n 'id',\n 'keywords',\n 'license',\n 'links',\n 'methodologies',\n 'national_statistic',\n 'next_release',\n 'publications',\n 'publisher',\n 'qmi',\n 'related_datasets',\n 'release_frequency',\n 'state',\n 'theme',\n 'title',\n 'unit_of_measure']"
     },
     "execution_count": 9,
     "metadata": {},
     "output_type": "execute_result"
    }
   ],
   "source": [
    "list(uk_population_dataset.keys())"
   ],
   "metadata": {
    "collapsed": false,
    "pycharm": {
     "name": "#%%\n"
    }
   }
  },
  {
   "cell_type": "code",
   "execution_count": 10,
   "outputs": [
    {
     "data": {
      "text/plain": "{'@context': 'https://cdn.ons.gov.uk/assets/json-ld/context.json',\n 'contacts': [{'email': 'pop.info@ons.gov.uk ',\n   'name': 'Neil Park ',\n   'telephone': '+44 (0)1329 444661'}],\n 'description': 'Estimates of the usual resident population for the UK as at 30 June of the reference year. Provided by administrative area, single year of age and sex.',\n 'id': 'mid-year-pop-est',\n 'keywords': ['Population'],\n 'license': 'Open Government Licence v3.0',\n 'links': {'access_rights': {},\n  'editions': {'href': 'https://api.beta.ons.gov.uk/v1/datasets/mid-year-pop-est/editions'},\n  'latest_version': {'href': 'https://api.beta.ons.gov.uk/v1/datasets/mid-year-pop-est/editions/time-series/versions/4',\n   'id': '4'},\n  'self': {'href': 'https://api.beta.ons.gov.uk/v1/datasets/mid-year-pop-est'}},\n 'methodologies': [{'description': 'Background information and methods changes for this year',\n   'href': 'https://www.ons.gov.uk/peoplepopulationandcommunity/populationandmigration/populationestimates/methodologies/methodologyguideformid2015ukpopulationestimatesenglandandwalesjune2016',\n   'title': 'Methodology guide for mid-2017 UK population estimates (England and Wales): June 2018'}],\n 'national_statistic': True,\n 'next_release': 'June 2019',\n 'publications': [{'href': 'https://www.ons.gov.uk/peoplepopulationandcommunity/populationandmigration/populationestimates/bulletins/annualmidyearpopulationestimates/latest',\n   'title': 'Population estimates for UK, England and Wales, Scotland and Northern Ireland'}],\n 'publisher': {'href': 'https://www.ons.gov.uk',\n  'name': 'Office for National Statistics (ONS)',\n  'type': 'Non-ministerial department'},\n 'qmi': {'href': 'https://www.ons.gov.uk/peoplepopulationandcommunity/populationandmigration/populationestimates/methodologies/annualmidyearpopulationestimatesqmi',\n  'title': 'Annual mid-year population estimates QMI'},\n 'related_datasets': [{'href': 'https://www.ons.gov.uk/peoplepopulationandcommunity/populationandmigration/populationestimates/datasets/populationestimatesforukenglandandwalesscotlandandnorthernireland',\n   'title': 'Population Estimates for UK, England and Wales, Scotland and Northern Ireland'}],\n 'release_frequency': 'annually',\n 'state': 'published',\n 'theme': 'Population estimates',\n 'title': 'Population Estimates for UK, England and Wales, Scotland and Northern Ireland',\n 'unit_of_measure': 'Number of people'}"
     },
     "execution_count": 10,
     "metadata": {},
     "output_type": "execute_result"
    }
   ],
   "source": [
    "uk_population_dataset"
   ],
   "metadata": {
    "collapsed": false,
    "pycharm": {
     "name": "#%%\n"
    }
   }
  },
  {
   "cell_type": "code",
   "execution_count": 11,
   "outputs": [
    {
     "data": {
      "text/plain": "dict_keys(['@context', 'contacts', 'description', 'id', 'keywords', 'license', 'links', 'methodologies', 'national_statistic', 'next_release', 'publications', 'publisher', 'qmi', 'related_datasets', 'release_frequency', 'state', 'theme', 'title', 'unit_of_measure'])"
     },
     "execution_count": 11,
     "metadata": {},
     "output_type": "execute_result"
    }
   ],
   "source": [
    "uk_population_dataset.keys()"
   ],
   "metadata": {
    "collapsed": false,
    "pycharm": {
     "name": "#%%\n"
    }
   }
  },
  {
   "cell_type": "markdown",
   "source": [
    "## fetch the latest version of this dataset"
   ],
   "metadata": {
    "collapsed": false,
    "pycharm": {
     "name": "#%% md\n"
    }
   }
  },
  {
   "cell_type": "code",
   "execution_count": 12,
   "outputs": [
    {
     "data": {
      "text/plain": "'4'"
     },
     "execution_count": 12,
     "metadata": {},
     "output_type": "execute_result"
    }
   ],
   "source": [
    "uk_pop_latest_version = uk_population_dataset['links']['latest_version']['id']\n",
    "uk_pop_latest_version\n"
   ],
   "metadata": {
    "collapsed": false,
    "pycharm": {
     "name": "#%%\n"
    }
   }
  },
  {
   "cell_type": "code",
   "execution_count": 13,
   "outputs": [
    {
     "name": "stdout",
     "output_type": "stream",
     "text": [
      "<Response [200]>\n"
     ]
    },
    {
     "data": {
      "text/plain": "{'@context': 'https://cdn.ons.gov.uk/assets/json-ld/context.json',\n 'alerts': [],\n 'collection_id': 'midyearpopest-7e05d4510fcc86e5182e9838ee4419a92e1e28e2d71885e5d1b1b10a11a33fd7',\n 'dimensions': [{'href': 'https://api.beta.ons.gov.uk/v1/code-lists/calendar-years',\n   'id': 'calendar-years',\n   'links': {'code_list': {}, 'options': {}, 'version': {}},\n   'name': 'time'},\n  {'href': 'https://api.beta.ons.gov.uk/v1/code-lists/mid-year-pop-geography',\n   'id': 'mid-year-pop-geography',\n   'label': 'Geography',\n   'links': {'code_list': {}, 'options': {}, 'version': {}},\n   'name': 'geography'},\n  {'href': 'https://api.beta.ons.gov.uk/v1/code-lists/mid-year-pop-sex',\n   'id': 'mid-year-pop-sex',\n   'links': {'code_list': {}, 'options': {}, 'version': {}},\n   'name': 'sex'},\n  {'href': 'https://api.beta.ons.gov.uk/v1/code-lists/mid-year-pop-age',\n   'id': 'mid-year-pop-age',\n   'links': {'code_list': {}, 'options': {}, 'version': {}},\n   'name': 'age'}],\n 'downloads': {'csv': {'href': 'https://download.beta.ons.gov.uk/downloads/datasets/mid-year-pop-est/editions/time-series/versions/4.csv',\n   'size': '36515553'},\n  'csvw': {'href': 'https://download.beta.ons.gov.uk/downloads/datasets/mid-year-pop-est/editions/time-series/versions/4.csv-metadata.json',\n   'size': '1756'},\n  'xls': {'href': 'https://download.beta.ons.gov.uk/downloads/datasets/mid-year-pop-est/editions/time-series/versions/4.xlsx',\n   'size': '5836770'}},\n 'edition': 'time-series',\n 'id': 'e6ddb310-bf5d-4000-9a77-8c1611046eb4',\n 'latest_changes': [],\n 'links': {'dataset': {'href': 'https://api.beta.ons.gov.uk/v1/datasets/mid-year-pop-est',\n   'id': 'mid-year-pop-est'},\n  'dimensions': {'href': 'https://api.beta.ons.gov.uk/v1/datasets/mid-year-pop-est/editions/time-series/versions/4/dimensions'},\n  'edition': {'href': 'https://api.beta.ons.gov.uk/v1/datasets/mid-year-pop-est/editions/time-series',\n   'id': 'time-series'},\n  'self': {'href': 'https://api.beta.ons.gov.uk/v1/datasets/mid-year-pop-est/editions/time-series/versions/4'}},\n 'release_date': '2019-01-14T00:00:00.000Z',\n 'state': 'published',\n 'usage_notes': [],\n 'version': 4}"
     },
     "execution_count": 13,
     "metadata": {},
     "output_type": "execute_result"
    }
   ],
   "source": [
    "uk_population_editions = post(f'/datasets/{dataset_id}/editions/time-series/versions/{uk_pop_latest_version}', is_ok=True)\n",
    "uk_population_editions\n"
   ],
   "metadata": {
    "collapsed": false,
    "pycharm": {
     "name": "#%%\n"
    }
   }
  },
  {
   "cell_type": "markdown",
   "source": [
    "##### fetch the dimensions that this dataset has to build the rest of the api.\n",
    "##### We use the code list for this, a separate service"
   ],
   "metadata": {
    "collapsed": false,
    "pycharm": {
     "name": "#%% md\n"
    }
   }
  },
  {
   "cell_type": "code",
   "execution_count": 14,
   "outputs": [
    {
     "name": "stdout",
     "output_type": "stream",
     "text": [
      "<Response [404]>\n"
     ]
    },
    {
     "ename": "JSONDecodeError",
     "evalue": "Expecting value: line 1 column 1 (char 0)",
     "output_type": "error",
     "traceback": [
      "\u001B[0;31m---------------------------------------------------------------------------\u001B[0m",
      "\u001B[0;31mJSONDecodeError\u001B[0m                           Traceback (most recent call last)",
      "\u001B[0;32m<ipython-input-14-26fcb65daa6b>\u001B[0m in \u001B[0;36m<module>\u001B[0;34m\u001B[0m\n\u001B[0;32m----> 1\u001B[0;31m \u001B[0muk_population_code_list\u001B[0m \u001B[0;34m=\u001B[0m \u001B[0mpost\u001B[0m\u001B[0;34m(\u001B[0m\u001B[0;34mf'/code-lists/{dataset_id}'\u001B[0m\u001B[0;34m,\u001B[0m \u001B[0mis_ok\u001B[0m\u001B[0;34m=\u001B[0m\u001B[0;32mTrue\u001B[0m\u001B[0;34m)\u001B[0m\u001B[0;34m\u001B[0m\u001B[0;34m\u001B[0m\u001B[0m\n\u001B[0m\u001B[1;32m      2\u001B[0m \u001B[0;34m\u001B[0m\u001B[0m\n",
      "\u001B[0;32m<ipython-input-5-08f3abe62fc7>\u001B[0m in \u001B[0;36mpost\u001B[0;34m(extension, is_ok)\u001B[0m\n\u001B[1;32m      3\u001B[0m     \u001B[0;32mif\u001B[0m \u001B[0mis_ok\u001B[0m\u001B[0;34m:\u001B[0m\u001B[0;34m\u001B[0m\u001B[0;34m\u001B[0m\u001B[0m\n\u001B[1;32m      4\u001B[0m         \u001B[0mprint\u001B[0m\u001B[0;34m(\u001B[0m\u001B[0mr\u001B[0m\u001B[0;34m)\u001B[0m\u001B[0;34m\u001B[0m\u001B[0;34m\u001B[0m\u001B[0m\n\u001B[0;32m----> 5\u001B[0;31m     \u001B[0;32mreturn\u001B[0m \u001B[0mr\u001B[0m\u001B[0;34m.\u001B[0m\u001B[0mjson\u001B[0m\u001B[0;34m(\u001B[0m\u001B[0;34m)\u001B[0m\u001B[0;34m\u001B[0m\u001B[0;34m\u001B[0m\u001B[0m\n\u001B[0m\u001B[1;32m      6\u001B[0m \u001B[0;34m\u001B[0m\u001B[0m\n",
      "\u001B[0;32m~/Documents/venv/lib/python3.7/site-packages/requests/models.py\u001B[0m in \u001B[0;36mjson\u001B[0;34m(self, **kwargs)\u001B[0m\n\u001B[1;32m    896\u001B[0m                     \u001B[0;31m# used.\u001B[0m\u001B[0;34m\u001B[0m\u001B[0;34m\u001B[0m\u001B[0;34m\u001B[0m\u001B[0m\n\u001B[1;32m    897\u001B[0m                     \u001B[0;32mpass\u001B[0m\u001B[0;34m\u001B[0m\u001B[0;34m\u001B[0m\u001B[0m\n\u001B[0;32m--> 898\u001B[0;31m         \u001B[0;32mreturn\u001B[0m \u001B[0mcomplexjson\u001B[0m\u001B[0;34m.\u001B[0m\u001B[0mloads\u001B[0m\u001B[0;34m(\u001B[0m\u001B[0mself\u001B[0m\u001B[0;34m.\u001B[0m\u001B[0mtext\u001B[0m\u001B[0;34m,\u001B[0m \u001B[0;34m**\u001B[0m\u001B[0mkwargs\u001B[0m\u001B[0;34m)\u001B[0m\u001B[0;34m\u001B[0m\u001B[0;34m\u001B[0m\u001B[0m\n\u001B[0m\u001B[1;32m    899\u001B[0m \u001B[0;34m\u001B[0m\u001B[0m\n\u001B[1;32m    900\u001B[0m     \u001B[0;34m@\u001B[0m\u001B[0mproperty\u001B[0m\u001B[0;34m\u001B[0m\u001B[0;34m\u001B[0m\u001B[0m\n",
      "\u001B[0;32m/Library/Developer/CommandLineTools/Library/Frameworks/Python3.framework/Versions/3.7/lib/python3.7/json/__init__.py\u001B[0m in \u001B[0;36mloads\u001B[0;34m(s, encoding, cls, object_hook, parse_float, parse_int, parse_constant, object_pairs_hook, **kw)\u001B[0m\n\u001B[1;32m    346\u001B[0m             \u001B[0mparse_int\u001B[0m \u001B[0;32mis\u001B[0m \u001B[0;32mNone\u001B[0m \u001B[0;32mand\u001B[0m \u001B[0mparse_float\u001B[0m \u001B[0;32mis\u001B[0m \u001B[0;32mNone\u001B[0m \u001B[0;32mand\u001B[0m\u001B[0;34m\u001B[0m\u001B[0;34m\u001B[0m\u001B[0m\n\u001B[1;32m    347\u001B[0m             parse_constant is None and object_pairs_hook is None and not kw):\n\u001B[0;32m--> 348\u001B[0;31m         \u001B[0;32mreturn\u001B[0m \u001B[0m_default_decoder\u001B[0m\u001B[0;34m.\u001B[0m\u001B[0mdecode\u001B[0m\u001B[0;34m(\u001B[0m\u001B[0ms\u001B[0m\u001B[0;34m)\u001B[0m\u001B[0;34m\u001B[0m\u001B[0;34m\u001B[0m\u001B[0m\n\u001B[0m\u001B[1;32m    349\u001B[0m     \u001B[0;32mif\u001B[0m \u001B[0mcls\u001B[0m \u001B[0;32mis\u001B[0m \u001B[0;32mNone\u001B[0m\u001B[0;34m:\u001B[0m\u001B[0;34m\u001B[0m\u001B[0;34m\u001B[0m\u001B[0m\n\u001B[1;32m    350\u001B[0m         \u001B[0mcls\u001B[0m \u001B[0;34m=\u001B[0m \u001B[0mJSONDecoder\u001B[0m\u001B[0;34m\u001B[0m\u001B[0;34m\u001B[0m\u001B[0m\n",
      "\u001B[0;32m/Library/Developer/CommandLineTools/Library/Frameworks/Python3.framework/Versions/3.7/lib/python3.7/json/decoder.py\u001B[0m in \u001B[0;36mdecode\u001B[0;34m(self, s, _w)\u001B[0m\n\u001B[1;32m    335\u001B[0m \u001B[0;34m\u001B[0m\u001B[0m\n\u001B[1;32m    336\u001B[0m         \"\"\"\n\u001B[0;32m--> 337\u001B[0;31m         \u001B[0mobj\u001B[0m\u001B[0;34m,\u001B[0m \u001B[0mend\u001B[0m \u001B[0;34m=\u001B[0m \u001B[0mself\u001B[0m\u001B[0;34m.\u001B[0m\u001B[0mraw_decode\u001B[0m\u001B[0;34m(\u001B[0m\u001B[0ms\u001B[0m\u001B[0;34m,\u001B[0m \u001B[0midx\u001B[0m\u001B[0;34m=\u001B[0m\u001B[0m_w\u001B[0m\u001B[0;34m(\u001B[0m\u001B[0ms\u001B[0m\u001B[0;34m,\u001B[0m \u001B[0;36m0\u001B[0m\u001B[0;34m)\u001B[0m\u001B[0;34m.\u001B[0m\u001B[0mend\u001B[0m\u001B[0;34m(\u001B[0m\u001B[0;34m)\u001B[0m\u001B[0;34m)\u001B[0m\u001B[0;34m\u001B[0m\u001B[0;34m\u001B[0m\u001B[0m\n\u001B[0m\u001B[1;32m    338\u001B[0m         \u001B[0mend\u001B[0m \u001B[0;34m=\u001B[0m \u001B[0m_w\u001B[0m\u001B[0;34m(\u001B[0m\u001B[0ms\u001B[0m\u001B[0;34m,\u001B[0m \u001B[0mend\u001B[0m\u001B[0;34m)\u001B[0m\u001B[0;34m.\u001B[0m\u001B[0mend\u001B[0m\u001B[0;34m(\u001B[0m\u001B[0;34m)\u001B[0m\u001B[0;34m\u001B[0m\u001B[0;34m\u001B[0m\u001B[0m\n\u001B[1;32m    339\u001B[0m         \u001B[0;32mif\u001B[0m \u001B[0mend\u001B[0m \u001B[0;34m!=\u001B[0m \u001B[0mlen\u001B[0m\u001B[0;34m(\u001B[0m\u001B[0ms\u001B[0m\u001B[0;34m)\u001B[0m\u001B[0;34m:\u001B[0m\u001B[0;34m\u001B[0m\u001B[0;34m\u001B[0m\u001B[0m\n",
      "\u001B[0;32m/Library/Developer/CommandLineTools/Library/Frameworks/Python3.framework/Versions/3.7/lib/python3.7/json/decoder.py\u001B[0m in \u001B[0;36mraw_decode\u001B[0;34m(self, s, idx)\u001B[0m\n\u001B[1;32m    353\u001B[0m             \u001B[0mobj\u001B[0m\u001B[0;34m,\u001B[0m \u001B[0mend\u001B[0m \u001B[0;34m=\u001B[0m \u001B[0mself\u001B[0m\u001B[0;34m.\u001B[0m\u001B[0mscan_once\u001B[0m\u001B[0;34m(\u001B[0m\u001B[0ms\u001B[0m\u001B[0;34m,\u001B[0m \u001B[0midx\u001B[0m\u001B[0;34m)\u001B[0m\u001B[0;34m\u001B[0m\u001B[0;34m\u001B[0m\u001B[0m\n\u001B[1;32m    354\u001B[0m         \u001B[0;32mexcept\u001B[0m \u001B[0mStopIteration\u001B[0m \u001B[0;32mas\u001B[0m \u001B[0merr\u001B[0m\u001B[0;34m:\u001B[0m\u001B[0;34m\u001B[0m\u001B[0;34m\u001B[0m\u001B[0m\n\u001B[0;32m--> 355\u001B[0;31m             \u001B[0;32mraise\u001B[0m \u001B[0mJSONDecodeError\u001B[0m\u001B[0;34m(\u001B[0m\u001B[0;34m\"Expecting value\"\u001B[0m\u001B[0;34m,\u001B[0m \u001B[0ms\u001B[0m\u001B[0;34m,\u001B[0m \u001B[0merr\u001B[0m\u001B[0;34m.\u001B[0m\u001B[0mvalue\u001B[0m\u001B[0;34m)\u001B[0m \u001B[0;32mfrom\u001B[0m \u001B[0;32mNone\u001B[0m\u001B[0;34m\u001B[0m\u001B[0;34m\u001B[0m\u001B[0m\n\u001B[0m\u001B[1;32m    356\u001B[0m         \u001B[0;32mreturn\u001B[0m \u001B[0mobj\u001B[0m\u001B[0;34m,\u001B[0m \u001B[0mend\u001B[0m\u001B[0;34m\u001B[0m\u001B[0;34m\u001B[0m\u001B[0m\n",
      "\u001B[0;31mJSONDecodeError\u001B[0m: Expecting value: line 1 column 1 (char 0)"
     ]
    }
   ],
   "source": [
    "uk_population_code_list = post(f'/code-lists/{dataset_id}', is_ok=True)"
   ],
   "metadata": {
    "collapsed": false,
    "pycharm": {
     "name": "#%%\n"
    }
   }
  },
  {
   "cell_type": "code",
   "execution_count": null,
   "outputs": [],
   "source": [
    "dimensions = post(f'/datasets/{dataset_id}/editions/time-series/versions/{uk_pop_latest_version}/dimensions', is_ok=True)"
   ],
   "metadata": {
    "collapsed": false,
    "pycharm": {
     "name": "#%%\n"
    }
   }
  },
  {
   "cell_type": "code",
   "execution_count": 15,
   "outputs": [
    {
     "ename": "NameError",
     "evalue": "name 'dimensions' is not defined",
     "output_type": "error",
     "traceback": [
      "\u001B[0;31m---------------------------------------------------------------------------\u001B[0m",
      "\u001B[0;31mNameError\u001B[0m                                 Traceback (most recent call last)",
      "\u001B[0;32m<ipython-input-15-416b2a107fdb>\u001B[0m in \u001B[0;36m<module>\u001B[0;34m\u001B[0m\n\u001B[0;32m----> 1\u001B[0;31m \u001B[0mdimensions\u001B[0m\u001B[0;34m[\u001B[0m\u001B[0;34m'items'\u001B[0m\u001B[0;34m]\u001B[0m\u001B[0;34m[\u001B[0m\u001B[0;36m3\u001B[0m\u001B[0;34m]\u001B[0m\u001B[0;34m\u001B[0m\u001B[0;34m\u001B[0m\u001B[0m\n\u001B[0m\u001B[1;32m      2\u001B[0m \u001B[0;31m# 'time'\u001B[0m\u001B[0;34m\u001B[0m\u001B[0;34m\u001B[0m\u001B[0;34m\u001B[0m\u001B[0m\n\u001B[1;32m      3\u001B[0m \u001B[0;31m# 'sex'\u001B[0m\u001B[0;34m\u001B[0m\u001B[0;34m\u001B[0m\u001B[0;34m\u001B[0m\u001B[0m\n\u001B[1;32m      4\u001B[0m \u001B[0;31m# 'geography'\u001B[0m\u001B[0;34m\u001B[0m\u001B[0;34m\u001B[0m\u001B[0;34m\u001B[0m\u001B[0m\n\u001B[1;32m      5\u001B[0m \u001B[0;31m# 'age'\u001B[0m\u001B[0;34m\u001B[0m\u001B[0;34m\u001B[0m\u001B[0;34m\u001B[0m\u001B[0m\n",
      "\u001B[0;31mNameError\u001B[0m: name 'dimensions' is not defined"
     ]
    }
   ],
   "source": [
    "dimensions['items'][3]\n",
    "# 'time'\n",
    "# 'sex'\n",
    "# 'geography'\n",
    "# 'age'"
   ],
   "metadata": {
    "collapsed": false,
    "pycharm": {
     "name": "#%%\n"
    }
   }
  },
  {
   "cell_type": "code",
   "execution_count": 16,
   "outputs": [
    {
     "name": "stdout",
     "output_type": "stream",
     "text": [
      "<Response [200]>\n"
     ]
    },
    {
     "data": {
      "text/plain": "[{'dimension': 'sex',\n  'label': 'All',\n  'links': {'code': {'href': 'https://api.beta.ons.gov.uk/v1/code-lists/mid-year-pop-sex/codes/0',\n    'id': '0'},\n   'code_list': {'href': 'https://api.beta.ons.gov.uk/v1/code-lists/mid-year-pop-sex',\n    'id': 'mid-year-pop-sex'},\n   'version': {'href': 'https://api.beta.ons.gov.uk/v1/datasets/mid-year-pop-est/editions/time-series/versions/4',\n    'id': '4'}},\n  'option': '0'},\n {'dimension': 'sex',\n  'label': 'Male',\n  'links': {'code': {'href': 'https://api.beta.ons.gov.uk/v1/code-lists/mid-year-pop-sex/codes/1',\n    'id': '1'},\n   'code_list': {'href': 'https://api.beta.ons.gov.uk/v1/code-lists/mid-year-pop-sex',\n    'id': 'mid-year-pop-sex'},\n   'version': {'href': 'https://api.beta.ons.gov.uk/v1/datasets/mid-year-pop-est/editions/time-series/versions/4',\n    'id': '4'}},\n  'option': '1'},\n {'dimension': 'sex',\n  'label': 'Female',\n  'links': {'code': {'href': 'https://api.beta.ons.gov.uk/v1/code-lists/mid-year-pop-sex/codes/2',\n    'id': '2'},\n   'code_list': {'href': 'https://api.beta.ons.gov.uk/v1/code-lists/mid-year-pop-sex',\n    'id': 'mid-year-pop-sex'},\n   'version': {'href': 'https://api.beta.ons.gov.uk/v1/datasets/mid-year-pop-est/editions/time-series/versions/4',\n    'id': '4'}},\n  'option': '2'}]"
     },
     "execution_count": 16,
     "metadata": {},
     "output_type": "execute_result"
    }
   ],
   "source": [
    "# check options for each dimension\n",
    "dimension = 'sex'\n",
    "options: Dict = post(f'/datasets/{dataset_id}/editions/time-series/versions/{uk_pop_latest_version}/dimensions/{dimension}/options', is_ok=True)\n",
    "options['items']"
   ],
   "metadata": {
    "collapsed": false,
    "pycharm": {
     "name": "#%%\n"
    }
   }
  },
  {
   "cell_type": "code",
   "execution_count": 17,
   "outputs": [
    {
     "name": "stdout",
     "output_type": "stream",
     "text": [
      "<Response [200]>\n"
     ]
    },
    {
     "data": {
      "text/plain": "{'@context': 'https://cdn.ons.gov.uk/assets/json-ld/context.json',\n 'dimensions': {'geography': {'option': {'href': 'https://api.beta.ons.gov.uk/v1/code-lists/mid-year-pop-geography/codes/K02000001',\n    'id': 'K02000001'}},\n  'sex': {'option': {'href': 'https://api.beta.ons.gov.uk/v1/code-lists/mid-year-pop-sex/codes/0',\n    'id': '0'}},\n  'time': {'option': {'href': 'https://api.beta.ons.gov.uk/v1/code-lists/calendar-years/codes/2017',\n    'id': '2017'}}},\n 'limit': 10000,\n 'links': {'dataset_metadata': {'href': 'https://api.beta.ons.gov.uk/v1/datasets/mid-year-pop-est/editions/time-series/versions/4/metadata'},\n  'self': {'href': 'https://api.beta.ons.gov.uk/v1/datasets/mid-year-pop-est/editions/time-series/versions/4/observations?time=2017&geography=K02000001&sex=0&age=*'},\n  'version': {'href': 'https://api.beta.ons.gov.uk/v1/datasets/mid-year-pop-est/editions/time-series/versions/4',\n   'id': '4'}},\n 'observations': [{'dimensions': {'age': {'href': 'https://api.beta.ons.gov.uk/v1/code-lists/mid-year-pop-age/codes/13',\n     'id': '13',\n     'label': '13'}},\n   'observation': '728082'},\n  {'dimensions': {'age': {'href': 'https://api.beta.ons.gov.uk/v1/code-lists/mid-year-pop-age/codes/48',\n     'id': '48',\n     'label': '48'}},\n   'observation': '925425'},\n  {'dimensions': {'age': {'href': 'https://api.beta.ons.gov.uk/v1/code-lists/mid-year-pop-age/codes/31',\n     'id': '31',\n     'label': '31'}},\n   'observation': '892993'},\n  {'dimensions': {'age': {'href': 'https://api.beta.ons.gov.uk/v1/code-lists/mid-year-pop-age/codes/81',\n     'id': '81',\n     'label': '81'}},\n   'observation': '355285'},\n  {'dimensions': {'age': {'href': 'https://api.beta.ons.gov.uk/v1/code-lists/mid-year-pop-age/codes/37',\n     'id': '37',\n     'label': '37'}},\n   'observation': '883310'},\n  {'dimensions': {'age': {'href': 'https://api.beta.ons.gov.uk/v1/code-lists/mid-year-pop-age/codes/65',\n     'id': '65',\n     'label': '65'}},\n   'observation': '672855'},\n  {'dimensions': {'age': {'href': 'https://api.beta.ons.gov.uk/v1/code-lists/mid-year-pop-age/codes/59',\n     'id': '59',\n     'label': '59'}},\n   'observation': '790735'},\n  {'dimensions': {'age': {'href': 'https://api.beta.ons.gov.uk/v1/code-lists/mid-year-pop-age/codes/39',\n     'id': '39',\n     'label': '39'}},\n   'observation': '790619'},\n  {'dimensions': {'age': {'href': 'https://api.beta.ons.gov.uk/v1/code-lists/mid-year-pop-age/codes/47',\n     'id': '47',\n     'label': '47'}},\n   'observation': '903195'},\n  {'dimensions': {'age': {'href': 'https://api.beta.ons.gov.uk/v1/code-lists/mid-year-pop-age/codes/57',\n     'id': '57',\n     'label': '57'}},\n   'observation': '827799'},\n  {'dimensions': {'age': {'href': 'https://api.beta.ons.gov.uk/v1/code-lists/mid-year-pop-age/codes/12',\n     'id': '12',\n     'label': '12'}},\n   'observation': '740831'},\n  {'dimensions': {'age': {'href': 'https://api.beta.ons.gov.uk/v1/code-lists/mid-year-pop-age/codes/85',\n     'id': '85',\n     'label': '85'}},\n   'observation': '254442'},\n  {'dimensions': {'age': {'href': 'https://api.beta.ons.gov.uk/v1/code-lists/mid-year-pop-age/codes/52',\n     'id': '52',\n     'label': '52'}},\n   'observation': '944080'},\n  {'dimensions': {'age': {'href': 'https://api.beta.ons.gov.uk/v1/code-lists/mid-year-pop-age/codes/68',\n     'id': '68',\n     'label': '68'}},\n   'observation': '701792'},\n  {'dimensions': {'age': {'href': 'https://api.beta.ons.gov.uk/v1/code-lists/mid-year-pop-age/codes/71',\n     'id': '71',\n     'label': '71'}},\n   'observation': '609960'},\n  {'dimensions': {'age': {'href': 'https://api.beta.ons.gov.uk/v1/code-lists/mid-year-pop-age/codes/80',\n     'id': '80',\n     'label': '80'}},\n   'observation': '381286'},\n  {'dimensions': {'age': {'href': 'https://api.beta.ons.gov.uk/v1/code-lists/mid-year-pop-age/codes/46',\n     'id': '46',\n     'label': '46'}},\n   'observation': '924750'},\n  {'dimensions': {'age': {'href': 'https://api.beta.ons.gov.uk/v1/code-lists/mid-year-pop-age/codes/63',\n     'id': '63',\n     'label': '63'}},\n   'observation': '704909'},\n  {'dimensions': {'age': {'href': 'https://api.beta.ons.gov.uk/v1/code-lists/mid-year-pop-age/codes/73',\n     'id': '73',\n     'label': '73'}},\n   'observation': '582014'},\n  {'dimensions': {'age': {'href': 'https://api.beta.ons.gov.uk/v1/code-lists/mid-year-pop-age/codes/79',\n     'id': '79',\n     'label': '79'}},\n   'observation': '408269'},\n  {'dimensions': {'age': {'href': 'https://api.beta.ons.gov.uk/v1/code-lists/mid-year-pop-age/codes/34',\n     'id': '34',\n     'label': '34'}},\n   'observation': '877673'},\n  {'dimensions': {'age': {'href': 'https://api.beta.ons.gov.uk/v1/code-lists/mid-year-pop-age/codes/15',\n     'id': '15',\n     'label': '15'}},\n   'observation': '697784'},\n  {'dimensions': {'age': {'href': 'https://api.beta.ons.gov.uk/v1/code-lists/mid-year-pop-age/codes/76',\n     'id': '76',\n     'label': '76'}},\n   'observation': '427056'},\n  {'dimensions': {'age': {'href': 'https://api.beta.ons.gov.uk/v1/code-lists/mid-year-pop-age/codes/36',\n     'id': '36',\n     'label': '36'}},\n   'observation': '883963'},\n  {'dimensions': {'age': {'href': 'https://api.beta.ons.gov.uk/v1/code-lists/mid-year-pop-age/codes/44',\n     'id': '44',\n     'label': '44'}},\n   'observation': '858769'},\n  {'dimensions': {'age': {'href': 'https://api.beta.ons.gov.uk/v1/code-lists/mid-year-pop-age/codes/27',\n     'id': '27',\n     'label': '27'}},\n   'observation': '907722'},\n  {'dimensions': {'age': {'href': 'https://api.beta.ons.gov.uk/v1/code-lists/mid-year-pop-age/codes/8',\n     'id': '8',\n     'label': '8'}},\n   'observation': '807286'},\n  {'dimensions': {'age': {'href': 'https://api.beta.ons.gov.uk/v1/code-lists/mid-year-pop-age/codes/54',\n     'id': '54',\n     'label': '54'}},\n   'observation': '914385'},\n  {'dimensions': {'age': {'href': 'https://api.beta.ons.gov.uk/v1/code-lists/mid-year-pop-age/codes/7',\n     'id': '7',\n     'label': '7'}},\n   'observation': '815974'},\n  {'dimensions': {'age': {'href': 'https://api.beta.ons.gov.uk/v1/code-lists/mid-year-pop-age/codes/20',\n     'id': '20',\n     'label': '20'}},\n   'observation': '816601'},\n  {'dimensions': {'age': {'href': 'https://api.beta.ons.gov.uk/v1/code-lists/mid-year-pop-age/codes/21',\n     'id': '21',\n     'label': '21'}},\n   'observation': '823515'},\n  {'dimensions': {'age': {'href': 'https://api.beta.ons.gov.uk/v1/code-lists/mid-year-pop-age/codes/38',\n     'id': '38',\n     'label': '38'}},\n   'observation': '847662'},\n  {'dimensions': {'age': {'href': 'https://api.beta.ons.gov.uk/v1/code-lists/mid-year-pop-age/codes/41',\n     'id': '41',\n     'label': '41'}},\n   'observation': '792530'},\n  {'dimensions': {'age': {'href': 'https://api.beta.ons.gov.uk/v1/code-lists/mid-year-pop-age/codes/53',\n     'id': '53',\n     'label': '53'}},\n   'observation': '934498'},\n  {'dimensions': {'age': {'href': 'https://api.beta.ons.gov.uk/v1/code-lists/mid-year-pop-age/codes/35',\n     'id': '35',\n     'label': '35'}},\n   'observation': '876648'},\n  {'dimensions': {'age': {'href': 'https://api.beta.ons.gov.uk/v1/code-lists/mid-year-pop-age/codes/69',\n     'id': '69',\n     'label': '69'}},\n   'observation': '736232'},\n  {'dimensions': {'age': {'href': 'https://api.beta.ons.gov.uk/v1/code-lists/mid-year-pop-age/codes/43',\n     'id': '43',\n     'label': '43'}},\n   'observation': '822046'},\n  {'dimensions': {'age': {'href': 'https://api.beta.ons.gov.uk/v1/code-lists/mid-year-pop-age/codes/82',\n     'id': '82',\n     'label': '82'}},\n   'observation': '329024'},\n  {'dimensions': {'age': {'href': 'https://api.beta.ons.gov.uk/v1/code-lists/mid-year-pop-age/codes/18',\n     'id': '18',\n     'label': '18'}},\n   'observation': '765845'},\n  {'dimensions': {'age': {'href': 'https://api.beta.ons.gov.uk/v1/code-lists/mid-year-pop-age/codes/58',\n     'id': '58',\n     'label': '58'}},\n   'observation': '809151'},\n  {'dimensions': {'age': {'href': 'https://api.beta.ons.gov.uk/v1/code-lists/mid-year-pop-age/codes/3',\n     'id': '3',\n     'label': '3'}},\n   'observation': '799076'},\n  {'dimensions': {'age': {'href': 'https://api.beta.ons.gov.uk/v1/code-lists/mid-year-pop-age/codes/50',\n     'id': '50',\n     'label': '50'}},\n   'observation': '938170'},\n  {'dimensions': {'age': {'href': 'https://api.beta.ons.gov.uk/v1/code-lists/mid-year-pop-age/codes/87',\n     'id': '87',\n     'label': '87'}},\n   'observation': '204422'},\n  {'dimensions': {'age': {'href': 'https://api.beta.ons.gov.uk/v1/code-lists/mid-year-pop-age/codes/28',\n     'id': '28',\n     'label': '28'}},\n   'observation': '899739'},\n  {'dimensions': {'age': {'href': 'https://api.beta.ons.gov.uk/v1/code-lists/mid-year-pop-age/codes/62',\n     'id': '62',\n     'label': '62'}},\n   'observation': '705006'},\n  {'dimensions': {'age': {'href': 'https://api.beta.ons.gov.uk/v1/code-lists/mid-year-pop-age/codes/24',\n     'id': '24',\n     'label': '24'}},\n   'observation': '871599'},\n  {'dimensions': {'age': {'href': 'https://api.beta.ons.gov.uk/v1/code-lists/mid-year-pop-age/codes/90+',\n     'id': '90+',\n     'label': '90+'}},\n   'observation': '579776'},\n  {'dimensions': {'age': {'href': 'https://api.beta.ons.gov.uk/v1/code-lists/mid-year-pop-age/codes/78',\n     'id': '78',\n     'label': '78'}},\n   'observation': '426851'},\n  {'dimensions': {'age': {'href': 'https://api.beta.ons.gov.uk/v1/code-lists/mid-year-pop-age/codes/89',\n     'id': '89',\n     'label': '89'}},\n   'observation': '147643'},\n  {'dimensions': {'age': {'href': 'https://api.beta.ons.gov.uk/v1/code-lists/mid-year-pop-age/codes/64',\n     'id': '64',\n     'label': '64'}},\n   'observation': '694830'},\n  {'dimensions': {'age': {'href': 'https://api.beta.ons.gov.uk/v1/code-lists/mid-year-pop-age/codes/16',\n     'id': '16',\n     'label': '16'}},\n   'observation': '717803'},\n  {'dimensions': {'age': {'href': 'https://api.beta.ons.gov.uk/v1/code-lists/mid-year-pop-age/codes/51',\n     'id': '51',\n     'label': '51'}},\n   'observation': '936983'},\n  {'dimensions': {'age': {'href': 'https://api.beta.ons.gov.uk/v1/code-lists/mid-year-pop-age/codes/42',\n     'id': '42',\n     'label': '42'}},\n   'observation': '807917'},\n  {'dimensions': {'age': {'href': 'https://api.beta.ons.gov.uk/v1/code-lists/mid-year-pop-age/codes/29',\n     'id': '29',\n     'label': '29'}},\n   'observation': '908875'},\n  {'dimensions': {'age': {'href': 'https://api.beta.ons.gov.uk/v1/code-lists/mid-year-pop-age/codes/23',\n     'id': '23',\n     'label': '23'}},\n   'observation': '864487'},\n  {'dimensions': {'age': {'href': 'https://api.beta.ons.gov.uk/v1/code-lists/mid-year-pop-age/codes/2',\n     'id': '2',\n     'label': '2'}},\n   'observation': '790680'},\n  {'dimensions': {'age': {'href': 'https://api.beta.ons.gov.uk/v1/code-lists/mid-year-pop-age/codes/6',\n     'id': '6',\n     'label': '6'}},\n   'observation': '832406'},\n  {'dimensions': {'age': {'href': 'https://api.beta.ons.gov.uk/v1/code-lists/mid-year-pop-age/codes/10',\n     'id': '10',\n     'label': '10'}},\n   'observation': '786380'},\n  {'dimensions': {'age': {'href': 'https://api.beta.ons.gov.uk/v1/code-lists/mid-year-pop-age/codes/0',\n     'id': '0',\n     'label': '0'}},\n   'observation': '763201'},\n  {'dimensions': {'age': {'href': 'https://api.beta.ons.gov.uk/v1/code-lists/mid-year-pop-age/codes/4',\n     'id': '4',\n     'label': '4'}},\n   'observation': '818499'},\n  {'dimensions': {'age': {'href': 'https://api.beta.ons.gov.uk/v1/code-lists/mid-year-pop-age/codes/75',\n     'id': '75',\n     'label': '75'}},\n   'observation': '478088'},\n  {'dimensions': {'age': {'href': 'https://api.beta.ons.gov.uk/v1/code-lists/mid-year-pop-age/codes/61',\n     'id': '61',\n     'label': '61'}},\n   'observation': '732885'},\n  {'dimensions': {'age': {'href': 'https://api.beta.ons.gov.uk/v1/code-lists/mid-year-pop-age/codes/total',\n     'id': 'total',\n     'label': 'Total'}},\n   'observation': '66040229'},\n  {'dimensions': {'age': {'href': 'https://api.beta.ons.gov.uk/v1/code-lists/mid-year-pop-age/codes/72',\n     'id': '72',\n     'label': '72'}},\n   'observation': '587311'},\n  {'dimensions': {'age': {'href': 'https://api.beta.ons.gov.uk/v1/code-lists/mid-year-pop-age/codes/88',\n     'id': '88',\n     'label': '88'}},\n   'observation': '175064'},\n  {'dimensions': {'age': {'href': 'https://api.beta.ons.gov.uk/v1/code-lists/mid-year-pop-age/codes/77',\n     'id': '77',\n     'label': '77'}},\n   'observation': '436673'},\n  {'dimensions': {'age': {'href': 'https://api.beta.ons.gov.uk/v1/code-lists/mid-year-pop-age/codes/56',\n     'id': '56',\n     'label': '56'}},\n   'observation': '862999'},\n  {'dimensions': {'age': {'href': 'https://api.beta.ons.gov.uk/v1/code-lists/mid-year-pop-age/codes/84',\n     'id': '84',\n     'label': '84'}},\n   'observation': '272804'},\n  {'dimensions': {'age': {'href': 'https://api.beta.ons.gov.uk/v1/code-lists/mid-year-pop-age/codes/11',\n     'id': '11',\n     'label': '11'}},\n   'observation': '770123'},\n  {'dimensions': {'age': {'href': 'https://api.beta.ons.gov.uk/v1/code-lists/mid-year-pop-age/codes/40',\n     'id': '40',\n     'label': '40'}},\n   'observation': '778105'},\n  {'dimensions': {'age': {'href': 'https://api.beta.ons.gov.uk/v1/code-lists/mid-year-pop-age/codes/70',\n     'id': '70',\n     'label': '70'}},\n   'observation': '793207'},\n  {'dimensions': {'age': {'href': 'https://api.beta.ons.gov.uk/v1/code-lists/mid-year-pop-age/codes/26',\n     'id': '26',\n     'label': '26'}},\n   'observation': '923198'},\n  {'dimensions': {'age': {'href': 'https://api.beta.ons.gov.uk/v1/code-lists/mid-year-pop-age/codes/32',\n     'id': '32',\n     'label': '32'}},\n   'observation': '893238'},\n  {'dimensions': {'age': {'href': 'https://api.beta.ons.gov.uk/v1/code-lists/mid-year-pop-age/codes/25',\n     'id': '25',\n     'label': '25'}},\n   'observation': '902454'},\n  {'dimensions': {'age': {'href': 'https://api.beta.ons.gov.uk/v1/code-lists/mid-year-pop-age/codes/49',\n     'id': '49',\n     'label': '49'}},\n   'observation': '925768'},\n  {'dimensions': {'age': {'href': 'https://api.beta.ons.gov.uk/v1/code-lists/mid-year-pop-age/codes/1',\n     'id': '1',\n     'label': '1'}},\n   'observation': '789285'},\n  {'dimensions': {'age': {'href': 'https://api.beta.ons.gov.uk/v1/code-lists/mid-year-pop-age/codes/83',\n     'id': '83',\n     'label': '83'}},\n   'observation': '296722'},\n  {'dimensions': {'age': {'href': 'https://api.beta.ons.gov.uk/v1/code-lists/mid-year-pop-age/codes/45',\n     'id': '45',\n     'label': '45'}},\n   'observation': '895793'},\n  {'dimensions': {'age': {'href': 'https://api.beta.ons.gov.uk/v1/code-lists/mid-year-pop-age/codes/9',\n     'id': '9',\n     'label': '9'}},\n   'observation': '813213'},\n  {'dimensions': {'age': {'href': 'https://api.beta.ons.gov.uk/v1/code-lists/mid-year-pop-age/codes/86',\n     'id': '86',\n     'label': '86'}},\n   'observation': '231256'},\n  {'dimensions': {'age': {'href': 'https://api.beta.ons.gov.uk/v1/code-lists/mid-year-pop-age/codes/55',\n     'id': '55',\n     'label': '55'}},\n   'observation': '893629'},\n  {'dimensions': {'age': {'href': 'https://api.beta.ons.gov.uk/v1/code-lists/mid-year-pop-age/codes/30',\n     'id': '30',\n     'label': '30'}},\n   'observation': '886368'},\n  {'dimensions': {'age': {'href': 'https://api.beta.ons.gov.uk/v1/code-lists/mid-year-pop-age/codes/19',\n     'id': '19',\n     'label': '19'}},\n   'observation': '784259'},\n  {'dimensions': {'age': {'href': 'https://api.beta.ons.gov.uk/v1/code-lists/mid-year-pop-age/codes/66',\n     'id': '66',\n     'label': '66'}},\n   'observation': '675800'},\n  {'dimensions': {'age': {'href': 'https://api.beta.ons.gov.uk/v1/code-lists/mid-year-pop-age/codes/60',\n     'id': '60',\n     'label': '60'}},\n   'observation': '761034'},\n  {'dimensions': {'age': {'href': 'https://api.beta.ons.gov.uk/v1/code-lists/mid-year-pop-age/codes/74',\n     'id': '74',\n     'label': '74'}},\n   'observation': '538571'},\n  {'dimensions': {'age': {'href': 'https://api.beta.ons.gov.uk/v1/code-lists/mid-year-pop-age/codes/33',\n     'id': '33',\n     'label': '33'}},\n   'observation': '872012'},\n  {'dimensions': {'age': {'href': 'https://api.beta.ons.gov.uk/v1/code-lists/mid-year-pop-age/codes/5',\n     'id': '5',\n     'label': '5'}},\n   'observation': '844567'},\n  {'dimensions': {'age': {'href': 'https://api.beta.ons.gov.uk/v1/code-lists/mid-year-pop-age/codes/67',\n     'id': '67',\n     'label': '67'}},\n   'observation': '686919'},\n  {'dimensions': {'age': {'href': 'https://api.beta.ons.gov.uk/v1/code-lists/mid-year-pop-age/codes/22',\n     'id': '22',\n     'label': '22'}},\n   'observation': '831032'},\n  {'dimensions': {'age': {'href': 'https://api.beta.ons.gov.uk/v1/code-lists/mid-year-pop-age/codes/17',\n     'id': '17',\n     'label': '17'}},\n   'observation': '738544'},\n  {'dimensions': {'age': {'href': 'https://api.beta.ons.gov.uk/v1/code-lists/mid-year-pop-age/codes/14',\n     'id': '14',\n     'label': '14'}},\n   'observation': '707970'}],\n 'offset': 0,\n 'total_observations': 92,\n 'unit_of_measure': 'Number of people',\n 'usage_notes': []}"
     },
     "execution_count": 17,
     "metadata": {},
     "output_type": "execute_result"
    }
   ],
   "source": [
    "# age = type in int for age, up to '90+'. Use wildcard if possible. e.g '21'\n",
    "# time = id is the year e.g '2010'\n",
    "# geography = geography codes. UK = K02000001\n",
    "# sex = 'All': 0, 'Male': 1, 'Female': 2\n",
    "# %%\n",
    "\n",
    "post(f'/datasets/{dataset_id}'\n",
    "     f'/editions/time-series'\n",
    "     f'/versions/4/'\n",
    "     f'observations?'\n",
    "     f'time=2017&'\n",
    "     f'geography=K02000001&'\n",
    "     f'sex=0&'\n",
    "     f'age=*', is_ok=True)"
   ],
   "metadata": {
    "collapsed": false,
    "pycharm": {
     "name": "#%%\n"
    }
   }
  },
  {
   "cell_type": "code",
   "execution_count": 19,
   "outputs": [
    {
     "name": "stdout",
     "output_type": "stream",
     "text": [
      "<Response [200]>\n"
     ]
    }
   ],
   "source": [
    "# extract the individual values\n",
    "\n",
    "observations: Dict = post(f'/datasets/{dataset_id}'\n",
    "     f'/editions/time-series'\n",
    "     f'/versions/4/'\n",
    "     f'observations?'\n",
    "     f'time=2017&'\n",
    "     f'geography=K02000001&'\n",
    "     f'sex=0&'\n",
    "     f'age=*', is_ok=True)\n",
    "\n"
   ],
   "metadata": {
    "collapsed": false,
    "pycharm": {
     "name": "#%%\n"
    }
   }
  },
  {
   "cell_type": "code",
   "execution_count": 23,
   "outputs": [
    {
     "data": {
      "text/plain": "['@context',\n 'dimensions',\n 'limit',\n 'links',\n 'observations',\n 'offset',\n 'total_observations',\n 'unit_of_measure',\n 'usage_notes']"
     },
     "execution_count": 23,
     "metadata": {},
     "output_type": "execute_result"
    }
   ],
   "source": [
    "list(observations.keys())"
   ],
   "metadata": {
    "collapsed": false,
    "pycharm": {
     "name": "#%%\n"
    }
   }
  },
  {
   "cell_type": "code",
   "execution_count": 24,
   "outputs": [
    {
     "data": {
      "text/plain": "{'geography': {'option': {'href': 'https://api.beta.ons.gov.uk/v1/code-lists/mid-year-pop-geography/codes/K02000001',\n   'id': 'K02000001'}},\n 'sex': {'option': {'href': 'https://api.beta.ons.gov.uk/v1/code-lists/mid-year-pop-sex/codes/0',\n   'id': '0'}},\n 'time': {'option': {'href': 'https://api.beta.ons.gov.uk/v1/code-lists/calendar-years/codes/2017',\n   'id': '2017'}}}"
     },
     "execution_count": 24,
     "metadata": {},
     "output_type": "execute_result"
    }
   ],
   "source": [
    "observations['dimensions']"
   ],
   "metadata": {
    "collapsed": false,
    "pycharm": {
     "name": "#%%\n"
    }
   }
  },
  {
   "cell_type": "code",
   "execution_count": 28,
   "outputs": [
    {
     "data": {
      "text/plain": "'Number of people'"
     },
     "execution_count": 28,
     "metadata": {},
     "output_type": "execute_result"
    }
   ],
   "source": [
    "observations['observations'].count()"
   ],
   "metadata": {
    "collapsed": false,
    "pycharm": {
     "name": "#%%\n"
    }
   }
  },
  {
   "cell_type": "code",
   "execution_count": null,
   "outputs": [],
   "source": [
    "\n"
   ],
   "metadata": {
    "collapsed": false,
    "pycharm": {
     "name": "#%%\n"
    }
   }
  }
 ],
 "metadata": {
  "kernelspec": {
   "name": "python3",
   "language": "python",
   "display_name": "Python 3"
  },
  "language_info": {
   "codemirror_mode": {
    "name": "ipython",
    "version": 3
   },
   "file_extension": ".py",
   "mimetype": "text/x-python",
   "name": "python",
   "nbconvert_exporter": "python",
   "pygments_lexer": "ipython3",
   "version": "3.7.6"
  }
 },
 "nbformat": 4,
 "nbformat_minor": 4
}