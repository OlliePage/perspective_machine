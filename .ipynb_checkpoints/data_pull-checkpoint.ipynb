{
 "cells": [
  {
   "cell_type": "code",
   "execution_count": 113,
   "metadata": {},
   "outputs": [],
   "source": [
    "import requests\n",
    "\n",
    "\n",
    "\n",
    "datasetId='regional-gdp-by-year'\n",
    "edition = 'time-series'\n",
    "version=4\n",
    "timeLabel='*'\n",
    "geographyID='K02000001' # K02000001 = United Kingdom\n",
    "aggregateID='cpih1dim1A0'\n",
    "\n",
    "r = requests.get(f'https://api.beta.ons.gov.uk/v1/datasets/{datasetId}/editions/{edition}/versions/{version}/observations?time={timeLabel}&geography={geographyID}')"
   ]
  },
  {
   "cell_type": "code",
   "execution_count": 114,
   "metadata": {
    "scrolled": true
   },
   "outputs": [
    {
     "ename": "JSONDecodeError",
     "evalue": "Expecting value: line 1 column 1 (char 0)",
     "output_type": "error",
     "traceback": [
      "\u001B[0;31m---------------------------------------------------------------------------\u001B[0m",
      "\u001B[0;31mJSONDecodeError\u001B[0m                           Traceback (most recent call last)",
      "\u001B[0;32m<ipython-input-114-52b7ec8d97cc>\u001B[0m in \u001B[0;36m<module>\u001B[0;34m\u001B[0m\n\u001B[0;32m----> 1\u001B[0;31m \u001B[0mr\u001B[0m\u001B[0;34m.\u001B[0m\u001B[0mjson\u001B[0m\u001B[0;34m(\u001B[0m\u001B[0;34m)\u001B[0m\u001B[0;34m\u001B[0m\u001B[0;34m\u001B[0m\u001B[0m\n\u001B[0m",
      "\u001B[0;32m~/opt/anaconda3/envs/flaskenv/lib/python3.7/site-packages/requests/models.py\u001B[0m in \u001B[0;36mjson\u001B[0;34m(self, **kwargs)\u001B[0m\n\u001B[1;32m    896\u001B[0m                     \u001B[0;31m# used.\u001B[0m\u001B[0;34m\u001B[0m\u001B[0;34m\u001B[0m\u001B[0;34m\u001B[0m\u001B[0m\n\u001B[1;32m    897\u001B[0m                     \u001B[0;32mpass\u001B[0m\u001B[0;34m\u001B[0m\u001B[0;34m\u001B[0m\u001B[0m\n\u001B[0;32m--> 898\u001B[0;31m         \u001B[0;32mreturn\u001B[0m \u001B[0mcomplexjson\u001B[0m\u001B[0;34m.\u001B[0m\u001B[0mloads\u001B[0m\u001B[0;34m(\u001B[0m\u001B[0mself\u001B[0m\u001B[0;34m.\u001B[0m\u001B[0mtext\u001B[0m\u001B[0;34m,\u001B[0m \u001B[0;34m**\u001B[0m\u001B[0mkwargs\u001B[0m\u001B[0;34m)\u001B[0m\u001B[0;34m\u001B[0m\u001B[0;34m\u001B[0m\u001B[0m\n\u001B[0m\u001B[1;32m    899\u001B[0m \u001B[0;34m\u001B[0m\u001B[0m\n\u001B[1;32m    900\u001B[0m     \u001B[0;34m@\u001B[0m\u001B[0mproperty\u001B[0m\u001B[0;34m\u001B[0m\u001B[0;34m\u001B[0m\u001B[0m\n",
      "\u001B[0;32m~/opt/anaconda3/envs/flaskenv/lib/python3.7/json/__init__.py\u001B[0m in \u001B[0;36mloads\u001B[0;34m(s, encoding, cls, object_hook, parse_float, parse_int, parse_constant, object_pairs_hook, **kw)\u001B[0m\n\u001B[1;32m    346\u001B[0m             \u001B[0mparse_int\u001B[0m \u001B[0;32mis\u001B[0m \u001B[0;32mNone\u001B[0m \u001B[0;32mand\u001B[0m \u001B[0mparse_float\u001B[0m \u001B[0;32mis\u001B[0m \u001B[0;32mNone\u001B[0m \u001B[0;32mand\u001B[0m\u001B[0;34m\u001B[0m\u001B[0;34m\u001B[0m\u001B[0m\n\u001B[1;32m    347\u001B[0m             parse_constant is None and object_pairs_hook is None and not kw):\n\u001B[0;32m--> 348\u001B[0;31m         \u001B[0;32mreturn\u001B[0m \u001B[0m_default_decoder\u001B[0m\u001B[0;34m.\u001B[0m\u001B[0mdecode\u001B[0m\u001B[0;34m(\u001B[0m\u001B[0ms\u001B[0m\u001B[0;34m)\u001B[0m\u001B[0;34m\u001B[0m\u001B[0;34m\u001B[0m\u001B[0m\n\u001B[0m\u001B[1;32m    349\u001B[0m     \u001B[0;32mif\u001B[0m \u001B[0mcls\u001B[0m \u001B[0;32mis\u001B[0m \u001B[0;32mNone\u001B[0m\u001B[0;34m:\u001B[0m\u001B[0;34m\u001B[0m\u001B[0;34m\u001B[0m\u001B[0m\n\u001B[1;32m    350\u001B[0m         \u001B[0mcls\u001B[0m \u001B[0;34m=\u001B[0m \u001B[0mJSONDecoder\u001B[0m\u001B[0;34m\u001B[0m\u001B[0;34m\u001B[0m\u001B[0m\n",
      "\u001B[0;32m~/opt/anaconda3/envs/flaskenv/lib/python3.7/json/decoder.py\u001B[0m in \u001B[0;36mdecode\u001B[0;34m(self, s, _w)\u001B[0m\n\u001B[1;32m    335\u001B[0m \u001B[0;34m\u001B[0m\u001B[0m\n\u001B[1;32m    336\u001B[0m         \"\"\"\n\u001B[0;32m--> 337\u001B[0;31m         \u001B[0mobj\u001B[0m\u001B[0;34m,\u001B[0m \u001B[0mend\u001B[0m \u001B[0;34m=\u001B[0m \u001B[0mself\u001B[0m\u001B[0;34m.\u001B[0m\u001B[0mraw_decode\u001B[0m\u001B[0;34m(\u001B[0m\u001B[0ms\u001B[0m\u001B[0;34m,\u001B[0m \u001B[0midx\u001B[0m\u001B[0;34m=\u001B[0m\u001B[0m_w\u001B[0m\u001B[0;34m(\u001B[0m\u001B[0ms\u001B[0m\u001B[0;34m,\u001B[0m \u001B[0;36m0\u001B[0m\u001B[0;34m)\u001B[0m\u001B[0;34m.\u001B[0m\u001B[0mend\u001B[0m\u001B[0;34m(\u001B[0m\u001B[0;34m)\u001B[0m\u001B[0;34m)\u001B[0m\u001B[0;34m\u001B[0m\u001B[0;34m\u001B[0m\u001B[0m\n\u001B[0m\u001B[1;32m    338\u001B[0m         \u001B[0mend\u001B[0m \u001B[0;34m=\u001B[0m \u001B[0m_w\u001B[0m\u001B[0;34m(\u001B[0m\u001B[0ms\u001B[0m\u001B[0;34m,\u001B[0m \u001B[0mend\u001B[0m\u001B[0;34m)\u001B[0m\u001B[0;34m.\u001B[0m\u001B[0mend\u001B[0m\u001B[0;34m(\u001B[0m\u001B[0;34m)\u001B[0m\u001B[0;34m\u001B[0m\u001B[0;34m\u001B[0m\u001B[0m\n\u001B[1;32m    339\u001B[0m         \u001B[0;32mif\u001B[0m \u001B[0mend\u001B[0m \u001B[0;34m!=\u001B[0m \u001B[0mlen\u001B[0m\u001B[0;34m(\u001B[0m\u001B[0ms\u001B[0m\u001B[0;34m)\u001B[0m\u001B[0;34m:\u001B[0m\u001B[0;34m\u001B[0m\u001B[0;34m\u001B[0m\u001B[0m\n",
      "\u001B[0;32m~/opt/anaconda3/envs/flaskenv/lib/python3.7/json/decoder.py\u001B[0m in \u001B[0;36mraw_decode\u001B[0;34m(self, s, idx)\u001B[0m\n\u001B[1;32m    353\u001B[0m             \u001B[0mobj\u001B[0m\u001B[0;34m,\u001B[0m \u001B[0mend\u001B[0m \u001B[0;34m=\u001B[0m \u001B[0mself\u001B[0m\u001B[0;34m.\u001B[0m\u001B[0mscan_once\u001B[0m\u001B[0;34m(\u001B[0m\u001B[0ms\u001B[0m\u001B[0;34m,\u001B[0m \u001B[0midx\u001B[0m\u001B[0;34m)\u001B[0m\u001B[0;34m\u001B[0m\u001B[0;34m\u001B[0m\u001B[0m\n\u001B[1;32m    354\u001B[0m         \u001B[0;32mexcept\u001B[0m \u001B[0mStopIteration\u001B[0m \u001B[0;32mas\u001B[0m \u001B[0merr\u001B[0m\u001B[0;34m:\u001B[0m\u001B[0;34m\u001B[0m\u001B[0;34m\u001B[0m\u001B[0m\n\u001B[0;32m--> 355\u001B[0;31m             \u001B[0;32mraise\u001B[0m \u001B[0mJSONDecodeError\u001B[0m\u001B[0;34m(\u001B[0m\u001B[0;34m\"Expecting value\"\u001B[0m\u001B[0;34m,\u001B[0m \u001B[0ms\u001B[0m\u001B[0;34m,\u001B[0m \u001B[0merr\u001B[0m\u001B[0;34m.\u001B[0m\u001B[0mvalue\u001B[0m\u001B[0;34m)\u001B[0m \u001B[0;32mfrom\u001B[0m \u001B[0;32mNone\u001B[0m\u001B[0;34m\u001B[0m\u001B[0;34m\u001B[0m\u001B[0m\n\u001B[0m\u001B[1;32m    356\u001B[0m         \u001B[0;32mreturn\u001B[0m \u001B[0mobj\u001B[0m\u001B[0;34m,\u001B[0m \u001B[0mend\u001B[0m\u001B[0;34m\u001B[0m\u001B[0;34m\u001B[0m\u001B[0m\n",
      "\u001B[0;31mJSONDecodeError\u001B[0m: Expecting value: line 1 column 1 (char 0)"
     ]
    }
   ],
   "source": [
    "r.json()"
   ]
  },
  {
   "cell_type": "code",
   "execution_count": 120,
   "metadata": {},
   "outputs": [],
   "source": [
    "r = requests.get('https://api.beta.ons.gov.uk/v1/datasets/regional-gdp-by-year/editions/time-series/versions/4/observations?time=*&geography=K02000001')"
   ]
  },
  {
   "cell_type": "code",
   "execution_count": 122,
   "metadata": {
    "scrolled": true
   },
   "outputs": [
    {
     "data": {
      "text/plain": [
       "<Response [400]>"
      ]
     },
     "execution_count": 122,
     "metadata": {},
     "output_type": "execute_result"
    }
   ],
   "source": [
    "r"
   ]
  },
  {
   "cell_type": "code",
   "execution_count": 124,
   "metadata": {},
   "outputs": [],
   "source": [
    "r = requests.get('https://api.beta.ons.gov.uk/v1/datasets/cpih01/editions/time-series/versions/5/observations?time=*&aggregate=cpih1dim1A0&geography=K02000001')"
   ]
  },
  {
   "cell_type": "code",
   "execution_count": 125,
   "metadata": {},
   "outputs": [
    {
     "data": {
      "text/plain": [
       "<Response [200]>"
      ]
     },
     "execution_count": 125,
     "metadata": {},
     "output_type": "execute_result"
    }
   ],
   "source": [
    "r"
   ]
  },
  {
   "cell_type": "code",
   "execution_count": 126,
   "metadata": {
    "scrolled": true
   },
   "outputs": [
    {
     "data": {
      "text/plain": [
       "dict_keys(['@context', 'dimensions', 'limit', 'links', 'observations', 'offset', 'total_observations', 'unit_of_measure'])"
      ]
     },
     "execution_count": 126,
     "metadata": {},
     "output_type": "execute_result"
    }
   ],
   "source": [
    "r.json().keys()"
   ]
  },
  {
   "cell_type": "code",
   "execution_count": 49,
   "metadata": {},
   "outputs": [],
   "source": [
    "data = []\n",
    "for entry in r.json()['observations']:\n",
    "    data.append((pd.to_datetime(entry['dimensions']['time']['label']), entry['observation']))"
   ]
  },
  {
   "cell_type": "code",
   "execution_count": 53,
   "metadata": {
    "scrolled": true
   },
   "outputs": [
    {
     "data": {
      "text/plain": [
       "[('Sep-15', '100.2'),\n",
       " ('Sep-17', '104.3'),\n",
       " ('Sep-16', '101.5'),\n",
       " ('Sep-14', '100'),\n",
       " ('Sep-13', '98.7'),\n",
       " ('Sep-12', '96.4'),\n",
       " ('Sep-11', '94.5'),\n",
       " ('Sep-10', '90.4'),\n",
       " ('Sep-09', '88.3'),\n",
       " ('Sep-07', '83.5'),\n",
       " ('Sep-08', '87.5'),\n",
       " ('Sep-05', '79.9'),\n",
       " ('Oct-17', '104.4'),\n",
       " ('Sep-06', '81.9'),\n",
       " ('Oct-13', '98.8'),\n",
       " ('Oct-16', '101.6'),\n",
       " ('Oct-14', '100.1'),\n",
       " ('Oct-15', '100.3'),\n",
       " ('Oct-12', '96.8'),\n",
       " ('Oct-10', '90.6'),\n",
       " ('Oct-11', '94.5'),\n",
       " ('Oct-07', '83.8'),\n",
       " ('Oct-08', '87.3'),\n",
       " ('Oct-09', '88.4'),\n",
       " ('Oct-06', '82'),\n",
       " ('Nov-16', '101.8'),\n",
       " ('Nov-17', '104.7'),\n",
       " ('Oct-05', '80'),\n",
       " ('Nov-15', '100.3'),\n",
       " ('Nov-12', '97'),\n",
       " ('Nov-13', '98.8'),\n",
       " ('Nov-14', '99.9'),\n",
       " ('Nov-10', '90.9'),\n",
       " ('Nov-11', '94.7'),\n",
       " ('Nov-09', '88.6'),\n",
       " ('Nov-05', '80'),\n",
       " ('Nov-07', '84.1'),\n",
       " ('Nov-08', '87.3'),\n",
       " ('Nov-06', '82.2'),\n",
       " ('May-17', '103.5'),\n",
       " ('May-16', '100.8'),\n",
       " ('May-15', '100.1'),\n",
       " ('May-13', '98.2'),\n",
       " ('May-12', '95.9'),\n",
       " ('May-11', '93.5'),\n",
       " ('May-14', '99.6'),\n",
       " ('May-08', '86.1'),\n",
       " ('May-07', '83.3'),\n",
       " ('May-10', '90.1'),\n",
       " ('May-09', '87.9'),\n",
       " ('May-06', '81.3'),\n",
       " ('May-05', '79.4'),\n",
       " ('Mar-17', '102.7'),\n",
       " ('Mar-16', '100.4'),\n",
       " ('Mar-15', '99.6'),\n",
       " ('Mar-14', '99.3'),\n",
       " ('Mar-13', '97.8'),\n",
       " ('Mar-10', '89.4'),\n",
       " ('Mar-11', '92.6'),\n",
       " ('Mar-12', '95.4'),\n",
       " ('Mar-06', '80.4'),\n",
       " ('Mar-08', '84.9'),\n",
       " ('Mar-07', '82.8'),\n",
       " ('Mar-09', '87.3'),\n",
       " ('Mar-05', '78.8'),\n",
       " ('Jun-16', '101'),\n",
       " ('Jun-17', '103.5'),\n",
       " ('Jun-13', '98'),\n",
       " ('Jun-14', '99.8'),\n",
       " ('Jun-15', '100.1'),\n",
       " ('Jun-12', '95.6'),\n",
       " ('Jun-09', '88.1'),\n",
       " ('Jun-10', '90.2'),\n",
       " ('Jun-11', '93.5'),\n",
       " ('Jun-08', '86.6'),\n",
       " ('Jun-05', '79.4'),\n",
       " ('Jun-06', '81.5'),\n",
       " ('Jun-07', '83.5'),\n",
       " ('Jul-16', '100.9'),\n",
       " ('Jul-17', '103.5'),\n",
       " ('Jul-15', '100'),\n",
       " ('Jul-12', '95.7'),\n",
       " ('Jul-13', '98'),\n",
       " ('Jul-14', '99.6'),\n",
       " ('Jul-11', '93.5'),\n",
       " ('Jul-07', '83.1'),\n",
       " ('Jul-08', '86.6'),\n",
       " ('Jul-09', '88'),\n",
       " ('Jul-10', '90'),\n",
       " ('Jul-05', '79.5'),\n",
       " ('Jan-18', '104.5'),\n",
       " ('Jul-06', '81.5'),\n",
       " ('Jan-16', '99.9'),\n",
       " ('Jan-17', '101.8'),\n",
       " ('Jan-15', '99.2'),\n",
       " ('Jan-14', '98.7'),\n",
       " ('Jan-12', '94.7'),\n",
       " ('Jan-11', '91.8'),\n",
       " ('Jan-13', '97'),\n",
       " ('Jan-07', '82.1'),\n",
       " ('Jan-08', '84.1'),\n",
       " ('Jan-10', '88.8'),\n",
       " ('Jan-09', '86.6'),\n",
       " ('Jan-06', '80'),\n",
       " ('Jan-05', '78.3'),\n",
       " ('Feb-18', '104.9'),\n",
       " ('Feb-17', '102.4'),\n",
       " ('Feb-16', '100.1'),\n",
       " ('Feb-15', '99.5'),\n",
       " ('Apr-05', '79.1'),\n",
       " ('Apr-06', '80.9'),\n",
       " ('Apr-10', '89.9'),\n",
       " ('Apr-08', '85.6'),\n",
       " ('Apr-09', '87.5'),\n",
       " ('Apr-07', '83.1'),\n",
       " ('Apr-11', '93.3'),\n",
       " ('Apr-12', '95.9'),\n",
       " ('Apr-13', '98'),\n",
       " ('Apr-16', '100.6'),\n",
       " ('Apr-17', '103.2'),\n",
       " ('Apr-14', '99.6'),\n",
       " ('Apr-15', '99.9'),\n",
       " ('Aug-07', '83.4'),\n",
       " ('Aug-05', '79.7'),\n",
       " ('Aug-06', '81.8'),\n",
       " ('Aug-08', '87.1'),\n",
       " ('Aug-09', '88.3'),\n",
       " ('Aug-10', '90.4'),\n",
       " ('Aug-11', '93.9'),\n",
       " ('Aug-13', '98.4'),\n",
       " ('Aug-12', '96.1'),\n",
       " ('Aug-14', '99.9'),\n",
       " ('Dec-05', '80.3'),\n",
       " ('Aug-17', '104'),\n",
       " ('Aug-15', '100.3'),\n",
       " ('Aug-16', '101.2'),\n",
       " ('Dec-06', '82.6'),\n",
       " ('Dec-08', '87.1'),\n",
       " ('Dec-07', '84.5'),\n",
       " ('Dec-10', '91.7'),\n",
       " ('Dec-09', '88.9'),\n",
       " ('Dec-11', '95'),\n",
       " ('Dec-12', '97.3'),\n",
       " ('Dec-15', '100.4'),\n",
       " ('Dec-14', '99.9'),\n",
       " ('Dec-13', '99.2'),\n",
       " ('Dec-16', '102.2'),\n",
       " ('Feb-06', '80.2'),\n",
       " ('Feb-05', '78.5'),\n",
       " ('Dec-17', '105'),\n",
       " ('Feb-07', '82.4'),\n",
       " ('Feb-10', '89'),\n",
       " ('Feb-09', '87.2'),\n",
       " ('Feb-08', '84.6'),\n",
       " ('Feb-13', '97.5'),\n",
       " ('Feb-11', '92.3'),\n",
       " ('Feb-12', '95.2'),\n",
       " ('Feb-14', '99.1')]"
      ]
     },
     "execution_count": 53,
     "metadata": {},
     "output_type": "execute_result"
    }
   ],
   "source": [
    "data"
   ]
  },
  {
   "cell_type": "code",
   "execution_count": 52,
   "metadata": {},
   "outputs": [
    {
     "data": {
      "text/plain": [
       "Timestamp('1990-09-19 00:00:00')"
      ]
     },
     "execution_count": 52,
     "metadata": {},
     "output_type": "execute_result"
    }
   ],
   "source": [
    "pd.to_datetime('19-Sep-1990')"
   ]
  },
  {
   "cell_type": "code",
   "execution_count": 55,
   "metadata": {},
   "outputs": [],
   "source": [
    "import matplotlib.pyplot as plt\n",
    "\n",
    "plt.rcParams[\"figure.figsize\"] = (30,10)\n",
    "# plt.plot(y,x)\n",
    "# plt.show();"
   ]
  },
  {
   "cell_type": "code",
   "execution_count": 56,
   "metadata": {},
   "outputs": [],
   "source": [
    "r = requests.get('https://api.beta.ons.gov.uk/v1/code-lists')"
   ]
  },
  {
   "cell_type": "code",
   "execution_count": 71,
   "metadata": {},
   "outputs": [
    {
     "data": {
      "text/plain": [
       "dict_keys(['count', 'items', 'limit', 'offset', 'total_count'])"
      ]
     },
     "execution_count": 71,
     "metadata": {},
     "output_type": "execute_result"
    }
   ],
   "source": [
    "r.json().keys()"
   ]
  },
  {
   "cell_type": "code",
   "execution_count": 103,
   "metadata": {},
   "outputs": [
    {
     "data": {
      "text/plain": [
       "'aggregate'"
      ]
     },
     "execution_count": 103,
     "metadata": {},
     "output_type": "execute_result"
    }
   ],
   "source": [
    "r.json()['items'][0]['label']"
   ]
  },
  {
   "cell_type": "code",
   "execution_count": 104,
   "metadata": {
    "scrolled": true
   },
   "outputs": [
    {
     "data": {
      "text/plain": [
       "'aggregate'"
      ]
     },
     "execution_count": 104,
     "metadata": {},
     "output_type": "execute_result"
    },
    {
     "ename": "IndexError",
     "evalue": "list index out of range",
     "output_type": "error",
     "traceback": [
      "\u001B[0;31m---------------------------------------------------------------------------\u001B[0m",
      "\u001B[0;31mIndexError\u001B[0m                                Traceback (most recent call last)",
      "\u001B[0;32m<ipython-input-104-7116ba789a48>\u001B[0m in \u001B[0;36m<module>\u001B[0;34m\u001B[0m\n\u001B[1;32m      1\u001B[0m \u001B[0;32mfor\u001B[0m \u001B[0mi\u001B[0m \u001B[0;32min\u001B[0m \u001B[0mrange\u001B[0m\u001B[0;34m(\u001B[0m\u001B[0;36m81\u001B[0m\u001B[0;34m)\u001B[0m\u001B[0;34m:\u001B[0m\u001B[0;34m\u001B[0m\u001B[0;34m\u001B[0m\u001B[0m\n\u001B[0;32m----> 2\u001B[0;31m     \u001B[0mr\u001B[0m\u001B[0;34m.\u001B[0m\u001B[0mjson\u001B[0m\u001B[0;34m(\u001B[0m\u001B[0;34m)\u001B[0m\u001B[0;34m[\u001B[0m\u001B[0;34m'items'\u001B[0m\u001B[0;34m]\u001B[0m\u001B[0;34m[\u001B[0m\u001B[0mi\u001B[0m\u001B[0;34m]\u001B[0m\u001B[0;34m[\u001B[0m\u001B[0;34m'label'\u001B[0m\u001B[0;34m]\u001B[0m\u001B[0;34m\u001B[0m\u001B[0;34m\u001B[0m\u001B[0m\n\u001B[0m",
      "\u001B[0;31mIndexError\u001B[0m: list index out of range"
     ]
    }
   ],
   "source": [
    "for i in range(81):\n",
    "    r.json()['items'][i]['label']"
   ]
  },
  {
   "cell_type": "code",
   "execution_count": 101,
   "metadata": {},
   "outputs": [
    {
     "ename": "IndexError",
     "evalue": "list index out of range",
     "output_type": "error",
     "traceback": [
      "\u001B[0;31m---------------------------------------------------------------------------\u001B[0m",
      "\u001B[0;31mIndexError\u001B[0m                                Traceback (most recent call last)",
      "\u001B[0;32m<ipython-input-101-53b64cb85e5a>\u001B[0m in \u001B[0;36m<module>\u001B[0;34m\u001B[0m\n\u001B[0;32m----> 1\u001B[0;31m \u001B[0mr\u001B[0m\u001B[0;34m.\u001B[0m\u001B[0mjson\u001B[0m\u001B[0;34m(\u001B[0m\u001B[0;34m)\u001B[0m\u001B[0;34m[\u001B[0m\u001B[0;34m'items'\u001B[0m\u001B[0;34m]\u001B[0m\u001B[0;34m[\u001B[0m\u001B[0;36m4\u001B[0m\u001B[0;34m]\u001B[0m\u001B[0;34m\u001B[0m\u001B[0;34m\u001B[0m\u001B[0m\n\u001B[0m",
      "\u001B[0;31mIndexError\u001B[0m: list index out of range"
     ]
    }
   ],
   "source": [
    "r.json()['items'][4]"
   ]
  },
  {
   "cell_type": "code",
   "execution_count": 127,
   "metadata": {},
   "outputs": [],
   "source": [
    "r = requests.get('https://api.beta.ons.gov.uk/v1/datasets')"
   ]
  },
  {
   "cell_type": "code",
   "execution_count": 128,
   "metadata": {},
   "outputs": [
    {
     "data": {
      "text/plain": [
       "<Response [200]>"
      ]
     },
     "execution_count": 128,
     "metadata": {},
     "output_type": "execute_result"
    }
   ],
   "source": [
    "r"
   ]
  },
  {
   "cell_type": "code",
   "execution_count": 146,
   "metadata": {},
   "outputs": [
    {
     "data": {
      "text/plain": [
       "dict"
      ]
     },
     "execution_count": 146,
     "metadata": {},
     "output_type": "execute_result"
    }
   ],
   "source": [
    "type(r.json()['items'][2])"
   ]
  },
  {
   "cell_type": "code",
   "execution_count": 167,
   "metadata": {},
   "outputs": [
    {
     "data": {
      "text/plain": [
       "38"
      ]
     },
     "execution_count": 167,
     "metadata": {},
     "output_type": "execute_result"
    }
   ],
   "source": [
    "len(r.json()['items'])"
   ]
  },
  {
   "cell_type": "code",
   "execution_count": 165,
   "metadata": {},
   "outputs": [],
   "source": [
    "dataset_title = r.json()['items'][0]['title']\n",
    "dataset_description = r.json()['items'][0]['description']\n",
    "dataset_id = r.json()['items'][0]['id']"
   ]
  },
  {
   "cell_type": "code",
   "execution_count": 154,
   "metadata": {},
   "outputs": [
    {
     "data": {
      "text/plain": [
       "dict_keys(['contacts', 'description', 'id', 'keywords', 'license', 'links', 'methodologies', 'national_statistic', 'next_release', 'publications', 'publisher', 'qmi', 'related_datasets', 'release_frequency', 'state', 'theme', 'title', 'unit_of_measure'])"
      ]
     },
     "execution_count": 154,
     "metadata": {},
     "output_type": "execute_result"
    }
   ],
   "source": [
    "r.json()['items'][0].keys()"
   ]
  },
  {
   "cell_type": "code",
   "execution_count": 164,
   "metadata": {},
   "outputs": [
    {
     "data": {
      "text/plain": [
       "\"Consumer Prices Index including owner occupiers' housing costs (CPIH)\""
      ]
     },
     "execution_count": 164,
     "metadata": {},
     "output_type": "execute_result"
    }
   ],
   "source": []
  },
  {
   "cell_type": "code",
   "execution_count": 172,
   "metadata": {},
   "outputs": [],
   "source": [
    "import pandas as pd"
   ]
  },
  {
   "cell_type": "code",
   "execution_count": 174,
   "metadata": {},
   "outputs": [
    {
     "data": {
      "text/html": [
       "<style  type=\"text/css\" >\n",
       "</style><table id=\"T_2439a996_8d70_11ea_b513_acde48001122\" ><thead>    <tr>        <th class=\"blank level0\" ></th>        <th class=\"col_heading level0 col0\" >title</th>        <th class=\"col_heading level0 col1\" >description</th>        <th class=\"col_heading level0 col2\" >dataset_id</th>    </tr></thead><tbody>\n",
       "                <tr>\n",
       "                        <th id=\"T_2439a996_8d70_11ea_b513_acde48001122level0_row0\" class=\"row_heading level0 row0\" >0</th>\n",
       "                        <td id=\"T_2439a996_8d70_11ea_b513_acde48001122row0_col0\" class=\"data row0 col0\" >Consumer Prices Index including owner occupiers' housing costs (CPIH)</td>\n",
       "                        <td id=\"T_2439a996_8d70_11ea_b513_acde48001122row0_col1\" class=\"data row0 col1\" >CPIH is the most comprehensive measure of inflation. It extends CPI to include a measure of the costs associated with owning, maintaining and living in one's own home, known as owner occupiers' housing costs (OOH), along with council tax. This dataset provides CPIH time series (2005 to latest published month), allowing users to customise their own selection, view or download.</td>\n",
       "                        <td id=\"T_2439a996_8d70_11ea_b513_acde48001122row0_col2\" class=\"data row0 col2\" >cpih01</td>\n",
       "            </tr>\n",
       "            <tr>\n",
       "                        <th id=\"T_2439a996_8d70_11ea_b513_acde48001122level0_row1\" class=\"row_heading level0 row1\" >1</th>\n",
       "                        <td id=\"T_2439a996_8d70_11ea_b513_acde48001122row1_col0\" class=\"data row1 col0\" >Population Estimates for UK, England and Wales, Scotland and Northern Ireland</td>\n",
       "                        <td id=\"T_2439a996_8d70_11ea_b513_acde48001122row1_col1\" class=\"data row1 col1\" >Estimates of the usual resident population for the UK as at 30 June of the reference year. Provided by administrative area, single year of age and sex.</td>\n",
       "                        <td id=\"T_2439a996_8d70_11ea_b513_acde48001122row1_col2\" class=\"data row1 col2\" >mid-year-pop-est</td>\n",
       "            </tr>\n",
       "            <tr>\n",
       "                        <th id=\"T_2439a996_8d70_11ea_b513_acde48001122level0_row2\" class=\"row_heading level0 row2\" >2</th>\n",
       "                        <td id=\"T_2439a996_8d70_11ea_b513_acde48001122row2_col0\" class=\"data row2 col0\" >Annual summary of hours worked, place of work by Local Authority</td>\n",
       "                        <td id=\"T_2439a996_8d70_11ea_b513_acde48001122row2_col1\" class=\"data row2 col1\" >Estimates of paid hours worked for UK employees by gender and full/part-time working by work based Region to Local Authority level.</td>\n",
       "                        <td id=\"T_2439a996_8d70_11ea_b513_acde48001122row2_col2\" class=\"data row2 col2\" >ashe-table-7-hours</td>\n",
       "            </tr>\n",
       "            <tr>\n",
       "                        <th id=\"T_2439a996_8d70_11ea_b513_acde48001122level0_row3\" class=\"row_heading level0 row3\" >3</th>\n",
       "                        <td id=\"T_2439a996_8d70_11ea_b513_acde48001122row3_col0\" class=\"data row3 col0\" >Annual summary of earnings, place of work by Local Authority</td>\n",
       "                        <td id=\"T_2439a996_8d70_11ea_b513_acde48001122row3_col1\" class=\"data row3 col1\" >Estimates of weekly, hourly and annual earnings for UK employees by gender and full/part-time working by work based Region to Local Authority level.</td>\n",
       "                        <td id=\"T_2439a996_8d70_11ea_b513_acde48001122row3_col2\" class=\"data row3 col2\" >ashe-table-7-earnings</td>\n",
       "            </tr>\n",
       "            <tr>\n",
       "                        <th id=\"T_2439a996_8d70_11ea_b513_acde48001122level0_row4\" class=\"row_heading level0 row4\" >4</th>\n",
       "                        <td id=\"T_2439a996_8d70_11ea_b513_acde48001122row4_col0\" class=\"data row4 col0\" >Annual summary of hours worked, place of residence by Local Authority</td>\n",
       "                        <td id=\"T_2439a996_8d70_11ea_b513_acde48001122row4_col1\" class=\"data row4 col1\" >Estimates of paid hours worked for UK employees by gender and full/part-time working by home based Region to Local Authority level.</td>\n",
       "                        <td id=\"T_2439a996_8d70_11ea_b513_acde48001122row4_col2\" class=\"data row4 col2\" >ashe-table-8-hours</td>\n",
       "            </tr>\n",
       "            <tr>\n",
       "                        <th id=\"T_2439a996_8d70_11ea_b513_acde48001122level0_row5\" class=\"row_heading level0 row5\" >5</th>\n",
       "                        <td id=\"T_2439a996_8d70_11ea_b513_acde48001122row5_col0\" class=\"data row5 col0\" >Annual summary of earnings, place of residence by Local Authority</td>\n",
       "                        <td id=\"T_2439a996_8d70_11ea_b513_acde48001122row5_col1\" class=\"data row5 col1\" >Estimates of weekly, hourly and annual earnings for UK employees by gender and full/part-time working by home based Region to Local Authority level.</td>\n",
       "                        <td id=\"T_2439a996_8d70_11ea_b513_acde48001122row5_col2\" class=\"data row5 col2\" >ashe-table-8-earnings</td>\n",
       "            </tr>\n",
       "            <tr>\n",
       "                        <th id=\"T_2439a996_8d70_11ea_b513_acde48001122level0_row6\" class=\"row_heading level0 row6\" >6</th>\n",
       "                        <td id=\"T_2439a996_8d70_11ea_b513_acde48001122row6_col0\" class=\"data row6 col0\" >Occupational Pension Schemes Survey, Rates</td>\n",
       "                        <td id=\"T_2439a996_8d70_11ea_b513_acde48001122row6_col1\" class=\"data row6 col1\" >The nature of occupational pension provision in the UK providing summary data on the rates of contributions paid</td>\n",
       "                        <td id=\"T_2439a996_8d70_11ea_b513_acde48001122row6_col2\" class=\"data row6 col2\" >opss-rates</td>\n",
       "            </tr>\n",
       "            <tr>\n",
       "                        <th id=\"T_2439a996_8d70_11ea_b513_acde48001122level0_row7\" class=\"row_heading level0 row7\" >7</th>\n",
       "                        <td id=\"T_2439a996_8d70_11ea_b513_acde48001122row7_col0\" class=\"data row7 col0\" >Occupational Pension Schemes Survey, Membership</td>\n",
       "                        <td id=\"T_2439a996_8d70_11ea_b513_acde48001122row7_col1\" class=\"data row7 col1\" >The nature of occupational pension provision in the UK providing summary data on the membership of schemes</td>\n",
       "                        <td id=\"T_2439a996_8d70_11ea_b513_acde48001122row7_col2\" class=\"data row7 col2\" >opss-membership</td>\n",
       "            </tr>\n",
       "            <tr>\n",
       "                        <th id=\"T_2439a996_8d70_11ea_b513_acde48001122level0_row8\" class=\"row_heading level0 row8\" >8</th>\n",
       "                        <td id=\"T_2439a996_8d70_11ea_b513_acde48001122row8_col0\" class=\"data row8 col0\" >Personal well-being estimates</td>\n",
       "                        <td id=\"T_2439a996_8d70_11ea_b513_acde48001122row8_col1\" class=\"data row8 col1\" >Estimates of life satisfaction, worthwhile, happiness and anxiety in the UK for the years ending March 2012 to September 2018.</td>\n",
       "                        <td id=\"T_2439a996_8d70_11ea_b513_acde48001122row8_col2\" class=\"data row8 col2\" >wellbeing-year-ending</td>\n",
       "            </tr>\n",
       "            <tr>\n",
       "                        <th id=\"T_2439a996_8d70_11ea_b513_acde48001122level0_row9\" class=\"row_heading level0 row9\" >9</th>\n",
       "                        <td id=\"T_2439a996_8d70_11ea_b513_acde48001122row9_col0\" class=\"data row9 col0\" >Personal well-being estimates by local authority</td>\n",
       "                        <td id=\"T_2439a996_8d70_11ea_b513_acde48001122row9_col1\" class=\"data row9 col1\" >Estimates of life satisfaction, worthwhile, happiness and anxiety at the UK, country and local authority level for the years ending March 2012 to March 2018</td>\n",
       "                        <td id=\"T_2439a996_8d70_11ea_b513_acde48001122row9_col2\" class=\"data row9 col2\" >wellbeing-local-authority</td>\n",
       "            </tr>\n",
       "            <tr>\n",
       "                        <th id=\"T_2439a996_8d70_11ea_b513_acde48001122level0_row10\" class=\"row_heading level0 row10\" >10</th>\n",
       "                        <td id=\"T_2439a996_8d70_11ea_b513_acde48001122row10_col0\" class=\"data row10 col0\" >UK trade: country by commodity</td>\n",
       "                        <td id=\"T_2439a996_8d70_11ea_b513_acde48001122row10_col1\" class=\"data row10 col1\" >Country by commodity data on the UK's trade in goods, including trade by all countries and selected commodities, exports and imports, non seasonally adjusted.</td>\n",
       "                        <td id=\"T_2439a996_8d70_11ea_b513_acde48001122row10_col2\" class=\"data row10 col2\" >trade</td>\n",
       "            </tr>\n",
       "            <tr>\n",
       "                        <th id=\"T_2439a996_8d70_11ea_b513_acde48001122level0_row11\" class=\"row_heading level0 row11\" >11</th>\n",
       "                        <td id=\"T_2439a996_8d70_11ea_b513_acde48001122row11_col0\" class=\"data row11 col0\" >Health state life expectancy at birth and at age 65 by local areas, UK</td>\n",
       "                        <td id=\"T_2439a996_8d70_11ea_b513_acde48001122row11_col1\" class=\"data row11 col1\" >Life expectancy, healthy life expectancy and disability-free life expectancy – at birth and age 65 by sex for local areas in the UK, from 2013-2015 to 2015-2017.</td>\n",
       "                        <td id=\"T_2439a996_8d70_11ea_b513_acde48001122row11_col2\" class=\"data row11 col2\" >life-expectancy-local-authority</td>\n",
       "            </tr>\n",
       "            <tr>\n",
       "                        <th id=\"T_2439a996_8d70_11ea_b513_acde48001122level0_row12\" class=\"row_heading level0 row12\" >12</th>\n",
       "                        <td id=\"T_2439a996_8d70_11ea_b513_acde48001122row12_col0\" class=\"data row12 col0\" >Suicide registrations in England and Wales by local authority</td>\n",
       "                        <td id=\"T_2439a996_8d70_11ea_b513_acde48001122row12_col1\" class=\"data row12 col1\" >Number of suicides by local authority in England and Wales, registered from 2002.</td>\n",
       "                        <td id=\"T_2439a996_8d70_11ea_b513_acde48001122row12_col2\" class=\"data row12 col2\" >suicides-in-the-uk</td>\n",
       "            </tr>\n",
       "            <tr>\n",
       "                        <th id=\"T_2439a996_8d70_11ea_b513_acde48001122level0_row13\" class=\"row_heading level0 row13\" >13</th>\n",
       "                        <td id=\"T_2439a996_8d70_11ea_b513_acde48001122row13_col0\" class=\"data row13 col0\" >Earnings and hours worked, place of work and residence by local authority: ASHE Tables 7 and 8 </td>\n",
       "                        <td id=\"T_2439a996_8d70_11ea_b513_acde48001122row13_col1\" class=\"data row13 col1\" >Allows you to produce customisable time series of XLS and CSV tables for key variables and measures from Annual Survey of Hours and Earnings (ASHE) Tables 7 & 8 down to local authority level.</td>\n",
       "                        <td id=\"T_2439a996_8d70_11ea_b513_acde48001122row13_col2\" class=\"data row13 col2\" >ashe-tables-7-and-8</td>\n",
       "            </tr>\n",
       "            <tr>\n",
       "                        <th id=\"T_2439a996_8d70_11ea_b513_acde48001122level0_row14\" class=\"row_heading level0 row14\" >14</th>\n",
       "                        <td id=\"T_2439a996_8d70_11ea_b513_acde48001122row14_col0\" class=\"data row14 col0\" >Index of Private Housing Rental Prices</td>\n",
       "                        <td id=\"T_2439a996_8d70_11ea_b513_acde48001122row14_col1\" class=\"data row14 col1\" >An experimental price index tracking the prices paid for renting property from private landlords in the United Kingdom</td>\n",
       "                        <td id=\"T_2439a996_8d70_11ea_b513_acde48001122row14_col2\" class=\"data row14 col2\" >index-private-housing-rental-prices</td>\n",
       "            </tr>\n",
       "            <tr>\n",
       "                        <th id=\"T_2439a996_8d70_11ea_b513_acde48001122level0_row15\" class=\"row_heading level0 row15\" >15</th>\n",
       "                        <td id=\"T_2439a996_8d70_11ea_b513_acde48001122row15_col0\" class=\"data row15 col0\" >Earnings and hours worked, place of work and place of residence by Parliamentary constituency: ASHE Tables 9 and 10</td>\n",
       "                        <td id=\"T_2439a996_8d70_11ea_b513_acde48001122row15_col1\" class=\"data row15 col1\" >Annual estimates of paid hours worked and earnings for UK employees by sex, and full-time and part-time, by home and work-based Parliamentary constituency</td>\n",
       "                        <td id=\"T_2439a996_8d70_11ea_b513_acde48001122row15_col2\" class=\"data row15 col2\" >ashe-tables-9-and-10</td>\n",
       "            </tr>\n",
       "            <tr>\n",
       "                        <th id=\"T_2439a996_8d70_11ea_b513_acde48001122level0_row16\" class=\"row_heading level0 row16\" >16</th>\n",
       "                        <td id=\"T_2439a996_8d70_11ea_b513_acde48001122row16_col0\" class=\"data row16 col0\" >Earnings and Hours Worked, Work and Residence-Based Travel to Work Area: ASHE Tables 11 and 12</td>\n",
       "                        <td id=\"T_2439a996_8d70_11ea_b513_acde48001122row16_col1\" class=\"data row16 col1\" >Annual estimates of paid hours worked and earnings for UK employees by sex, and full-time and part-time, by home-based and work-based travel to work area.</td>\n",
       "                        <td id=\"T_2439a996_8d70_11ea_b513_acde48001122row16_col2\" class=\"data row16 col2\" >ashe-tables-11-and-12</td>\n",
       "            </tr>\n",
       "            <tr>\n",
       "                        <th id=\"T_2439a996_8d70_11ea_b513_acde48001122level0_row17\" class=\"row_heading level0 row17\" >17</th>\n",
       "                        <td id=\"T_2439a996_8d70_11ea_b513_acde48001122row17_col0\" class=\"data row17 col0\" >Earnings and Hours Worked, UK Region by Industry by Two-Digit SIC: ASHE Table 5</td>\n",
       "                        <td id=\"T_2439a996_8d70_11ea_b513_acde48001122row17_col1\" class=\"data row17 col1\" >Annual estimates of paid hours worked and earnings for UK employees by sex, and full-time and part-time, by region, and public and private sector, and non-profit bodies and mutual associations</td>\n",
       "                        <td id=\"T_2439a996_8d70_11ea_b513_acde48001122row17_col2\" class=\"data row17 col2\" >ashe-table-5</td>\n",
       "            </tr>\n",
       "            <tr>\n",
       "                        <th id=\"T_2439a996_8d70_11ea_b513_acde48001122level0_row18\" class=\"row_heading level0 row18\" >18</th>\n",
       "                        <td id=\"T_2439a996_8d70_11ea_b513_acde48001122row18_col0\" class=\"data row18 col0\" >UK labour market</td>\n",
       "                        <td id=\"T_2439a996_8d70_11ea_b513_acde48001122row18_col1\" class=\"data row18 col1\" >The LFS is a data source compiled from a survey of the UK population. It uses internationally recognised definitions of employment, unemployment and economic activity. It also captures other personal characteristics of household members over the age of 16 such as occupation, education and training. The LFS reflects only a sample of the total population. All cases are therefore weighted on the basis of sub-national population totals by age and sex to give estimates for the entire UK household population.</td>\n",
       "                        <td id=\"T_2439a996_8d70_11ea_b513_acde48001122row18_col2\" class=\"data row18 col2\" >labour-market</td>\n",
       "            </tr>\n",
       "            <tr>\n",
       "                        <th id=\"T_2439a996_8d70_11ea_b513_acde48001122level0_row19\" class=\"row_heading level0 row19\" >19</th>\n",
       "                        <td id=\"T_2439a996_8d70_11ea_b513_acde48001122row19_col0\" class=\"data row19 col0\" >Quarterly GDP for England, Wales and the English regions</td>\n",
       "                        <td id=\"T_2439a996_8d70_11ea_b513_acde48001122row19_col1\" class=\"data row19 col1\" >Quarterly economic activity within England, Wales and the nine English regions (North East, North West, Yorkshire and The Humber, East Midlands, West Midlands, East of England, London, South East, South West).</td>\n",
       "                        <td id=\"T_2439a996_8d70_11ea_b513_acde48001122row19_col2\" class=\"data row19 col2\" >regional-gdp-by-quarter</td>\n",
       "            </tr>\n",
       "            <tr>\n",
       "                        <th id=\"T_2439a996_8d70_11ea_b513_acde48001122level0_row20\" class=\"row_heading level0 row20\" >20</th>\n",
       "                        <td id=\"T_2439a996_8d70_11ea_b513_acde48001122row20_col0\" class=\"data row20 col0\" >Annual GDP for England, Wales and the English regions</td>\n",
       "                        <td id=\"T_2439a996_8d70_11ea_b513_acde48001122row20_col1\" class=\"data row20 col1\" >Annual economic activity within England, Wales and the nine English regions (North East, North West, Yorkshire and the Humber, East Midlands, West Midlands, East of England, Greater London, South East, South West).</td>\n",
       "                        <td id=\"T_2439a996_8d70_11ea_b513_acde48001122row20_col2\" class=\"data row20 col2\" >regional-gdp-by-year</td>\n",
       "            </tr>\n",
       "            <tr>\n",
       "                        <th id=\"T_2439a996_8d70_11ea_b513_acde48001122level0_row21\" class=\"row_heading level0 row21\" >21</th>\n",
       "                        <td id=\"T_2439a996_8d70_11ea_b513_acde48001122row21_col0\" class=\"data row21 col0\" >Children's Well-being Measures</td>\n",
       "                        <td id=\"T_2439a996_8d70_11ea_b513_acde48001122row21_col1\" class=\"data row21 col1\" >How children aged 0 to 15 years in the UK are coping in a range of areas that matter to their quality of life, reflecting the circumstances of their lives and their own perspectives.\n",
       "\n",
       "This is a subset of the children's well-being indicators. For the full dataset, please see 'Children's well-being and social relationships, UK: 2018' in the 'Related datasets' section.</td>\n",
       "                        <td id=\"T_2439a996_8d70_11ea_b513_acde48001122row21_col2\" class=\"data row21 col2\" >childrens-wellbeing</td>\n",
       "            </tr>\n",
       "            <tr>\n",
       "                        <th id=\"T_2439a996_8d70_11ea_b513_acde48001122level0_row22\" class=\"row_heading level0 row22\" >22</th>\n",
       "                        <td id=\"T_2439a996_8d70_11ea_b513_acde48001122row22_col0\" class=\"data row22 col0\" >Generational income: The effects of taxes and benefits</td>\n",
       "                        <td id=\"T_2439a996_8d70_11ea_b513_acde48001122row22_col1\" class=\"data row22 col1\" >The effects of direct and indirect taxation and benefits received in cash or kind on household income, across the generations and by age.\n",
       "\n",
       "This data is estimated by combining multiple years of the Living Costs and Food Survey, from 1978 to financial year ending March 2018, with the exception of 1979, 1981 and 1984. All financial amounts are adjusted for inflation using the Consumer Prices Index including owner occupiers’ housing costs (CPIH) excluding Council Tax, to their financial year ending March 2018. For example, the mean disposable income for those aged 35 and born in the 1970’s (£33,771) is estimated by taking the average (in real terms) of the household disposable income for these people across the combined dataset.</td>\n",
       "                        <td id=\"T_2439a996_8d70_11ea_b513_acde48001122row22_col2\" class=\"data row22 col2\" >generational-income</td>\n",
       "            </tr>\n",
       "            <tr>\n",
       "                        <th id=\"T_2439a996_8d70_11ea_b513_acde48001122level0_row23\" class=\"row_heading level0 row23\" >23</th>\n",
       "                        <td id=\"T_2439a996_8d70_11ea_b513_acde48001122row23_col0\" class=\"data row23 col0\" >Earnings and hours worked, care workers: ASHE Table 26</td>\n",
       "                        <td id=\"T_2439a996_8d70_11ea_b513_acde48001122row23_col1\" class=\"data row23 col1\" >Annual estimates of paid hours worked and earnings for UK employees by sex, and full-time and part-time, for care workers, home carers and senior care workers as defined in the Standard Occupational Classification.</td>\n",
       "                        <td id=\"T_2439a996_8d70_11ea_b513_acde48001122row23_col2\" class=\"data row23 col2\" >ashe-tables-26</td>\n",
       "            </tr>\n",
       "            <tr>\n",
       "                        <th id=\"T_2439a996_8d70_11ea_b513_acde48001122level0_row24\" class=\"row_heading level0 row24\" >24</th>\n",
       "                        <td id=\"T_2439a996_8d70_11ea_b513_acde48001122row24_col0\" class=\"data row24 col0\" >Earnings and hours worked, UK region by public and private sector: ASHE Table 25</td>\n",
       "                        <td id=\"T_2439a996_8d70_11ea_b513_acde48001122row24_col1\" class=\"data row24 col1\" >Annual estimates of paid hours worked and earnings for UK employees by sex, and full-time and part-time, by region, and public and private sector, and non-profit bodies and mutual associations.</td>\n",
       "                        <td id=\"T_2439a996_8d70_11ea_b513_acde48001122row24_col2\" class=\"data row24 col2\" >ashe-tables-25</td>\n",
       "            </tr>\n",
       "            <tr>\n",
       "                        <th id=\"T_2439a996_8d70_11ea_b513_acde48001122level0_row25\" class=\"row_heading level0 row25\" >25</th>\n",
       "                        <td id=\"T_2439a996_8d70_11ea_b513_acde48001122row25_col0\" class=\"data row25 col0\" >Earnings and hours worked, region by occupation by two-digit SOC: ASHE Table 3</td>\n",
       "                        <td id=\"T_2439a996_8d70_11ea_b513_acde48001122row25_col1\" class=\"data row25 col1\" >Annual estimates of paid hours worked and earnings for UK employees by sex, and full-time and part-time, by region and two-digit Standard Occupational Classification 2010.\n",
       "</td>\n",
       "                        <td id=\"T_2439a996_8d70_11ea_b513_acde48001122row25_col2\" class=\"data row25 col2\" >ashe-tables-3</td>\n",
       "            </tr>\n",
       "            <tr>\n",
       "                        <th id=\"T_2439a996_8d70_11ea_b513_acde48001122level0_row26\" class=\"row_heading level0 row26\" >26</th>\n",
       "                        <td id=\"T_2439a996_8d70_11ea_b513_acde48001122row26_col0\" class=\"data row26 col0\" >Earnings and hours worked, age group by occupation by two-digit SOC: ASHE Table 20</td>\n",
       "                        <td id=\"T_2439a996_8d70_11ea_b513_acde48001122row26_col1\" class=\"data row26 col1\" >Annual estimates of paid hours worked and earnings for UK employees by sex, and full-time and part-time, by age group and two-digit Standard Occupational Classification 2010.</td>\n",
       "                        <td id=\"T_2439a996_8d70_11ea_b513_acde48001122row26_col2\" class=\"data row26 col2\" >ashe-tables-20</td>\n",
       "            </tr>\n",
       "            <tr>\n",
       "                        <th id=\"T_2439a996_8d70_11ea_b513_acde48001122level0_row27\" class=\"row_heading level0 row27\" >27</th>\n",
       "                        <td id=\"T_2439a996_8d70_11ea_b513_acde48001122row27_col0\" class=\"data row27 col0\" >Earnings and hours worked, place of work and place of residence by local enterprise partnerships: ASHE Tables 27 and 28</td>\n",
       "                        <td id=\"T_2439a996_8d70_11ea_b513_acde48001122row27_col1\" class=\"data row27 col1\" >Annual estimates of paid hours worked and earnings for UK employees by sex, and full-time and part-time, by work-based and home-based local enterprise partnerships.</td>\n",
       "                        <td id=\"T_2439a996_8d70_11ea_b513_acde48001122row27_col2\" class=\"data row27 col2\" >ashe-tables-27-and-28</td>\n",
       "            </tr>\n",
       "            <tr>\n",
       "                        <th id=\"T_2439a996_8d70_11ea_b513_acde48001122level0_row28\" class=\"row_heading level0 row28\" >28</th>\n",
       "                        <td id=\"T_2439a996_8d70_11ea_b513_acde48001122row28_col0\" class=\"data row28 col0\" >Quarterly personal well-being estimates</td>\n",
       "                        <td id=\"T_2439a996_8d70_11ea_b513_acde48001122row28_col1\" class=\"data row28 col1\" >Seasonally adjusted quarterly estimates of life satisfaction, worthwhile, happiness and anxiety in the UK.</td>\n",
       "                        <td id=\"T_2439a996_8d70_11ea_b513_acde48001122row28_col2\" class=\"data row28 col2\" >wellbeing-quarterly</td>\n",
       "            </tr>\n",
       "            <tr>\n",
       "                        <th id=\"T_2439a996_8d70_11ea_b513_acde48001122level0_row29\" class=\"row_heading level0 row29\" >29</th>\n",
       "                        <td id=\"T_2439a996_8d70_11ea_b513_acde48001122row29_col0\" class=\"data row29 col0\" >Local authority ageing statistics, based on latest population estimates</td>\n",
       "                        <td id=\"T_2439a996_8d70_11ea_b513_acde48001122row29_col1\" class=\"data row29 col1\" >Indicators included have been derived from the published 2018 mid-year population estimates for the UK, England, Wales, Scotland and Northern Ireland. These are percentages of the population aged 65 years and over, 85 years and over, 0 to 15 years, 16 to 64 years, 16 years to State Pension age, State Pension age and over, median age and the Old Age Dependency Ratio (the number of people of State Pension age per 1000 of those aged 16 years to below State Pension age).\n",
       "\n",
       "This dataset has been produced by the Ageing Analysis Team for inclusion in a subnational ageing tool, which will be published in early summer 2020. The tool will enable users to compare latest and projected measures of ageing for up to four different areas through selection on a map or from a drop-down menu.</td>\n",
       "                        <td id=\"T_2439a996_8d70_11ea_b513_acde48001122row29_col2\" class=\"data row29 col2\" >ageing-population-estimates</td>\n",
       "            </tr>\n",
       "            <tr>\n",
       "                        <th id=\"T_2439a996_8d70_11ea_b513_acde48001122level0_row30\" class=\"row_heading level0 row30\" >30</th>\n",
       "                        <td id=\"T_2439a996_8d70_11ea_b513_acde48001122row30_col0\" class=\"data row30 col0\" >Local authority ageing statistics, sex ratios for people aged 65 and over and 85 and over</td>\n",
       "                        <td id=\"T_2439a996_8d70_11ea_b513_acde48001122row30_col1\" class=\"data row30 col1\" >Both indicators included have been derived from the published 2018 mid-year population estimates for the UK, England, Wales, Scotland and Northern Ireland. These are sex ratios for people aged 65 years and over and 85 years and over. A sex ratio shows the number of males in the population for every 100 females.\n",
       "\n",
       "This dataset has been produced by the Ageing Analysis Team for inclusion in a subnational ageing tool, which will be published in early summer 2020. The tool will enable users to compare latest and projected measures of ageing for up to four different areas through selection on a map or from a drop-down menu.\n",
       "</td>\n",
       "                        <td id=\"T_2439a996_8d70_11ea_b513_acde48001122row30_col2\" class=\"data row30 col2\" >older-people-sex-ratios</td>\n",
       "            </tr>\n",
       "            <tr>\n",
       "                        <th id=\"T_2439a996_8d70_11ea_b513_acde48001122level0_row31\" class=\"row_heading level0 row31\" >31</th>\n",
       "                        <td id=\"T_2439a996_8d70_11ea_b513_acde48001122row31_col0\" class=\"data row31 col0\" >Local authority ageing statistics, net internal migration people aged 65 and over and 85 and over</td>\n",
       "                        <td id=\"T_2439a996_8d70_11ea_b513_acde48001122row31_col1\" class=\"data row31 col1\" >Figures presented show the movement of older people between local authorities and regions. Both indicators included in this dataset have been derived from the published 2018 internal migration dataset for England and Wales. The numbers presented are the net number of people aged 65 years and over and 85 years and over entering/ leaving the local authority or region in the 12-month period stated.\n",
       "\n",
       "This dataset has been produced by the Ageing Analysis Team for inclusion in a subnational ageing tool, which will be published in early summer 2020. The tool will be interactive, and users will be able to compare latest and projected measures of ageing for up to four different areas through selection on a map or from a drop-down menu.</td>\n",
       "                        <td id=\"T_2439a996_8d70_11ea_b513_acde48001122row31_col2\" class=\"data row31 col2\" >older-people-net-internal-migration</td>\n",
       "            </tr>\n",
       "            <tr>\n",
       "                        <th id=\"T_2439a996_8d70_11ea_b513_acde48001122level0_row32\" class=\"row_heading level0 row32\" >32</th>\n",
       "                        <td id=\"T_2439a996_8d70_11ea_b513_acde48001122row32_col0\" class=\"data row32 col0\" >Local authority ageing statistics, older people economic activity</td>\n",
       "                        <td id=\"T_2439a996_8d70_11ea_b513_acde48001122row32_col1\" class=\"data row32 col1\" >Indicators included are economic activity and employment rates for those aged 50-64 years, by country, region and local authority. Both economic activity and employment rates are displayed as percentages. These have been calculated from the ONS Annual Population Survey and have been extracted from NOMIS.\n",
       "\n",
       "https://www.nomisweb.co.uk/\n",
       "\n",
       "This dataset has been produced by the Ageing Analysis Team for inclusion in a subnational ageing tool, which will be published in early summer 2020. The tool will be interactive, and users will be able to compare latest and projected measures of ageing for up to four different areas through selection on a map or from a drop-down menu. \n",
       "\n",
       "Note on update frequency: NOMIS provide quarterly updates on both indicators. For consistency with other indicators presented in the subnational ageing tool, these will be updated on an annual basis.</td>\n",
       "                        <td id=\"T_2439a996_8d70_11ea_b513_acde48001122row32_col2\" class=\"data row32 col2\" >older-people-economic-activity</td>\n",
       "            </tr>\n",
       "            <tr>\n",
       "                        <th id=\"T_2439a996_8d70_11ea_b513_acde48001122level0_row33\" class=\"row_heading level0 row33\" >33</th>\n",
       "                        <td id=\"T_2439a996_8d70_11ea_b513_acde48001122row33_col0\" class=\"data row33 col0\" >Expenditure on healthcare: UK Health Accounts</td>\n",
       "                        <td id=\"T_2439a996_8d70_11ea_b513_acde48001122row33_col1\" class=\"data row33 col1\" >Healthcare expenditure statistics, produced to the international definitions of the System of Health Accounts 2011.\n",
       "\n",
       "Subcategories may not sum to aggregates due to rounding.</td>\n",
       "                        <td id=\"T_2439a996_8d70_11ea_b513_acde48001122row33_col2\" class=\"data row33 col2\" >health-accounts</td>\n",
       "            </tr>\n",
       "            <tr>\n",
       "                        <th id=\"T_2439a996_8d70_11ea_b513_acde48001122level0_row34\" class=\"row_heading level0 row34\" >34</th>\n",
       "                        <td id=\"T_2439a996_8d70_11ea_b513_acde48001122row34_col0\" class=\"data row34 col0\" >Deaths registered weekly in England and Wales by age and sex: covid-19</td>\n",
       "                        <td id=\"T_2439a996_8d70_11ea_b513_acde48001122row34_col1\" class=\"data row34 col1\" >Provisional counts of the number of deaths registered in England and Wales, by age and sex, in the latest weeks for which data are available.</td>\n",
       "                        <td id=\"T_2439a996_8d70_11ea_b513_acde48001122row34_col2\" class=\"data row34 col2\" >weekly-deaths-age-sex</td>\n",
       "            </tr>\n",
       "            <tr>\n",
       "                        <th id=\"T_2439a996_8d70_11ea_b513_acde48001122level0_row35\" class=\"row_heading level0 row35\" >35</th>\n",
       "                        <td id=\"T_2439a996_8d70_11ea_b513_acde48001122row35_col0\" class=\"data row35 col0\" >Deaths registered weekly in England and Wales by region: covid-19</td>\n",
       "                        <td id=\"T_2439a996_8d70_11ea_b513_acde48001122row35_col1\" class=\"data row35 col1\" >Provisional counts of the number of deaths registered in England and Wales, by region, in the latest weeks for which data are available.</td>\n",
       "                        <td id=\"T_2439a996_8d70_11ea_b513_acde48001122row35_col2\" class=\"data row35 col2\" >weekly-deaths-region</td>\n",
       "            </tr>\n",
       "            <tr>\n",
       "                        <th id=\"T_2439a996_8d70_11ea_b513_acde48001122level0_row36\" class=\"row_heading level0 row36\" >36</th>\n",
       "                        <td id=\"T_2439a996_8d70_11ea_b513_acde48001122row36_col0\" class=\"data row36 col0\" >Death registrations and occurrences by health board and place of death</td>\n",
       "                        <td id=\"T_2439a996_8d70_11ea_b513_acde48001122row36_col1\" class=\"data row36 col1\" >Provisional counts of the number of deaths registered in Wales, by health board and place of death, in the latest weeks for which data are available.</td>\n",
       "                        <td id=\"T_2439a996_8d70_11ea_b513_acde48001122row36_col2\" class=\"data row36 col2\" >weekly-deaths-health-board</td>\n",
       "            </tr>\n",
       "            <tr>\n",
       "                        <th id=\"T_2439a996_8d70_11ea_b513_acde48001122level0_row37\" class=\"row_heading level0 row37\" >37</th>\n",
       "                        <td id=\"T_2439a996_8d70_11ea_b513_acde48001122row37_col0\" class=\"data row37 col0\" >Death registrations and occurrences by local authority and place of death</td>\n",
       "                        <td id=\"T_2439a996_8d70_11ea_b513_acde48001122row37_col1\" class=\"data row37 col1\" >Provisional counts of the number of deaths registered in England and Wales, including deaths involving the coronavirus (COVID-19), by local authority, health board and place of death in the latest weeks for which data are available.</td>\n",
       "                        <td id=\"T_2439a996_8d70_11ea_b513_acde48001122row37_col2\" class=\"data row37 col2\" >weekly-deaths-local-authority</td>\n",
       "            </tr>\n",
       "    </tbody></table>"
      ],
      "text/plain": [
       "<pandas.io.formats.style.Styler at 0x12957d1d0>"
      ]
     },
     "execution_count": 174,
     "metadata": {},
     "output_type": "execute_result"
    }
   ],
   "source": [
    "dataset_titles = []\n",
    "dataset_descriptions = []\n",
    "dataset_ids = []\n",
    "for i in range(len(r.json()['items'])):\n",
    "    dataset_titles.append(r.json()['items'][i]['title'])\n",
    "    dataset_descriptions.append(r.json()['items'][i]['description'])\n",
    "    dataset_ids.append(r.json()['items'][i]['id'])\n",
    "\n",
    "pd.DataFrame(data={'title': dataset_titles,\n",
    "                   'description': dataset_descriptions,\n",
    "                  'dataset_id': dataset_ids}).style"
   ]
  },
  {
   "cell_type": "markdown",
   "metadata": {},
   "source": [
    "# build one chart from the above datasets"
   ]
  },
  {
   "cell_type": "markdown",
   "metadata": {},
   "source": [
    "## find information about a dataset\n",
    "we need to know the following items to make a correct api call:\n",
    "* edition\n",
    "* version\n",
    "* time\n",
    "* aggregate \n",
    "* geography\n",
    "* dimension"
   ]
  },
  {
   "cell_type": "markdown",
   "metadata": {},
   "source": [
    "> This allows querying of a single observation/value by providing one option per dimension, but will also allow one of these dimensions to be a ‘wildcard’ and return all values for this dimension.\n",
    "\n",
    "`/datasets/{datasetId}/editions/{edition}/versions/{version}/observations?time={timeLabel}&geography={geographyID}&dimension3={dimension3ID}&dimension4={dimension4ID}...`"
   ]
  },
  {
   "cell_type": "code",
   "execution_count": null,
   "metadata": {},
   "outputs": [],
   "source": [
    "datasetId='cpih01'\n",
    "edition = 'time-series'\n",
    "version=4\n",
    "timeLabel='*'\n",
    "geographyID='K02000001' # K02000001 = United Kingdom\n",
    "aggregateID='cpih1dim1A0'"
   ]
  },
  {
   "cell_type": "code",
   "execution_count": 331,
   "metadata": {},
   "outputs": [],
   "source": [
    "def post(extension, is_ok=False):\n",
    "    r = requests.get(f'https://api.beta.ons.gov.uk/v1/' + extension)\n",
    "    if is_ok:\n",
    "        print(r)\n",
    "    return r.json()"
   ]
  },
  {
   "cell_type": "markdown",
   "metadata": {},
   "source": [
    "`/datasets/cpih01/editions/time-series/versions/6/observations?time=Oct-11&geography=K02000001&aggregate=cpih1dim1A0`"
   ]
  },
  {
   "cell_type": "markdown",
   "metadata": {},
   "source": [
    "### editions param"
   ]
  },
  {
   "cell_type": "code",
   "execution_count": 188,
   "metadata": {},
   "outputs": [
    {
     "name": "stdout",
     "output_type": "stream",
     "text": [
      "<Response [200]>\n",
      "\n"
     ]
    },
    {
     "data": {
      "text/plain": [
       "{'@context': 'https://cdn.ons.gov.uk/assets/json-ld/context.json',\n",
       " 'items': [{'edition': 'time-series',\n",
       "   'id': '1fb46b58-632d-4c20-bd45-39ab8ef8a9e8',\n",
       "   'links': {'dataset': {'href': 'https://api.beta.ons.gov.uk/v1/datasets/cpih01',\n",
       "     'id': 'cpih01'},\n",
       "    'latest_version': {'href': 'https://api.beta.ons.gov.uk/v1/datasets/cpih01/editions/time-series/versions/32',\n",
       "     'id': '32'},\n",
       "    'self': {'href': 'https://api.beta.ons.gov.uk/v1/datasets/cpih01/editions/time-series'},\n",
       "    'versions': {'href': 'https://api.beta.ons.gov.uk/v1/datasets/cpih01/editions/time-series/versions'}},\n",
       "   'state': 'published'}]}"
      ]
     },
     "execution_count": 188,
     "metadata": {},
     "output_type": "execute_result"
    },
    {
     "name": "stdout",
     "output_type": "stream",
     "text": [
      "<Response [200]>\n",
      "\n"
     ]
    },
    {
     "data": {
      "text/plain": [
       "'time-series'"
      ]
     },
     "execution_count": 188,
     "metadata": {},
     "output_type": "execute_result"
    }
   ],
   "source": [
    "post('/datasets/cpih01/editions')\n",
    "\n",
    "post('/datasets/cpih01/editions')['items'][0]['edition']"
   ]
  },
  {
   "cell_type": "code",
   "execution_count": 268,
   "metadata": {},
   "outputs": [
    {
     "data": {
      "text/plain": [
       "{'@context': 'https://cdn.ons.gov.uk/assets/json-ld/context.json',\n",
       " 'alerts': [],\n",
       " 'collection_id': 'cpih01-4d10292f25f90c364d3404f0b6f3aea11a4ea82bc1437edf7af03348d59d9fc8',\n",
       " 'dimensions': [{'description': 'Includes the complete available monthly time series for CPIH. Yearly and quarterly data are also available from the main ONS website.',\n",
       "   'href': 'https://api.beta.ons.gov.uk/v1/code-lists/time',\n",
       "   'id': 'time',\n",
       "   'links': {'code_list': {}, 'options': {}, 'version': {}},\n",
       "   'name': 'time'},\n",
       "  {'description': 'Provides data at national level for the United Kingdom only. No breakdown of this data to smaller areas is available.',\n",
       "   'href': 'https://api.beta.ons.gov.uk/v1/code-lists/uk-only',\n",
       "   'id': 'uk-only',\n",
       "   'links': {'code_list': {}, 'options': {}, 'version': {}},\n",
       "   'name': 'geography'},\n",
       "  {'description': 'The CPIH indices are categorised according to the international classification system for household consumption expenditures known as COICOP (Classification Of Individual Consumption According to Purpose). COICOP is a hierarchical classification system comprising of Divisions (COICOP2) e.g. 01 Food & non-alcoholic beverages, Groups (COICOP3) e.g. 01.1 Food, and Classes (COICOP4) e.g. 01.1.1 Bread and cereals. An additional level of detail was added to the COICOP classification on the 21 March 2017 (COICOP5) which is now the lowest published level.',\n",
       "   'href': 'https://api.beta.ons.gov.uk/v1/code-lists/cpih1dim1aggid',\n",
       "   'id': 'cpih1dim1aggid',\n",
       "   'label': 'Goods and services',\n",
       "   'links': {'code_list': {}, 'options': {}, 'version': {}},\n",
       "   'name': 'aggregate'}],\n",
       " 'downloads': {'csv': {'href': 'https://download.beta.ons.gov.uk/downloads/datasets/cpih01/editions/time-series/versions/10.csv',\n",
       "   'size': '2100493'},\n",
       "  'csvw': {'href': 'https://download.beta.ons.gov.uk/downloads/datasets/cpih01/editions/time-series/versions/10.csv-metadata.json',\n",
       "   'size': '2563'},\n",
       "  'xls': {'href': 'https://download.beta.ons.gov.uk/downloads/datasets/cpih01/editions/time-series/versions/10.xlsx',\n",
       "   'size': '115081'}},\n",
       " 'edition': 'time-series',\n",
       " 'id': 'd811231c-a2cf-4dbe-b4b5-f277f90cedf6',\n",
       " 'latest_changes': [],\n",
       " 'links': {'dataset': {'href': 'https://api.beta.ons.gov.uk/v1/datasets/cpih01',\n",
       "   'id': 'cpih01'},\n",
       "  'dimensions': {'href': 'https://api.beta.ons.gov.uk/v1/datasets/cpih01/editions/time-series/versions/10/dimensions'},\n",
       "  'edition': {'href': 'https://api.beta.ons.gov.uk/v1/datasets/cpih01/editions/time-series',\n",
       "   'id': 'time-series'},\n",
       "  'self': {'href': 'https://api.beta.ons.gov.uk/v1/datasets/cpih01/editions/time-series/versions/10'}},\n",
       " 'release_date': '2018-07-18T00:00:00.000Z',\n",
       " 'state': 'published',\n",
       " 'version': 10}"
      ]
     },
     "execution_count": 268,
     "metadata": {},
     "output_type": "execute_result"
    }
   ],
   "source": [
    "post('/datasets/cpih01/editions/time-series/versions/10')"
   ]
  },
  {
   "cell_type": "code",
   "execution_count": 270,
   "metadata": {},
   "outputs": [],
   "source": [
    "my_dict = post('/datasets/cpih01/editions/time-series/versions')['items'][3]\n",
    "mother_df = pd.DataFrame.from_dict(my_dict, orient='index').T"
   ]
  },
  {
   "cell_type": "code",
   "execution_count": 271,
   "metadata": {},
   "outputs": [],
   "source": [
    "for i in range(len(post('/datasets/cpih01/editions/time-series/versions')['items'])):\n",
    "    try:\n",
    "        my_dict = post('/datasets/cpih01/editions/time-series/versions')['items'][i+1]\n",
    "        df = pd.DataFrame.from_dict(my_dict, orient='index').T\n",
    "        mother_df = mother_df.append(df)\n",
    "    except:\n",
    "        pass\n"
   ]
  },
  {
   "cell_type": "code",
   "execution_count": 272,
   "metadata": {},
   "outputs": [
    {
     "data": {
      "text/html": [
       "<div>\n",
       "<style scoped>\n",
       "    .dataframe tbody tr th:only-of-type {\n",
       "        vertical-align: middle;\n",
       "    }\n",
       "\n",
       "    .dataframe tbody tr th {\n",
       "        vertical-align: top;\n",
       "    }\n",
       "\n",
       "    .dataframe thead th {\n",
       "        text-align: right;\n",
       "    }\n",
       "</style>\n",
       "<table border=\"1\" class=\"dataframe\">\n",
       "  <thead>\n",
       "    <tr style=\"text-align: right;\">\n",
       "      <th></th>\n",
       "      <th>collection_id</th>\n",
       "      <th>dimensions</th>\n",
       "      <th>downloads</th>\n",
       "      <th>edition</th>\n",
       "      <th>id</th>\n",
       "      <th>links</th>\n",
       "      <th>release_date</th>\n",
       "      <th>state</th>\n",
       "      <th>version</th>\n",
       "    </tr>\n",
       "  </thead>\n",
       "  <tbody>\n",
       "    <tr>\n",
       "      <th>0</th>\n",
       "      <td>12345</td>\n",
       "      <td>[{'description': 'Includes the complete availa...</td>\n",
       "      <td>{'csv': {'href': 'https://download.beta.ons.go...</td>\n",
       "      <td>time-series</td>\n",
       "      <td>f75c9f72-ae23-4271-a9f2-8ccca43b5b38</td>\n",
       "      <td>{'dataset': {'href': 'https://api.beta.ons.gov...</td>\n",
       "      <td>2018-02-13T00:00:00.000Z</td>\n",
       "      <td>published</td>\n",
       "      <td>4</td>\n",
       "    </tr>\n",
       "    <tr>\n",
       "      <th>0</th>\n",
       "      <td>12345</td>\n",
       "      <td>[{'description': 'Includes the complete availa...</td>\n",
       "      <td>{'csv': {'href': 'https://download.beta.ons.go...</td>\n",
       "      <td>time-series</td>\n",
       "      <td>bede15c1-52b5-4bb8-be6a-67fd60ef837f</td>\n",
       "      <td>{'dataset': {'href': 'https://api.beta.ons.gov...</td>\n",
       "      <td>2017-12-12T00:00:00.000Z</td>\n",
       "      <td>published</td>\n",
       "      <td>2</td>\n",
       "    </tr>\n",
       "    <tr>\n",
       "      <th>0</th>\n",
       "      <td>12345</td>\n",
       "      <td>[{'description': 'Includes the complete availa...</td>\n",
       "      <td>{'csv': {'href': 'https://download.beta.ons.go...</td>\n",
       "      <td>time-series</td>\n",
       "      <td>1cde4c8c-8dd3-49a3-8641-91e9309eded0</td>\n",
       "      <td>{'dataset': {'href': 'https://api.beta.ons.gov...</td>\n",
       "      <td>2018-01-16T00:00:00.000Z</td>\n",
       "      <td>published</td>\n",
       "      <td>3</td>\n",
       "    </tr>\n",
       "    <tr>\n",
       "      <th>0</th>\n",
       "      <td>12345</td>\n",
       "      <td>[{'description': 'Includes the complete availa...</td>\n",
       "      <td>{'csv': {'href': 'https://download.beta.ons.go...</td>\n",
       "      <td>time-series</td>\n",
       "      <td>f75c9f72-ae23-4271-a9f2-8ccca43b5b38</td>\n",
       "      <td>{'dataset': {'href': 'https://api.beta.ons.gov...</td>\n",
       "      <td>2018-02-13T00:00:00.000Z</td>\n",
       "      <td>published</td>\n",
       "      <td>4</td>\n",
       "    </tr>\n",
       "  </tbody>\n",
       "</table>\n",
       "</div>"
      ],
      "text/plain": [
       "  collection_id                                         dimensions                                          downloads      edition                                    id                                              links              release_date      state version\n",
       "0         12345  [{'description': 'Includes the complete availa...  {'csv': {'href': 'https://download.beta.ons.go...  time-series  f75c9f72-ae23-4271-a9f2-8ccca43b5b38  {'dataset': {'href': 'https://api.beta.ons.gov...  2018-02-13T00:00:00.000Z  published       4\n",
       "0         12345  [{'description': 'Includes the complete availa...  {'csv': {'href': 'https://download.beta.ons.go...  time-series  bede15c1-52b5-4bb8-be6a-67fd60ef837f  {'dataset': {'href': 'https://api.beta.ons.gov...  2017-12-12T00:00:00.000Z  published       2\n",
       "0         12345  [{'description': 'Includes the complete availa...  {'csv': {'href': 'https://download.beta.ons.go...  time-series  1cde4c8c-8dd3-49a3-8641-91e9309eded0  {'dataset': {'href': 'https://api.beta.ons.gov...  2018-01-16T00:00:00.000Z  published       3\n",
       "0         12345  [{'description': 'Includes the complete availa...  {'csv': {'href': 'https://download.beta.ons.go...  time-series  f75c9f72-ae23-4271-a9f2-8ccca43b5b38  {'dataset': {'href': 'https://api.beta.ons.gov...  2018-02-13T00:00:00.000Z  published       4"
      ]
     },
     "execution_count": 272,
     "metadata": {},
     "output_type": "execute_result"
    }
   ],
   "source": [
    "mother_df"
   ]
  },
  {
   "cell_type": "markdown",
   "metadata": {},
   "source": [
    "* find out how many versions there are\n",
    "* for each version, grab all the dimensions\n",
    "* select a trivial day in the time slot so we can see all the "
   ]
  },
  {
   "cell_type": "code",
   "execution_count": 353,
   "metadata": {},
   "outputs": [
    {
     "name": "stdout",
     "output_type": "stream",
     "text": [
      "<Response [404]>\n"
     ]
    },
    {
     "ename": "JSONDecodeError",
     "evalue": "Extra data: line 1 column 5 (char 4)",
     "output_type": "error",
     "traceback": [
      "\u001B[0;31m---------------------------------------------------------------------------\u001B[0m",
      "\u001B[0;31mJSONDecodeError\u001B[0m                           Traceback (most recent call last)",
      "\u001B[0;32m<ipython-input-353-e3e34d14983d>\u001B[0m in \u001B[0;36m<module>\u001B[0;34m\u001B[0m\n\u001B[0;32m----> 1\u001B[0;31m \u001B[0mpost\u001B[0m\u001B[0;34m(\u001B[0m\u001B[0;34m'/code-lists/cpih01/'\u001B[0m\u001B[0;34m,\u001B[0m \u001B[0mis_ok\u001B[0m\u001B[0;34m=\u001B[0m\u001B[0;32mTrue\u001B[0m\u001B[0;34m)\u001B[0m\u001B[0;34m\u001B[0m\u001B[0;34m\u001B[0m\u001B[0m\n\u001B[0m",
      "\u001B[0;32m<ipython-input-331-cb9e48f7f621>\u001B[0m in \u001B[0;36mpost\u001B[0;34m(extension, is_ok)\u001B[0m\n\u001B[1;32m      3\u001B[0m     \u001B[0;32mif\u001B[0m \u001B[0mis_ok\u001B[0m\u001B[0;34m:\u001B[0m\u001B[0;34m\u001B[0m\u001B[0;34m\u001B[0m\u001B[0m\n\u001B[1;32m      4\u001B[0m         \u001B[0mprint\u001B[0m\u001B[0;34m(\u001B[0m\u001B[0mr\u001B[0m\u001B[0;34m)\u001B[0m\u001B[0;34m\u001B[0m\u001B[0;34m\u001B[0m\u001B[0m\n\u001B[0;32m----> 5\u001B[0;31m     \u001B[0;32mreturn\u001B[0m \u001B[0mr\u001B[0m\u001B[0;34m.\u001B[0m\u001B[0mjson\u001B[0m\u001B[0;34m(\u001B[0m\u001B[0;34m)\u001B[0m\u001B[0;34m\u001B[0m\u001B[0;34m\u001B[0m\u001B[0m\n\u001B[0m",
      "\u001B[0;32m~/opt/anaconda3/envs/flaskenv/lib/python3.7/site-packages/requests/models.py\u001B[0m in \u001B[0;36mjson\u001B[0;34m(self, **kwargs)\u001B[0m\n\u001B[1;32m    896\u001B[0m                     \u001B[0;31m# used.\u001B[0m\u001B[0;34m\u001B[0m\u001B[0;34m\u001B[0m\u001B[0;34m\u001B[0m\u001B[0m\n\u001B[1;32m    897\u001B[0m                     \u001B[0;32mpass\u001B[0m\u001B[0;34m\u001B[0m\u001B[0;34m\u001B[0m\u001B[0m\n\u001B[0;32m--> 898\u001B[0;31m         \u001B[0;32mreturn\u001B[0m \u001B[0mcomplexjson\u001B[0m\u001B[0;34m.\u001B[0m\u001B[0mloads\u001B[0m\u001B[0;34m(\u001B[0m\u001B[0mself\u001B[0m\u001B[0;34m.\u001B[0m\u001B[0mtext\u001B[0m\u001B[0;34m,\u001B[0m \u001B[0;34m**\u001B[0m\u001B[0mkwargs\u001B[0m\u001B[0;34m)\u001B[0m\u001B[0;34m\u001B[0m\u001B[0;34m\u001B[0m\u001B[0m\n\u001B[0m\u001B[1;32m    899\u001B[0m \u001B[0;34m\u001B[0m\u001B[0m\n\u001B[1;32m    900\u001B[0m     \u001B[0;34m@\u001B[0m\u001B[0mproperty\u001B[0m\u001B[0;34m\u001B[0m\u001B[0;34m\u001B[0m\u001B[0m\n",
      "\u001B[0;32m~/opt/anaconda3/envs/flaskenv/lib/python3.7/json/__init__.py\u001B[0m in \u001B[0;36mloads\u001B[0;34m(s, encoding, cls, object_hook, parse_float, parse_int, parse_constant, object_pairs_hook, **kw)\u001B[0m\n\u001B[1;32m    346\u001B[0m             \u001B[0mparse_int\u001B[0m \u001B[0;32mis\u001B[0m \u001B[0;32mNone\u001B[0m \u001B[0;32mand\u001B[0m \u001B[0mparse_float\u001B[0m \u001B[0;32mis\u001B[0m \u001B[0;32mNone\u001B[0m \u001B[0;32mand\u001B[0m\u001B[0;34m\u001B[0m\u001B[0;34m\u001B[0m\u001B[0m\n\u001B[1;32m    347\u001B[0m             parse_constant is None and object_pairs_hook is None and not kw):\n\u001B[0;32m--> 348\u001B[0;31m         \u001B[0;32mreturn\u001B[0m \u001B[0m_default_decoder\u001B[0m\u001B[0;34m.\u001B[0m\u001B[0mdecode\u001B[0m\u001B[0;34m(\u001B[0m\u001B[0ms\u001B[0m\u001B[0;34m)\u001B[0m\u001B[0;34m\u001B[0m\u001B[0;34m\u001B[0m\u001B[0m\n\u001B[0m\u001B[1;32m    349\u001B[0m     \u001B[0;32mif\u001B[0m \u001B[0mcls\u001B[0m \u001B[0;32mis\u001B[0m \u001B[0;32mNone\u001B[0m\u001B[0;34m:\u001B[0m\u001B[0;34m\u001B[0m\u001B[0;34m\u001B[0m\u001B[0m\n\u001B[1;32m    350\u001B[0m         \u001B[0mcls\u001B[0m \u001B[0;34m=\u001B[0m \u001B[0mJSONDecoder\u001B[0m\u001B[0;34m\u001B[0m\u001B[0;34m\u001B[0m\u001B[0m\n",
      "\u001B[0;32m~/opt/anaconda3/envs/flaskenv/lib/python3.7/json/decoder.py\u001B[0m in \u001B[0;36mdecode\u001B[0;34m(self, s, _w)\u001B[0m\n\u001B[1;32m    338\u001B[0m         \u001B[0mend\u001B[0m \u001B[0;34m=\u001B[0m \u001B[0m_w\u001B[0m\u001B[0;34m(\u001B[0m\u001B[0ms\u001B[0m\u001B[0;34m,\u001B[0m \u001B[0mend\u001B[0m\u001B[0;34m)\u001B[0m\u001B[0;34m.\u001B[0m\u001B[0mend\u001B[0m\u001B[0;34m(\u001B[0m\u001B[0;34m)\u001B[0m\u001B[0;34m\u001B[0m\u001B[0;34m\u001B[0m\u001B[0m\n\u001B[1;32m    339\u001B[0m         \u001B[0;32mif\u001B[0m \u001B[0mend\u001B[0m \u001B[0;34m!=\u001B[0m \u001B[0mlen\u001B[0m\u001B[0;34m(\u001B[0m\u001B[0ms\u001B[0m\u001B[0;34m)\u001B[0m\u001B[0;34m:\u001B[0m\u001B[0;34m\u001B[0m\u001B[0;34m\u001B[0m\u001B[0m\n\u001B[0;32m--> 340\u001B[0;31m             \u001B[0;32mraise\u001B[0m \u001B[0mJSONDecodeError\u001B[0m\u001B[0;34m(\u001B[0m\u001B[0;34m\"Extra data\"\u001B[0m\u001B[0;34m,\u001B[0m \u001B[0ms\u001B[0m\u001B[0;34m,\u001B[0m \u001B[0mend\u001B[0m\u001B[0;34m)\u001B[0m\u001B[0;34m\u001B[0m\u001B[0;34m\u001B[0m\u001B[0m\n\u001B[0m\u001B[1;32m    341\u001B[0m         \u001B[0;32mreturn\u001B[0m \u001B[0mobj\u001B[0m\u001B[0;34m\u001B[0m\u001B[0;34m\u001B[0m\u001B[0m\n\u001B[1;32m    342\u001B[0m \u001B[0;34m\u001B[0m\u001B[0m\n",
      "\u001B[0;31mJSONDecodeError\u001B[0m: Extra data: line 1 column 5 (char 4)"
     ]
    }
   ],
   "source": [
    "post('/code-lists/cpih01/', is_ok=True)"
   ]
  },
  {
   "cell_type": "code",
   "execution_count": null,
   "metadata": {},
   "outputs": [],
   "source": [
    "\n",
    "post('/datasets/cpih01/editions/time-series/versions/6')['dimensions']"
   ]
  },
  {
   "cell_type": "markdown",
   "metadata": {},
   "source": [
    "`observations?time={timeLabel}&geography={geographyID}&dimension3={dimension3ID}&dimension4={dimension4ID}`"
   ]
  },
  {
   "cell_type": "code",
   "execution_count": 305,
   "metadata": {},
   "outputs": [
    {
     "name": "stdout",
     "output_type": "stream",
     "text": [
      "<Response [200]>\n"
     ]
    },
    {
     "data": {
      "text/plain": [
       "dict_keys(['@context', 'dimensions', 'limit', 'links', 'observations', 'offset', 'total_observations', 'unit_of_measure', 'usage_notes'])"
      ]
     },
     "execution_count": 305,
     "metadata": {},
     "output_type": "execute_result"
    }
   ],
   "source": [
    "post('/datasets/cpih01/editions/time-series/versions/30/observations?time=Oct-11&geography=K02000001&aggregate=*').keys()"
   ]
  },
  {
   "cell_type": "code",
   "execution_count": null,
   "metadata": {},
   "outputs": [],
   "source": [
    "# post('/datasets/cpih01/editions/time-series/versions/30/observations?time=Oct-11&geography=K02000001&aggregate=*')\\\n",
    "#     ['observations'][0]['dimensions']['aggregate']['id']"
   ]
  },
  {
   "cell_type": "code",
   "execution_count": 327,
   "metadata": {},
   "outputs": [
    {
     "name": "stdout",
     "output_type": "stream",
     "text": [
      "<Response [200]>\n"
     ]
    },
    {
     "data": {
      "text/plain": [
       "'09.1.2 Photographic, cinematographic and optical equipment'"
      ]
     },
     "execution_count": 327,
     "metadata": {},
     "output_type": "execute_result"
    }
   ],
   "source": [
    "post('/datasets/cpih01/editions/time-series/versions/30/observations?time=Jan-03&geography=K02000001&aggregate=*')\\\n",
    "    ['observations'][0]['dimensions']['aggregate']['label']"
   ]
  },
  {
   "cell_type": "code",
   "execution_count": 343,
   "metadata": {},
   "outputs": [
    {
     "name": "stdout",
     "output_type": "stream",
     "text": [
      "aggregate\n"
     ]
    }
   ],
   "source": [
    "for dimension in post('/datasets/cpih01/editions/time-series/versions/30/observations?time=Jan-03&geography=K02000001&aggregate=*')\\\n",
    "        ['observations'][0]['dimensions'].keys():\n",
    "    print(dimension)\n",
    "    \n",
    "    for i in range(20):\n",
    "    post('/datasets/cpih01/editions/time-series/versions/30/observations?time=Jan-03&geography=K02000001&aggregate=*')\\\n",
    "        ['observations'][i]['dimensions']['aggregate']['label']"
   ]
  },
  {
   "cell_type": "code",
   "execution_count": null,
   "metadata": {},
   "outputs": [],
   "source": [
    "# refactor this so we make one call, then iterate through the one call. rather than making unique calls for each loop\n",
    "for i in range(1):\n",
    "    post('/datasets/cpih01/editions/time-series/versions/30/observations?time=Jan-03&geography=K02000001&aggregate=*')\\\n",
    "    ['observations'][i]['dimensions']['aggregate']['label']"
   ]
  },
  {
   "cell_type": "code",
   "execution_count": 361,
   "metadata": {
    "scrolled": true
   },
   "outputs": [
    {
     "data": {
      "text/plain": [
       "[{'links': {'editions': {'href': 'https://api.beta.ons.gov.uk/v1/code-lists/countries/editions'},\n",
       "   'self': {'href': 'https://api.beta.ons.gov.uk/v1/code-lists/countries',\n",
       "    'id': 'countries'}}},\n",
       " {'links': {'editions': {'href': 'https://api.beta.ons.gov.uk/v1/code-lists/regions/editions'},\n",
       "   'self': {'href': 'https://api.beta.ons.gov.uk/v1/code-lists/regions',\n",
       "    'id': 'regions'}}},\n",
       " {'links': {'editions': {'href': 'https://api.beta.ons.gov.uk/v1/code-lists/cpi1dim1aggid/editions'},\n",
       "   'self': {'href': 'https://api.beta.ons.gov.uk/v1/code-lists/cpi1dim1aggid',\n",
       "    'id': 'cpi1dim1aggid'}}},\n",
       " {'links': {'editions': {'href': 'https://api.beta.ons.gov.uk/v1/code-lists/uk-only/editions'},\n",
       "   'self': {'href': 'https://api.beta.ons.gov.uk/v1/code-lists/uk-only',\n",
       "    'id': 'uk-only'}}},\n",
       " {'links': {'editions': {'href': 'https://api.beta.ons.gov.uk/v1/code-lists/cpih1dim1aggid/editions'},\n",
       "   'self': {'href': 'https://api.beta.ons.gov.uk/v1/code-lists/cpih1dim1aggid',\n",
       "    'id': 'cpih1dim1aggid'}}},\n",
       " {'links': {'editions': {'href': 'https://api.beta.ons.gov.uk/v1/code-lists/mid-year-pop-sex/editions'},\n",
       "   'self': {'href': 'https://api.beta.ons.gov.uk/v1/code-lists/mid-year-pop-sex',\n",
       "    'id': 'mid-year-pop-sex'}}},\n",
       " {'links': {'editions': {'href': 'https://api.beta.ons.gov.uk/v1/code-lists/calendar-years/editions'},\n",
       "   'self': {'href': 'https://api.beta.ons.gov.uk/v1/code-lists/calendar-years',\n",
       "    'id': 'calendar-years'}}},\n",
       " {'links': {'editions': {'href': 'https://api.beta.ons.gov.uk/v1/code-lists/mid-year-pop-geography/editions'},\n",
       "   'self': {'href': 'https://api.beta.ons.gov.uk/v1/code-lists/mid-year-pop-geography',\n",
       "    'id': 'mid-year-pop-geography'}}},\n",
       " {'links': {'editions': {'href': 'https://api.beta.ons.gov.uk/v1/code-lists/ashe-statistics/editions'},\n",
       "   'self': {'href': 'https://api.beta.ons.gov.uk/v1/code-lists/ashe-statistics',\n",
       "    'id': 'ashe-statistics'}}},\n",
       " {'links': {'editions': {'href': 'https://api.beta.ons.gov.uk/v1/code-lists/opss-benefit-type/editions'},\n",
       "   'self': {'href': 'https://api.beta.ons.gov.uk/v1/code-lists/opss-benefit-type',\n",
       "    'id': 'opss-benefit-type'}}},\n",
       " {'links': {'editions': {'href': 'https://api.beta.ons.gov.uk/v1/code-lists/ashe-earnings/editions'},\n",
       "   'self': {'href': 'https://api.beta.ons.gov.uk/v1/code-lists/ashe-earnings',\n",
       "    'id': 'ashe-earnings'}}},\n",
       " {'links': {'editions': {'href': 'https://api.beta.ons.gov.uk/v1/code-lists/mid-year-pop-age/editions'},\n",
       "   'self': {'href': 'https://api.beta.ons.gov.uk/v1/code-lists/mid-year-pop-age',\n",
       "    'id': 'mid-year-pop-age'}}},\n",
       " {'links': {'editions': {'href': 'https://api.beta.ons.gov.uk/v1/code-lists/opss-membership-type/editions'},\n",
       "   'self': {'href': 'https://api.beta.ons.gov.uk/v1/code-lists/opss-membership-type',\n",
       "    'id': 'opss-membership-type'}}},\n",
       " {'links': {'editions': {'href': 'https://api.beta.ons.gov.uk/v1/code-lists/opss-contributor/editions'},\n",
       "   'self': {'href': 'https://api.beta.ons.gov.uk/v1/code-lists/opss-contributor',\n",
       "    'id': 'opss-contributor'}}},\n",
       " {'links': {'editions': {'href': 'https://api.beta.ons.gov.uk/v1/code-lists/opss-public-private-sector/editions'},\n",
       "   'self': {'href': 'https://api.beta.ons.gov.uk/v1/code-lists/opss-public-private-sector',\n",
       "    'id': 'opss-public-private-sector'}}},\n",
       " {'links': {'editions': {'href': 'https://api.beta.ons.gov.uk/v1/code-lists/opss-scheme-membership-sizeband/editions'},\n",
       "   'self': {'href': 'https://api.beta.ons.gov.uk/v1/code-lists/opss-scheme-membership-sizeband',\n",
       "    'id': 'opss-scheme-membership-sizeband'}}},\n",
       " {'links': {'editions': {'href': 'https://api.beta.ons.gov.uk/v1/code-lists/opss-status/editions'},\n",
       "   'self': {'href': 'https://api.beta.ons.gov.uk/v1/code-lists/opss-status',\n",
       "    'id': 'opss-status'}}},\n",
       " {'links': {'editions': {'href': 'https://api.beta.ons.gov.uk/v1/code-lists/wellbeing-geography/editions'},\n",
       "   'self': {'href': 'https://api.beta.ons.gov.uk/v1/code-lists/wellbeing-geography',\n",
       "    'id': 'wellbeing-geography'}}},\n",
       " {'links': {'editions': {'href': 'https://api.beta.ons.gov.uk/v1/code-lists/time/editions'},\n",
       "   'self': {'href': 'https://api.beta.ons.gov.uk/v1/code-lists/time',\n",
       "    'id': 'time'}}},\n",
       " {'links': {'editions': {'href': 'https://api.beta.ons.gov.uk/v1/code-lists/wellbeing-estimate/editions'},\n",
       "   'self': {'href': 'https://api.beta.ons.gov.uk/v1/code-lists/wellbeing-estimate',\n",
       "    'id': 'wellbeing-estimate'}}},\n",
       " {'links': {'editions': {'href': 'https://api.beta.ons.gov.uk/v1/code-lists/wellbeing-measureofwellbeing/editions'},\n",
       "   'self': {'href': 'https://api.beta.ons.gov.uk/v1/code-lists/wellbeing-measureofwellbeing',\n",
       "    'id': 'wellbeing-measureofwellbeing'}}},\n",
       " {'links': {'editions': {'href': 'https://api.beta.ons.gov.uk/v1/code-lists/ashe-hours/editions'},\n",
       "   'self': {'href': 'https://api.beta.ons.gov.uk/v1/code-lists/ashe-hours',\n",
       "    'id': 'ashe-hours'}}},\n",
       " {'links': {'editions': {'href': 'https://api.beta.ons.gov.uk/v1/code-lists/ashe-sex/editions'},\n",
       "   'self': {'href': 'https://api.beta.ons.gov.uk/v1/code-lists/ashe-sex',\n",
       "    'id': 'ashe-sex'}}},\n",
       " {'links': {'editions': {'href': 'https://api.beta.ons.gov.uk/v1/code-lists/year-ending/editions'},\n",
       "   'self': {'href': 'https://api.beta.ons.gov.uk/v1/code-lists/year-ending',\n",
       "    'id': 'year-ending'}}},\n",
       " {'links': {'editions': {'href': 'https://api.beta.ons.gov.uk/v1/code-lists/ashe-working-pattern/editions'},\n",
       "   'self': {'href': 'https://api.beta.ons.gov.uk/v1/code-lists/ashe-working-pattern',\n",
       "    'id': 'ashe-working-pattern'}}},\n",
       " {'links': {'editions': {'href': 'https://api.beta.ons.gov.uk/v1/code-lists/ashe-geography/editions'},\n",
       "   'self': {'href': 'https://api.beta.ons.gov.uk/v1/code-lists/ashe-geography',\n",
       "    'id': 'ashe-geography'}}},\n",
       " {'links': {'editions': {'href': 'https://api.beta.ons.gov.uk/v1/code-lists/local-authority/editions'},\n",
       "   'self': {'href': 'https://api.beta.ons.gov.uk/v1/code-lists/local-authority',\n",
       "    'id': 'local-authority'}}},\n",
       " {'links': {'editions': {'href': 'https://api.beta.ons.gov.uk/v1/code-lists/ashe-hours-and-earnings/editions'},\n",
       "   'self': {'href': 'https://api.beta.ons.gov.uk/v1/code-lists/ashe-hours-and-earnings',\n",
       "    'id': 'ashe-hours-and-earnings'}}},\n",
       " {'links': {'editions': {'href': 'https://api.beta.ons.gov.uk/v1/code-lists/ashe-workplace-or-residence/editions'},\n",
       "   'self': {'href': 'https://api.beta.ons.gov.uk/v1/code-lists/ashe-workplace-or-residence',\n",
       "    'id': 'ashe-workplace-or-residence'}}},\n",
       " {'links': {'editions': {'href': 'https://api.beta.ons.gov.uk/v1/code-lists/admin-geography/editions'},\n",
       "   'self': {'href': 'https://api.beta.ons.gov.uk/v1/code-lists/admin-geography',\n",
       "    'id': 'admin-geography'}}},\n",
       " {'links': {'editions': {'href': 'https://api.beta.ons.gov.uk/v1/code-lists/yyyy-yy/editions'},\n",
       "   'self': {'href': 'https://api.beta.ons.gov.uk/v1/code-lists/yyyy-yy',\n",
       "    'id': 'yyyy-yy'}}},\n",
       " {'links': {'editions': {'href': 'https://api.beta.ons.gov.uk/v1/code-lists/trade-country/editions'},\n",
       "   'self': {'href': 'https://api.beta.ons.gov.uk/v1/code-lists/trade-country',\n",
       "    'id': 'trade-country'}}},\n",
       " {'links': {'editions': {'href': 'https://api.beta.ons.gov.uk/v1/code-lists/trade-direction/editions'},\n",
       "   'self': {'href': 'https://api.beta.ons.gov.uk/v1/code-lists/trade-direction',\n",
       "    'id': 'trade-direction'}}},\n",
       " {'links': {'editions': {'href': 'https://api.beta.ons.gov.uk/v1/code-lists/mmm-yy/editions'},\n",
       "   'self': {'href': 'https://api.beta.ons.gov.uk/v1/code-lists/mmm-yy',\n",
       "    'id': 'mmm-yy'}}},\n",
       " {'links': {'editions': {'href': 'https://api.beta.ons.gov.uk/v1/code-lists/two-year-intervals/editions'},\n",
       "   'self': {'href': 'https://api.beta.ons.gov.uk/v1/code-lists/two-year-intervals',\n",
       "    'id': 'two-year-intervals'}}},\n",
       " {'links': {'editions': {'href': 'https://api.beta.ons.gov.uk/v1/code-lists/birth-cohort/editions'},\n",
       "   'self': {'href': 'https://api.beta.ons.gov.uk/v1/code-lists/birth-cohort',\n",
       "    'id': 'birth-cohort'}}},\n",
       " {'links': {'editions': {'href': 'https://api.beta.ons.gov.uk/v1/code-lists/life-expectancy-variable/editions'},\n",
       "   'self': {'href': 'https://api.beta.ons.gov.uk/v1/code-lists/life-expectancy-variable',\n",
       "    'id': 'life-expectancy-variable'}}},\n",
       " {'links': {'editions': {'href': 'https://api.beta.ons.gov.uk/v1/code-lists/uk-business-unit/editions'},\n",
       "   'self': {'href': 'https://api.beta.ons.gov.uk/v1/code-lists/uk-business-unit',\n",
       "    'id': 'uk-business-unit'}}},\n",
       " {'links': {'editions': {'href': 'https://api.beta.ons.gov.uk/v1/code-lists/uk-business-broad-industry-group/editions'},\n",
       "   'self': {'href': 'https://api.beta.ons.gov.uk/v1/code-lists/uk-business-broad-industry-group',\n",
       "    'id': 'uk-business-broad-industry-group'}}},\n",
       " {'links': {'editions': {'href': 'https://api.beta.ons.gov.uk/v1/code-lists/trade-commodity/editions'},\n",
       "   'self': {'href': 'https://api.beta.ons.gov.uk/v1/code-lists/trade-commodity',\n",
       "    'id': 'trade-commodity'}}},\n",
       " {'links': {'editions': {'href': 'https://api.beta.ons.gov.uk/v1/code-lists/housing-rental-prices-variable/editions'},\n",
       "   'self': {'href': 'https://api.beta.ons.gov.uk/v1/code-lists/housing-rental-prices-variable',\n",
       "    'id': 'housing-rental-prices-variable'}}},\n",
       " {'links': {'editions': {'href': 'https://api.beta.ons.gov.uk/v1/code-lists/lms-economic-status/editions'},\n",
       "   'self': {'href': 'https://api.beta.ons.gov.uk/v1/code-lists/lms-economic-status',\n",
       "    'id': 'lms-economic-status'}}},\n",
       " {'links': {'editions': {'href': 'https://api.beta.ons.gov.uk/v1/code-lists/business-investment-instrument-asset/editions'},\n",
       "   'self': {'href': 'https://api.beta.ons.gov.uk/v1/code-lists/business-investment-instrument-asset',\n",
       "    'id': 'business-investment-instrument-asset'}}},\n",
       " {'links': {'editions': {'href': 'https://api.beta.ons.gov.uk/v1/code-lists/sic/editions'},\n",
       "   'self': {'href': 'https://api.beta.ons.gov.uk/v1/code-lists/sic',\n",
       "    'id': 'sic'}}},\n",
       " {'links': {'editions': {'href': 'https://api.beta.ons.gov.uk/v1/code-lists/business-investment-activity/editions'},\n",
       "   'self': {'href': 'https://api.beta.ons.gov.uk/v1/code-lists/business-investment-activity',\n",
       "    'id': 'business-investment-activity'}}},\n",
       " {'links': {'editions': {'href': 'https://api.beta.ons.gov.uk/v1/code-lists/business-investment-prices/editions'},\n",
       "   'self': {'href': 'https://api.beta.ons.gov.uk/v1/code-lists/business-investment-prices',\n",
       "    'id': 'business-investment-prices'}}},\n",
       " {'links': {'editions': {'href': 'https://api.beta.ons.gov.uk/v1/code-lists/mmm-mmm-yyyy/editions'},\n",
       "   'self': {'href': 'https://api.beta.ons.gov.uk/v1/code-lists/mmm-mmm-yyyy',\n",
       "    'id': 'mmm-mmm-yyyy'}}},\n",
       " {'links': {'editions': {'href': 'https://api.beta.ons.gov.uk/v1/code-lists/seasonal-adjustment/editions'},\n",
       "   'self': {'href': 'https://api.beta.ons.gov.uk/v1/code-lists/seasonal-adjustment',\n",
       "    'id': 'seasonal-adjustment'}}},\n",
       " {'links': {'editions': {'href': 'https://api.beta.ons.gov.uk/v1/code-lists/lms-age-bracket/editions'},\n",
       "   'self': {'href': 'https://api.beta.ons.gov.uk/v1/code-lists/lms-age-bracket',\n",
       "    'id': 'lms-age-bracket'}}},\n",
       " {'links': {'editions': {'href': 'https://api.beta.ons.gov.uk/v1/code-lists/unit-of-measure/editions'},\n",
       "   'self': {'href': 'https://api.beta.ons.gov.uk/v1/code-lists/unit-of-measure',\n",
       "    'id': 'unit-of-measure'}}},\n",
       " {'links': {'editions': {'href': 'https://api.beta.ons.gov.uk/v1/code-lists/parliamentary-geography/editions'},\n",
       "   'self': {'href': 'https://api.beta.ons.gov.uk/v1/code-lists/parliamentary-geography',\n",
       "    'id': 'parliamentary-geography'}}},\n",
       " {'links': {'editions': {'href': 'https://api.beta.ons.gov.uk/v1/code-lists/travel-to-work-geography/editions'},\n",
       "   'self': {'href': 'https://api.beta.ons.gov.uk/v1/code-lists/travel-to-work-geography',\n",
       "    'id': 'travel-to-work-geography'}}},\n",
       " {'links': {'editions': {'href': 'https://api.beta.ons.gov.uk/v1/code-lists/adult-sex/editions'},\n",
       "   'self': {'href': 'https://api.beta.ons.gov.uk/v1/code-lists/adult-sex',\n",
       "    'id': 'adult-sex'}}},\n",
       " {'links': {'editions': {'href': 'https://api.beta.ons.gov.uk/v1/code-lists/yyyy-qq/editions'},\n",
       "   'self': {'href': 'https://api.beta.ons.gov.uk/v1/code-lists/yyyy-qq',\n",
       "    'id': 'yyyy-qq'}}},\n",
       " {'links': {'editions': {'href': 'https://api.beta.ons.gov.uk/v1/code-lists/gdp-sic/editions'},\n",
       "   'self': {'href': 'https://api.beta.ons.gov.uk/v1/code-lists/gdp-sic',\n",
       "    'id': 'gdp-sic'}}},\n",
       " {'links': {'editions': {'href': 'https://api.beta.ons.gov.uk/v1/code-lists/gdp-measure/editions'},\n",
       "   'self': {'href': 'https://api.beta.ons.gov.uk/v1/code-lists/gdp-measure',\n",
       "    'id': 'gdp-measure'}}},\n",
       " {'links': {'editions': {'href': 'https://api.beta.ons.gov.uk/v1/code-lists/type-of-prices/editions'},\n",
       "   'self': {'href': 'https://api.beta.ons.gov.uk/v1/code-lists/type-of-prices',\n",
       "    'id': 'type-of-prices'}}},\n",
       " {'links': {'editions': {'href': 'https://api.beta.ons.gov.uk/v1/code-lists/nuts-geography/editions'},\n",
       "   'self': {'href': 'https://api.beta.ons.gov.uk/v1/code-lists/nuts-geography',\n",
       "    'id': 'nuts-geography'}}},\n",
       " {'links': {'editions': {'href': 'https://api.beta.ons.gov.uk/v1/code-lists/children-sex/editions'},\n",
       "   'self': {'href': 'https://api.beta.ons.gov.uk/v1/code-lists/children-sex',\n",
       "    'id': 'children-sex'}}},\n",
       " {'links': {'editions': {'href': 'https://api.beta.ons.gov.uk/v1/code-lists/decades/editions'},\n",
       "   'self': {'href': 'https://api.beta.ons.gov.uk/v1/code-lists/decades',\n",
       "    'id': 'decades'}}},\n",
       " {'links': {'editions': {'href': 'https://api.beta.ons.gov.uk/v1/code-lists/awe-earnings/editions'},\n",
       "   'self': {'href': 'https://api.beta.ons.gov.uk/v1/code-lists/awe-earnings',\n",
       "    'id': 'awe-earnings'}}},\n",
       " {'links': {'editions': {'href': 'https://api.beta.ons.gov.uk/v1/code-lists/tax-benefit-type/editions'},\n",
       "   'self': {'href': 'https://api.beta.ons.gov.uk/v1/code-lists/tax-benefit-type',\n",
       "    'id': 'tax-benefit-type'}}},\n",
       " {'links': {'editions': {'href': 'https://api.beta.ons.gov.uk/v1/code-lists/sector/editions'},\n",
       "   'self': {'href': 'https://api.beta.ons.gov.uk/v1/code-lists/sector',\n",
       "    'id': 'sector'}}},\n",
       " {'links': {'editions': {'href': 'https://api.beta.ons.gov.uk/v1/code-lists/awe-type-of-pay/editions'},\n",
       "   'self': {'href': 'https://api.beta.ons.gov.uk/v1/code-lists/awe-type-of-pay',\n",
       "    'id': 'awe-type-of-pay'}}},\n",
       " {'links': {'editions': {'href': 'https://api.beta.ons.gov.uk/v1/code-lists/age-groups/editions'},\n",
       "   'self': {'href': 'https://api.beta.ons.gov.uk/v1/code-lists/age-groups',\n",
       "    'id': 'age-groups'}}},\n",
       " {'links': {'editions': {'href': 'https://api.beta.ons.gov.uk/v1/code-lists/soc/editions'},\n",
       "   'self': {'href': 'https://api.beta.ons.gov.uk/v1/code-lists/soc',\n",
       "    'id': 'soc'}}},\n",
       " {'links': {'editions': {'href': 'https://api.beta.ons.gov.uk/v1/code-lists/local-enterprise-partnership-geography/editions'},\n",
       "   'self': {'href': 'https://api.beta.ons.gov.uk/v1/code-lists/local-enterprise-partnership-geography',\n",
       "    'id': 'local-enterprise-partnership-geography'}}},\n",
       " {'links': {'editions': {'href': 'https://api.beta.ons.gov.uk/v1/code-lists/property-type/editions'},\n",
       "   'self': {'href': 'https://api.beta.ons.gov.uk/v1/code-lists/property-type',\n",
       "    'id': 'property-type'}}},\n",
       " {'links': {'editions': {'href': 'https://api.beta.ons.gov.uk/v1/code-lists/house-price-variable/editions'},\n",
       "   'self': {'href': 'https://api.beta.ons.gov.uk/v1/code-lists/house-price-variable',\n",
       "    'id': 'house-price-variable'}}},\n",
       " {'links': {'editions': {'href': 'https://api.beta.ons.gov.uk/v1/code-lists/house-price-age/editions'},\n",
       "   'self': {'href': 'https://api.beta.ons.gov.uk/v1/code-lists/house-price-age',\n",
       "    'id': 'house-price-age'}}},\n",
       " {'links': {'editions': {'href': 'https://api.beta.ons.gov.uk/v1/code-lists/economic-activity/editions'},\n",
       "   'self': {'href': 'https://api.beta.ons.gov.uk/v1/code-lists/economic-activity',\n",
       "    'id': 'economic-activity'}}},\n",
       " {'links': {'editions': {'href': 'https://api.beta.ons.gov.uk/v1/code-lists/mmm/editions'},\n",
       "   'self': {'href': 'https://api.beta.ons.gov.uk/v1/code-lists/mmm',\n",
       "    'id': 'mmm'}}},\n",
       " {'links': {'editions': {'href': 'https://api.beta.ons.gov.uk/v1/code-lists/healthcare-financing-scheme/editions'},\n",
       "   'self': {'href': 'https://api.beta.ons.gov.uk/v1/code-lists/healthcare-financing-scheme',\n",
       "    'id': 'healthcare-financing-scheme'}}},\n",
       " {'links': {'editions': {'href': 'https://api.beta.ons.gov.uk/v1/code-lists/healthcare-provider/editions'},\n",
       "   'self': {'href': 'https://api.beta.ons.gov.uk/v1/code-lists/healthcare-provider',\n",
       "    'id': 'healthcare-provider'}}},\n",
       " {'links': {'editions': {'href': 'https://api.beta.ons.gov.uk/v1/code-lists/healthcare-function/editions'},\n",
       "   'self': {'href': 'https://api.beta.ons.gov.uk/v1/code-lists/healthcare-function',\n",
       "    'id': 'healthcare-function'}}},\n",
       " {'links': {'editions': {'href': 'https://api.beta.ons.gov.uk/v1/code-lists/week-number/editions'},\n",
       "   'self': {'href': 'https://api.beta.ons.gov.uk/v1/code-lists/week-number',\n",
       "    'id': 'week-number'}}},\n",
       " {'links': {'editions': {'href': 'https://api.beta.ons.gov.uk/v1/code-lists/recorded-deaths/editions'},\n",
       "   'self': {'href': 'https://api.beta.ons.gov.uk/v1/code-lists/recorded-deaths',\n",
       "    'id': 'recorded-deaths'}}},\n",
       " {'links': {'editions': {'href': 'https://api.beta.ons.gov.uk/v1/code-lists/cause-of-death/editions'},\n",
       "   'self': {'href': 'https://api.beta.ons.gov.uk/v1/code-lists/cause-of-death',\n",
       "    'id': 'cause-of-death'}}},\n",
       " {'links': {'editions': {'href': 'https://api.beta.ons.gov.uk/v1/code-lists/place-of-death/editions'},\n",
       "   'self': {'href': 'https://api.beta.ons.gov.uk/v1/code-lists/place-of-death',\n",
       "    'id': 'place-of-death'}}},\n",
       " {'links': {'editions': {'href': 'https://api.beta.ons.gov.uk/v1/code-lists/registration-or-occurrence/editions'},\n",
       "   'self': {'href': 'https://api.beta.ons.gov.uk/v1/code-lists/registration-or-occurrence',\n",
       "    'id': 'registration-or-occurrence'}}},\n",
       " {'links': {'editions': {'href': 'https://api.beta.ons.gov.uk/v1/code-lists/health-board/editions'},\n",
       "   'self': {'href': 'https://api.beta.ons.gov.uk/v1/code-lists/health-board',\n",
       "    'id': 'health-board'}}}]"
      ]
     },
     "execution_count": 361,
     "metadata": {},
     "output_type": "execute_result"
    }
   ],
   "source": [
    "post('/code-lists')['items']"
   ]
  },
  {
   "cell_type": "code",
   "execution_count": 367,
   "metadata": {},
   "outputs": [
    {
     "data": {
      "text/plain": [
       "{'links': {'editions': {'href': 'https://api.beta.ons.gov.uk/v1/code-lists/wellbeing-estimate/editions'},\n",
       "  'self': {'href': 'https://api.beta.ons.gov.uk/v1/code-lists/wellbeing-estimate',\n",
       "   'id': 'wellbeing-estimate'}}}"
      ]
     },
     "execution_count": 367,
     "metadata": {},
     "output_type": "execute_result"
    }
   ],
   "source": [
    "post('code-lists/wellbeing-estimate')"
   ]
  },
  {
   "cell_type": "code",
   "execution_count": null,
   "metadata": {},
   "outputs": [],
   "source": []
  }
 ],
 "metadata": {
  "kernelspec": {
   "name": "python3",
   "language": "python",
   "display_name": "Python 3"
  },
  "language_info": {
   "codemirror_mode": {
    "name": "ipython",
    "version": 3
   },
   "file_extension": ".py",
   "mimetype": "text/x-python",
   "name": "python",
   "nbconvert_exporter": "python",
   "pygments_lexer": "ipython3",
   "version": "3.7.6"
  }
 },
 "nbformat": 4,
 "nbformat_minor": 4
}